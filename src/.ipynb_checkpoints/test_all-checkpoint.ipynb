{
 "cells": [
  {
   "cell_type": "code",
   "execution_count": 1,
   "metadata": {},
   "outputs": [],
   "source": [
    "import os\n",
    "os.environ['KMP_DUPLICATE_LIB_OK']='True'\n",
    "\n",
    "from torch_utils import *\n",
    "from dataset import Dataset\n",
    "from basicnet import Net\n",
    "import matplotlib.pyplot as plt\n",
    "\n",
    "device = torch.device(\"cpu\")\n",
    "if torch.cuda.is_available():\n",
    "    device = torch.device(\"cuda\")\n",
    "\n",
    "params = {'benchmark': 'adult', 'maxlen': 0, 'batch_size': 500,\n",
    "          'split': [0.7, 0.2, 0.1], 'seed': 2,\n",
    "          'epochs': 100, 'lr': 0.001}\n",
    "data = Dataset(params, 'train', device)\n",
    "\n",
    "model = Net(data.nfeatures, [10,5])\n",
    "loss_fn = nn.BCELoss()\n",
    "optimizer = optim.Adam(model.parameters(), lr=params['lr'])"
   ]
  },
  {
   "cell_type": "code",
   "execution_count": 2,
   "metadata": {},
   "outputs": [
    {
     "data": {
      "text/plain": [
       "[<matplotlib.lines.Line2D at 0x7fcff820a748>]"
      ]
     },
     "execution_count": 2,
     "metadata": {},
     "output_type": "execute_result"
    },
    {
     "data": {
      "image/png": "[encoded data removed]",
      "text/plain": [
       "<Figure size 432x288 with 1 Axes>"
      ]
     },
     "metadata": {
      "needs_background": "light"
     },
     "output_type": "display_data"
    }
   ],
   "source": [
    "y_loss=[]\n",
    "for epoch in range(params['epochs']):\n",
    "    for (x, y) in data:\n",
    "        (x, y) = x.to(device), y.to(device)\n",
    "        optimizer.zero_grad()\n",
    "        ŷ = model(x)\n",
    "        loss = loss_fn(ŷ, y)\n",
    "        y_loss.append(loss.item())\n",
    "        loss.backward()\n",
    "        optimizer.step()\n",
    "        \n",
    "plt.plot(y_loss)"
   ]
  },
  {
   "cell_type": "code",
   "execution_count": 14,
   "metadata": {},
   "outputs": [],
   "source": [
    "from cache import Cache\n",
    "cache = Cache(2) # we'll use only the hidden layers\n",
    "\n",
    "for epoch in range(params['epochs']):\n",
    "    for (x, y) in data:\n",
    "        (x, y) = x.to(device), y.to(device)\n",
    "        h2 = model.get_embedding(x, 1) \n",
    "        cache.store(h2, 1)\n",
    "\n",
    "        h3 = model.get_embedding(x, 2) \n",
    "        cache.store(h3, 2)"
   ]
  },
  {
   "cell_type": "code",
   "execution_count": 17,
   "metadata": {},
   "outputs": [
    {
     "name": "stdout",
     "output_type": "stream",
     "text": [
      "0\n",
      "1\n",
      "2\n",
      "3\n",
      "4\n"
     ]
    }
   ],
   "source": [
    "from autoencoder import AutoEncoder\n",
    "ae1 = AutoEncoder(model._l_dim[1], 2)\n",
    "ae2 = AutoEncoder(model._l_dim[2], 2)\n",
    "\n",
    "ae_loss1 = nn.MSELoss()\n",
    "ae_loss2 = nn.MSELoss()\n",
    "opt1 = optim.Adam(ae1.parameters(), lr=0.001)\n",
    "opt2 = optim.Adam(ae2.parameters(), lr=0.001)\n",
    "\n",
    "y1_loss=[]\n",
    "y2_loss=[]\n",
    "\n",
    "for epoch in range(5):#params['epochs']):\n",
    "    for x1 in cache.embeddings[1]:\n",
    "        opt1.zero_grad()\n",
    "        x̃1 = ae1(x1)\n",
    "        l1 = ae_loss1(x̃1, x1)\n",
    "        l1.backward(retain_graph=True)\n",
    "        opt1.step() \n",
    "        y1_loss.append(l1.item())\n",
    "    \n",
    "    for x2 in cache.embeddings[2]:\n",
    "        opt2.zero_grad()\n",
    "        x̃2 = ae2(x2)\n",
    "        l2 = ae_loss2(x̃2, x2)\n",
    "        l2.backward(retain_graph=True)\n",
    "        opt2.step()\n",
    "        y2_loss.append(l2.item())"
   ]
  },
  {
   "cell_type": "code",
   "execution_count": 20,
   "metadata": {},
   "outputs": [
    {
     "data": {
      "text/plain": [
       "<matplotlib.legend.Legend at 0x7fd0083a3e48>"
      ]
     },
     "execution_count": 20,
     "metadata": {},
     "output_type": "execute_result"
    },
    {
     "data": {
      "image/png": "[encoded data removed]",
      "text/plain": [
       "<Figure size 432x288 with 1 Axes>"
      ]
     },
     "metadata": {
      "needs_background": "light"
     },
     "output_type": "display_data"
    }
   ],
   "source": [
    "plt.plot(y1_loss)\n",
    "plt.plot(y2_loss)\n",
    "plt.legend(['h1', 'h2'])"
   ]
  },
  {
   "cell_type": "code",
   "execution_count": null,
   "metadata": {},
   "outputs": [],
   "source": []
  }
 ],
 "metadata": {
  "kernelspec": {
   "display_name": "Python 3",
   "language": "python",
   "name": "python3"
  },
  "language_info": {
   "codemirror_mode": {
    "name": "ipython",
    "version": 3
   },
   "file_extension": ".py",
   "mimetype": "text/x-python",
   "name": "python",
   "nbconvert_exporter": "python",
   "pygments_lexer": "ipython3",
   "version": "3.7.0"
  }
 },
 "nbformat": 4,
 "nbformat_minor": 2
}
