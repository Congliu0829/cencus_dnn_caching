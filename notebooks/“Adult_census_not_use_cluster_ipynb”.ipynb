{
  "nbformat": 4,
  "nbformat_minor": 0,
  "metadata": {
    "kernelspec": {
      "display_name": "Python 3",
      "language": "python",
      "name": "python3"
    },
    "language_info": {
      "codemirror_mode": {
        "name": "ipython",
        "version": 3
      },
      "file_extension": ".py",
      "mimetype": "text/x-python",
      "name": "python",
      "nbconvert_exporter": "python",
      "pygments_lexer": "ipython3",
      "version": "3.7.6"
    },
    "colab": {
      "name": "“Adult_census_not_use_cluster.ipynb”",
      "provenance": [],
      "collapsed_sections": [
        "koTycTQZ-GaO",
        "qpONImWvlLmw",
        "hB_zHF-fSS1V"
      ],
      "machine_shape": "hm"
    }
  },
  "cells": [
    {
      "cell_type": "code",
      "metadata": {
        "id": "U600zb7_-GZ3",
        "colab_type": "code",
        "colab": {}
      },
      "source": [
        "import sys\n",
        "sys.path.append('/content/adult.csv')\n",
        "from utils import * \n",
        "from model import *\n"
      ],
      "execution_count": 1,
      "outputs": []
    },
    {
      "cell_type": "code",
      "metadata": {
        "id": "6O9C82Wn-GaE",
        "colab_type": "code",
        "colab": {}
      },
      "source": [
        "import matplotlib.pyplot as plt\n",
        "def plot_acc_fairness(model):\n",
        "    f, axes = plt.subplots(figsize=(16, 6), nrows=1, ncols=2, sharex=True, sharey=False)\n",
        "    curr_ax = axes[0]\n",
        "    curr_ax.plot( [x[0] for x in model.logs])\n",
        "    curr_ax.set_ylabel('Model Accuracy', fontsize = 20)\n",
        "    curr_ax.set_xlabel('Epochs', fontsize = 20)\n",
        "    curr_ax.tick_params(axis=\"x\", labelsize=15) \n",
        "    plt.show()\n",
        "    \n",
        "    "
      ],
      "execution_count": 2,
      "outputs": []
    },
    {
      "cell_type": "code",
      "metadata": {
        "id": "M3l6mM_X-GaI",
        "colab_type": "code",
        "colab": {}
      },
      "source": [
        "from utils import * \n",
        "from model import *\n",
        "pd00, label_name, feats = load_data('census')\n",
        "seed = 0\n",
        "X_train, X_val, X_test, y_train, y_val, y_test = get_data_loader(pd00, feats, label_name, seed=seed)\n",
        "params = {}\n",
        "params['X_train'] = X_train\n",
        "params['X_val'] = X_val\n",
        "params['y_train'] = y_train\n",
        "params['y_val'] = y_val\n",
        "params['device'] = 'cpu'\n",
        "params['bs'] = 256\n",
        "options = {}\n",
        "options['model_lr'] = 1e-3\n",
        "\n",
        "options['epochs'] = 400\n",
        "input_dim = X_train.shape[1]\n",
        "options['input_size'] = input_dim\n",
        "\n",
        "\n"
      ],
      "execution_count": 3,
      "outputs": []
    },
    {
      "cell_type": "code",
      "metadata": {
        "id": "HV7gi6PF-GaL",
        "colab_type": "code",
        "colab": {}
      },
      "source": [
        "## GRID SEARCH TO SELECT OPTIMAL NETWORK STRUCTURE\n",
        "grid_search_list = []\n",
        "options['acc_only'] = True #  Accuracy as the Metric to select Optimal Network  \n",
        "options['step_size'] = 0.0 # Disable step-size if you only need to learn a simple classifier (w.o fairness)\n",
        "options['lr_mult'] = 0  # also need to set the initial Multipliers to be zeroes\n",
        "\n",
        "for n_gen in [int(x) for x in np.linspace(input_dim / 2, input_dim - 1, 2)]:\n",
        "    for n_z in [int(x) for x in np.linspace(input_dim / 5 + 1, input_dim / 2, 2)]:\n",
        "        if n_z < n_gen:\n",
        "            curr_options = copy.deepcopy(options)\n",
        "            curr_options['model_params'] = {'input_size': input_dim, 'gen_nnodes_list': [n_gen],\n",
        "                                            'z1_nnodes_list': [n_z], \\\n",
        "                                            'z0_nnodes_list': [n_z]}\n",
        "            grid_search_list.append(curr_options)"
      ],
      "execution_count": 4,
      "outputs": []
    },
    {
      "cell_type": "markdown",
      "metadata": {
        "id": "koTycTQZ-GaO",
        "colab_type": "text"
      },
      "source": [
        "### 1. A simple Deep Network Classifier"
      ]
    },
    {
      "cell_type": "code",
      "metadata": {
        "id": "w7vXefdh-GaO",
        "colab_type": "code",
        "colab": {
          "base_uri": "https://localhost:8080/",
          "height": 88
        },
        "outputId": "8b0e427e-f588-4df3-a76c-2ba7db9c08b5"
      },
      "source": [
        "# A simple deep network classifier without fairness\n",
        "mc_model = LDSharedModel(params)\n",
        "mc_model.hyper_opt(grid_search_list)"
      ],
      "execution_count": 5,
      "outputs": [
        {
          "output_type": "stream",
          "text": [
            "{'model_lr': 0.001, 'epochs': 400, 'input_size': 12, 'acc_only': True, 'step_size': 0.0, 'lr_mult': 0, 'model_params': {'input_size': 12, 'gen_nnodes_list': [6], 'z1_nnodes_list': [3], 'z0_nnodes_list': [3]}}\n",
            "{'model_lr': 0.001, 'epochs': 400, 'input_size': 12, 'acc_only': True, 'step_size': 0.0, 'lr_mult': 0, 'model_params': {'input_size': 12, 'gen_nnodes_list': [11], 'z1_nnodes_list': [3], 'z0_nnodes_list': [3]}}\n",
            "{'model_lr': 0.001, 'epochs': 400, 'input_size': 12, 'acc_only': True, 'step_size': 0.0, 'lr_mult': 0, 'model_params': {'input_size': 12, 'gen_nnodes_list': [11], 'z1_nnodes_list': [6], 'z0_nnodes_list': [6]}}\n"
          ],
          "name": "stdout"
        }
      ]
    },
    {
      "cell_type": "code",
      "metadata": {
        "id": "esDtftou-GaQ",
        "colab_type": "code",
        "colab": {
          "base_uri": "https://localhost:8080/",
          "height": 406
        },
        "outputId": "ca9aa884-61f1-4c4a-e3cb-187a3aa69d74"
      },
      "source": [
        "plot_acc_fairness(mc_model)"
      ],
      "execution_count": 6,
      "outputs": [
        {
          "output_type": "display_data",
          "data": {
            "image/png": "[encoded data removed]",
            "text/plain": [
              "<Figure size 1152x432 with 2 Axes>"
            ]
          },
          "metadata": {
            "tags": [],
            "needs_background": "light"
          }
        }
      ]
    },
    {
      "cell_type": "code",
      "metadata": {
        "id": "jcr6g_gL-GaT",
        "colab_type": "code",
        "colab": {
          "base_uri": "https://localhost:8080/",
          "height": 54
        },
        "outputId": "8239371a-b447-4076-fc98-404f810b1d2f"
      },
      "source": [
        "best_options = mc_model.best_options\n",
        "print(best_options)"
      ],
      "execution_count": 7,
      "outputs": [
        {
          "output_type": "stream",
          "text": [
            "{'model_lr': 0.001, 'epochs': 400, 'input_size': 12, 'acc_only': True, 'step_size': 0.0, 'lr_mult': 0, 'model_params': {'input_size': 12, 'gen_nnodes_list': [6], 'z1_nnodes_list': [3], 'z0_nnodes_list': [3]}, 'return_output': True}\n"
          ],
          "name": "stdout"
        }
      ]
    },
    {
      "cell_type": "markdown",
      "metadata": {
        "id": "qpONImWvlLmw",
        "colab_type": "text"
      },
      "source": [
        "\n",
        "\n",
        "### 2.   Use best_option to train Basic Net\n",
        "\n",
        "\n"
      ]
    },
    {
      "cell_type": "code",
      "metadata": {
        "id": "gC7QAj7gN7qP",
        "colab_type": "code",
        "colab": {}
      },
      "source": [
        "import os\n",
        "os.environ['KMP_DUPLICATE_LIB_OK']='True'\n",
        "\n",
        "from torch_utils import *\n",
        "from dataset import Dataset\n",
        "from basicnet import Net\n",
        "import matplotlib.pyplot as plt\n",
        "\n",
        "\n",
        "device = torch.device(\"cpu\")\n",
        "if torch.cuda.is_available():\n",
        "    device = torch.device(\"cuda\")\n",
        "\n",
        "params = {'benchmark': 'adult', 'maxlen': 0, 'batch_size': 500,\n",
        "          'split': [0.7, 0.2, 0.1], 'seed': 0,\n",
        "          'epochs': 100, 'lr': 0.001}\n",
        "data = Dataset(params, 'train', device)\n",
        "model = Net(data.nfeatures, [10,5])\n",
        "\n",
        "loss_fn = nn.BCELoss()\n",
        "optimizer = optim.Adam(model.parameters(), lr=params['lr'])"
      ],
      "execution_count": 8,
      "outputs": []
    },
    {
      "cell_type": "code",
      "metadata": {
        "id": "BKC5c6nfRihn",
        "colab_type": "code",
        "colab": {}
      },
      "source": [
        "from cache import Cache\n",
        "cache = Cache(2) # we'll use only the hidden layers\n",
        "\n",
        "for epoch in range(params['epochs']):\n",
        "    for (x, y) in data:\n",
        "        (x, y) = x.to(device), y.to(device)\n",
        "        h2 = model.get_embedding(x, 1) \n",
        "        cache.store(h2, 1)\n",
        "\n",
        "        h3 = model.get_embedding(x, 2) \n",
        "        cache.store(h3, 2)\n",
        "        cache.store_label(y)"
      ],
      "execution_count": 9,
      "outputs": []
    },
    {
      "cell_type": "code",
      "metadata": {
        "id": "WyaaSDW1Rx97",
        "colab_type": "code",
        "colab": {}
      },
      "source": [
        "from autoencoder import AutoEncoder\n",
        "ae1 = AutoEncoder(model._l_dim[1], 2)\n",
        "ae2 = AutoEncoder(model._l_dim[2], 2)\n",
        "\n",
        "ae_loss1 = nn.MSELoss()\n",
        "ae_loss2 = nn.MSELoss()\n",
        "opt1 = optim.Adam(ae1.parameters(), lr=0.001)\n",
        "opt2 = optim.Adam(ae2.parameters(), lr=0.001)\n",
        "\n",
        "y1_loss=[]\n",
        "y2_loss=[]\n",
        "\n",
        "for epoch in range(5):#params['epochs']):\n",
        "    for x1 in cache.embeddings[1]:\n",
        "        opt1.zero_grad()\n",
        "        x̃1 = ae1(x1)\n",
        "        l1 = ae_loss1(x̃1, x1)\n",
        "        l1.backward(retain_graph=True)\n",
        "        opt1.step() \n",
        "        y1_loss.append(l1.item())\n",
        "    \n",
        "    for x2 in cache.embeddings[2]:\n",
        "        opt2.zero_grad()\n",
        "        x̃2 = ae2(x2)\n",
        "        l2 = ae_loss2(x̃2, x2)\n",
        "        l2.backward(retain_graph=True)\n",
        "        opt2.step()\n",
        "        y2_loss.append(l2.item())\n"
      ],
      "execution_count": 10,
      "outputs": []
    },
    {
      "cell_type": "code",
      "metadata": {
        "id": "pezahYMXSCha",
        "colab_type": "code",
        "colab": {
          "base_uri": "https://localhost:8080/",
          "height": 282
        },
        "outputId": "544feab7-4d45-499a-b1a6-b83850cd4ef7"
      },
      "source": [
        "plt.plot(y1_loss)\n",
        "plt.plot(y2_loss)\n",
        "plt.legend(['h1', 'h2'])"
      ],
      "execution_count": 11,
      "outputs": [
        {
          "output_type": "execute_result",
          "data": {
            "text/plain": [
              "<matplotlib.legend.Legend at 0x7f30789c54e0>"
            ]
          },
          "metadata": {
            "tags": []
          },
          "execution_count": 11
        },
        {
          "output_type": "display_data",
          "data": {
            "image/png": "[encoded data removed]",
            "text/plain": [
              "<Figure size 432x288 with 1 Axes>"
            ]
          },
          "metadata": {
            "tags": [],
            "needs_background": "light"
          }
        }
      ]
    },
    {
      "cell_type": "markdown",
      "metadata": {
        "id": "jRc20MpJlnbo",
        "colab_type": "text"
      },
      "source": [
        "\n",
        "\n",
        "###3.   (Test) Split stored caches and find neighbors\n",
        "\n"
      ]
    },
    {
      "cell_type": "code",
      "metadata": {
        "id": "7tGfElhESEiK",
        "colab_type": "code",
        "colab": {}
      },
      "source": [
        "#This aims to split tensors so that batchsize will be equal to 1\n",
        "from split import *\n",
        "split_1 = split(cache.embeddings[1])\n",
        "split_2 = split(cache.embeddings[2])\n",
        "split_labels = split(cache.labels)"
      ],
      "execution_count": 12,
      "outputs": []
    },
    {
      "cell_type": "code",
      "metadata": {
        "id": "yfStAFjsR_P-",
        "colab_type": "code",
        "colab": {
          "base_uri": "https://localhost:8080/",
          "height": 34
        },
        "outputId": "96bb36ff-e8a3-43f7-85b6-ac2d6a114692"
      },
      "source": [
        "len(split_labels)"
      ],
      "execution_count": 13,
      "outputs": [
        {
          "output_type": "execute_result",
          "data": {
            "text/plain": [
              "2111300"
            ]
          },
          "metadata": {
            "tags": []
          },
          "execution_count": 13
        }
      ]
    },
    {
      "cell_type": "code",
      "metadata": {
        "id": "Q3fGiNIG2g27",
        "colab_type": "code",
        "colab": {}
      },
      "source": [
        "'''This aims to store the first and second element of the output tensor, in order to construct bins'''\n",
        "'''a1 b1 represent the first and second element of the output from layer1'''\n",
        "'''so as to a2 b2'''\n",
        "from convert_to_list import *\n",
        "a1, b1, freeze_layer1, a2, b2, freeze_layer2, each_label = convert(split_1, split_2, split_labels)"
      ],
      "execution_count": 14,
      "outputs": []
    },
    {
      "cell_type": "code",
      "metadata": {
        "id": "nkuiWjECSNeU",
        "colab_type": "code",
        "colab": {}
      },
      "source": [
        "#seperate elements from output of layers with respect to their labels\n",
        "#a1_0 represents for first element in layer1 with label 0\n",
        "#b2_1 represents for second element in layer2 with label 1\n",
        "import numpy as np\n",
        "a1_0 = []\n",
        "b1_0 = []\n",
        "a2_0 = []\n",
        "b2_0 = []\n",
        "a1_1 = []\n",
        "a2_1 = []\n",
        "b1_1 = []\n",
        "b2_1 = []\n",
        "freeze_layer1_label0 = []\n",
        "freeze_layer1_label1 = []\n",
        "freeze_layer2_label0 = []\n",
        "freeze_layer2_label1 = []\n",
        "for i in range(len(each_label)):\n",
        "  if each_label[i] == 0:\n",
        "    a1_0.append(a1[i])\n",
        "    b1_0.append(b1[i])\n",
        "    a2_0.append(a2[i])\n",
        "    b2_0.append(b2[i])\n",
        "    freeze_layer1_label0.append(freeze_layer1[i])\n",
        "    freeze_layer2_label0.append(freeze_layer2[i])\n",
        "  if each_label[i] == 1:\n",
        "    a1_1.append(a1[i])\n",
        "    b1_1.append(b1[i])\n",
        "    a2_1.append(a2[i])\n",
        "    b2_1.append(b2[i])\n",
        "    freeze_layer1_label1.append(freeze_layer1[i])\n",
        "    freeze_layer2_label1.append(freeze_layer2[i])"
      ],
      "execution_count": 15,
      "outputs": []
    },
    {
      "cell_type": "markdown",
      "metadata": {
        "id": "hB_zHF-fSS1V",
        "colab_type": "text"
      },
      "source": [
        "###Histogram"
      ]
    },
    {
      "cell_type": "code",
      "metadata": {
        "id": "n1SiDq3Z4zEI",
        "colab_type": "code",
        "colab": {}
      },
      "source": [
        "# ''' Plot the 3d histograms of output from 2 layers with respect to their first'''\n",
        "# ''' and second element and their corresponding labels'''\n",
        "\n",
        "# from histogram_3d_both import *\n",
        "# plot_his_3d_both(a1_0, b1_0, a1_1, b1_1, 0.12, 0.12, a1, b1, 'Histogram of output of AE1 (orange for label1, blue for label0)')\n",
        "# plot_his_3d_both(a2_0, b2_0, a2_1, b2_1, 0.000001, 0.0001, a2, b2, 'Histogram of output of AE2 (orange for label1, blue for label0)')"
      ],
      "execution_count": 16,
      "outputs": []
    },
    {
      "cell_type": "code",
      "metadata": {
        "id": "ZNTUFUK80s58",
        "colab_type": "code",
        "colab": {}
      },
      "source": [
        "# '''This aims to check the distribution of the data which is in highest bar in AE1 of AE2.'''\n",
        "\n",
        "# '''Take out the index of data in highest bar in AE1 and use index to take out corresponding data in AE2'''\n",
        "# from replot_highest6 import *\n",
        "# row1, row2 = replot_highest(a1_0, b1_0, a2_0, b2_0)\n",
        "# row3, row4 = replot_highest(a1_1, b1_1, a2_1, b2_1)\n",
        "\n",
        "# '''Replot data extracted above in AE2 plot'''\n",
        "# from histogram_3d import *\n",
        "# plot_his_3d(row1, row2, 0.000001, 0.0001, a2_0, b2_0, 'histogram of data in highest bar in AE1 plotted in AE2 (label0)')\n",
        "# plot_his_3d(a2_0, b2_0, 0.000001, 0.0001, a2_0, b2_0, 'Original histogram of AE2 (label0)')\n",
        "# plot_his_3d(row3, row4, 0.000001, 0.0001, a2_1, b2_1, 'histogram of data in highest bar in AE1 plotted in AE2 (label1)')\n",
        "# plot_his_3d(a2_1, b2_1, 0.000001, 0.0001, a2_1, b2_1, 'Original histogram of AE2 (label1)')"
      ],
      "execution_count": 17,
      "outputs": []
    },
    {
      "cell_type": "markdown",
      "metadata": {
        "id": "iMlgI74nSY8Y",
        "colab_type": "text"
      },
      "source": [
        "###Find Cluster and neighbors"
      ]
    },
    {
      "cell_type": "code",
      "metadata": {
        "id": "kMFOI7DYVb8V",
        "colab_type": "code",
        "colab": {}
      },
      "source": [
        "#derive the testing set data, train it and store the output from the basicnet.\n",
        "data_test = Dataset(params, 'test', device)\n",
        "cache_test = Cache(2)\n",
        "for epoch in range(params['epochs']):\n",
        "    for (x, y) in data_test:\n",
        "        (x, y) = x.to(device), y.to(device)\n",
        "        h1_test = model.get_embedding(x, 1) \n",
        "        cache_test.store(h1_test, 1)\n",
        "\n",
        "        h2_test = model.get_embedding(x, 2) \n",
        "        cache_test.store(h2_test, 2)\n",
        "        cache_test.store_label(y)\n",
        "\n"
      ],
      "execution_count": 18,
      "outputs": []
    },
    {
      "cell_type": "code",
      "metadata": {
        "id": "cHaBo9hQpthG",
        "colab_type": "code",
        "colab": {}
      },
      "source": [
        "#split test data so that each data points can be used\n",
        "split1_test = split(cache_test.embeddings[1])\n",
        "split2_test = split(cache_test.embeddings[2])\n",
        "split_labels_test = split(cache_test.labels)"
      ],
      "execution_count": 19,
      "outputs": []
    },
    {
      "cell_type": "code",
      "metadata": {
        "id": "Q2fpq2d6KZPi",
        "colab_type": "code",
        "colab": {}
      },
      "source": [
        "# # derive the output from AE\n",
        "# layer_num = 1\n",
        "# layer_test = layer1_test\n",
        "# for i in range(len(layer_test)):\n",
        "# \tif layer_num == 1:\n",
        "# \t\tlayer_test[i] = ae1.encode(layer_test[i])\n",
        "# \tif layer_num == 2:\n",
        "# \t\tlayer_test[i] = ae2.encode(layer_test[i])"
      ],
      "execution_count": 20,
      "outputs": []
    },
    {
      "cell_type": "code",
      "metadata": {
        "id": "T8twGQ42MEwf",
        "colab_type": "code",
        "colab": {}
      },
      "source": [
        "#convert the data to list which is used to compute epsilon of knn\n",
        "a1_test, b1_test, freeze_layer1_test, a2_test, b2_test, freeze_layer2_test, labels_test = convert(split1_test, split2_test, split_labels_test)"
      ],
      "execution_count": 21,
      "outputs": []
    },
    {
      "cell_type": "code",
      "metadata": {
        "id": "B7mdvX34rmGB",
        "colab_type": "code",
        "colab": {}
      },
      "source": [
        "freeze_layer1_enlarge = []\n",
        "for index in range(len(freeze_layer1)):\n",
        "  freeze_layer1_enlarge.append([freeze_layer1[index][0] * 1000000, freeze_layer1[index][1] * 1000000])"
      ],
      "execution_count": 54,
      "outputs": []
    },
    {
      "cell_type": "code",
      "metadata": {
        "id": "jBv4TMM3t3Se",
        "colab_type": "code",
        "colab": {}
      },
      "source": [
        "freeze_layer1_test_enlarge = []\n",
        "for index in range(len(freeze_layer1_test)):\n",
        "  freeze_layer1_test_enlarge.append([freeze_layer1_test[index][0] * 1000000, freeze_layer1_test[index][1] * 1000000])"
      ],
      "execution_count": 55,
      "outputs": []
    },
    {
      "cell_type": "code",
      "metadata": {
        "id": "SRU0MAzo4jWt",
        "colab_type": "code",
        "colab": {}
      },
      "source": [
        "from times3 import times\n",
        "a1_enlarge = times(a1,1000000)\n",
        "b1_enlarge = times(b1,1000000)\n",
        "a2_enlarge = times(a2,1000000)\n",
        "b2_enlarge = times(b2,1000000)\n"
      ],
      "execution_count": 56,
      "outputs": []
    },
    {
      "cell_type": "code",
      "metadata": {
        "id": "ZIE1kFgZSfdH",
        "colab_type": "code",
        "colab": {
          "base_uri": "https://localhost:8080/",
          "height": 34
        },
        "outputId": "87fac659-0f93-4202-ad8d-0b9e54fd6821"
      },
      "source": [
        "'''\n",
        "instead of use KNN, we use small number as enlarging radius of our data to capture the nearest clusters.\n",
        "we find data in centroid of layer in the range of a+- epsilon\n",
        "'''\n",
        "import time\n",
        "start = time.time()\n",
        "from enlarging_radius import *\n",
        "layer1_label_pred, neighbor = get_label(1, False, 10, a1_enlarge, b1_enlarge, a2_enlarge, b2_enlarge, freeze_layer1_test_enlarge[:10000], each_label, freeze_layer1_enlarge, each_label, 1, 0.8)\n",
        "end = time.time()\n",
        "print(end - start)"
      ],
      "execution_count": 100,
      "outputs": [
        {
          "output_type": "stream",
          "text": [
            "51.690377712249756\n"
          ],
          "name": "stdout"
        }
      ]
    },
    {
      "cell_type": "code",
      "metadata": {
        "id": "ehVZyxCRmwMh",
        "colab_type": "code",
        "colab": {
          "base_uri": "https://localhost:8080/",
          "height": 34
        },
        "outputId": "aec03606-5b01-4b9d-8c5b-667b47d73623"
      },
      "source": [
        "import time\n",
        "start = time.time()\n",
        "layer_num = 1\n",
        "use_cluster = False\n",
        "box_num = 10\n",
        "l1_first = a1_enlarge\n",
        "l1_second = b1_enlarge\n",
        "l2_first = a2_enlarge\n",
        "l2_second = b2_enlarge\n",
        "test_layer = freeze_layer1_test_enlarge[:1000]\n",
        "cache_label = each_label\n",
        "centroid = freeze_layer1_enlarge\n",
        "confidence = each_label\n",
        "percentage = 0.0000001\n",
        "threshold = 0.8\n",
        "#compute epsilon\n",
        "e_a1 = (max(l1_first) - min(l1_first))*per*percentage\n",
        "e_b1 = (max(l1_second) - min(l1_second))*per*percentage\n",
        "e_a2 = (max(l2_first) - min(l2_first))*per*percentage\n",
        "e_b2 = (max(l2_second) - min(l2_second))*per*percentage\n",
        "neighbor = []\n",
        "\n",
        "if layer_num == 1:\n",
        "\te_a = e_a1 \n",
        "\te_b = e_b1 \n",
        "else:\n",
        "\te_a = e_a2\n",
        "\te_b = e_b2\t\n",
        "\n",
        "test_label = []\n",
        "for i in range(len(test_layer)):\n",
        "\tconfidence1 = 0\n",
        "\tconfidence0 = 0\n",
        "\tfor j in range(len(centroid)): \t\n",
        "\t\t#find the intersection of first and second element in centroid_list\n",
        "\t\tif (l1_first[i] - e_a) <= centroid[j][0] and centroid[j][0] <= (l1_first[i] + e_a):\n",
        "\t\t\tif (l1_second[i] - e_b) <= centroid[j][1] and centroid[j][1] <= (l1_second[i] + e_b):\n",
        "\t\t\t\tneighbor.append(centroid[j])\n",
        "\t\t\t\tif use_cluster == True:\n",
        "\t\t\t\t\tif j < box_num*box_num:\n",
        "\t\t\t\t\t\tconfidence0 += confidence[j]\t\n",
        "\t\t\t\t\tif j >= box_num*box_num:\n",
        "\t\t\t\t\t\tconfidence1 += confidence[j]\n",
        "\t\t\t\telse:\n",
        "\t\t\t\t    if cache_label[j] == 0:\n",
        "\t\t\t\t\t    confidence0 += confidence[j] + 1\t\n",
        "\t\t\t\t    else:\n",
        "\t\t\t\t\t    confidence1 += confidence[j]\n",
        "\tif (confidence1 + confidence0) == 0:\n",
        "\t    label = 'do not have neighbor in this range'\n",
        "\telse:\n",
        "\t    confidence_t = confidence0 + confidence1\n",
        "\t    confidence0 /= confidence_t\n",
        "\t    confidence1 = 1 - confidence0\n",
        "\tif confidence0 > threshold:\n",
        "\t    label = '0'\n",
        "\telif confidence1 > threshold:\n",
        "\t    label = '1'\n",
        "\telse:\n",
        "\t\tlabel = 'not sure'\n",
        "\n",
        "\ttest_label.append(label)\n",
        "end = time.time()\n",
        "print(end - start)\n",
        "\n"
      ],
      "execution_count": 118,
      "outputs": [
        {
          "output_type": "stream",
          "text": [
            "886.7887723445892\n"
          ],
          "name": "stdout"
        }
      ]
    },
    {
      "cell_type": "code",
      "metadata": {
        "id": "2495FNV7oLFp",
        "colab_type": "code",
        "colab": {
          "base_uri": "https://localhost:8080/",
          "height": 34
        },
        "outputId": "e86a15e4-001b-42db-de10-ccd0962ace37"
      },
      "source": [
        "len(neighbor)"
      ],
      "execution_count": 119,
      "outputs": [
        {
          "output_type": "execute_result",
          "data": {
            "text/plain": [
              "138500"
            ]
          },
          "metadata": {
            "tags": []
          },
          "execution_count": 119
        }
      ]
    },
    {
      "cell_type": "code",
      "metadata": {
        "id": "7Kfxt19f8k14",
        "colab_type": "code",
        "colab": {}
      },
      "source": [
        "\n",
        "correct = 0\n",
        "miss = 0\n",
        "no_neighbor = 0\n",
        "for i in range(1000):\n",
        "  if test_label[i] == 'not sure':\n",
        "    miss += 1\n",
        "  elif test_label[i] == 'do not have neighbor in this range':\n",
        "    no_neighbor += 1\n",
        "  elif int(test_label[i]) == int(labels_test[i]):\n",
        "    correct += 1\n"
      ],
      "execution_count": 120,
      "outputs": []
    },
    {
      "cell_type": "code",
      "metadata": {
        "id": "YKIDuXYh8sFl",
        "colab_type": "code",
        "colab": {}
      },
      "source": [
        "accuracy = correct/len(test_label)\n",
        "cache_miss = miss/len(test_label)\n",
        "no = no_neighbor/len(test_label)"
      ],
      "execution_count": 121,
      "outputs": []
    },
    {
      "cell_type": "code",
      "metadata": {
        "id": "Nd6p8tCp9unA",
        "colab_type": "code",
        "colab": {
          "base_uri": "https://localhost:8080/",
          "height": 34
        },
        "outputId": "e3a376c7-d98d-433f-bb73-b6fcac44410b"
      },
      "source": [
        "accuracy"
      ],
      "execution_count": 122,
      "outputs": [
        {
          "output_type": "execute_result",
          "data": {
            "text/plain": [
              "0.618"
            ]
          },
          "metadata": {
            "tags": []
          },
          "execution_count": 122
        }
      ]
    },
    {
      "cell_type": "code",
      "metadata": {
        "id": "yM3KfzoLx7Pz",
        "colab_type": "code",
        "colab": {}
      },
      "source": [
        "\n",
        "correct = 0\n",
        "miss = 0\n",
        "no_neighbor = 0\n",
        "for i in range(5):\n",
        "  if layer1_label_pred[i] == 'not sure':\n",
        "    miss += 1\n",
        "  elif layer1_label_pred[i] == 'do not have neighbor in this range':\n",
        "    no_neighbor += 1\n",
        "  elif int(layer1_label_pred[i]) == int(labels_test[i]):\n",
        "    correct += 1\n"
      ],
      "execution_count": null,
      "outputs": []
    },
    {
      "cell_type": "code",
      "metadata": {
        "id": "1k1c7WevzI4L",
        "colab_type": "code",
        "colab": {}
      },
      "source": [
        "accuracy = correct/len(layer1_label_pred)\n",
        "cache_miss = miss/len(layer1_label_pred)\n",
        "no = no_neighbor/len(layer1_label_pred)"
      ],
      "execution_count": null,
      "outputs": []
    },
    {
      "cell_type": "code",
      "metadata": {
        "id": "lKajCB3Uy72C",
        "colab_type": "code",
        "colab": {
          "base_uri": "https://localhost:8080/",
          "height": 34
        },
        "outputId": "6c4f811f-145c-43af-c3e3-29b0909f53a8"
      },
      "source": [
        "accuracy"
      ],
      "execution_count": 68,
      "outputs": [
        {
          "output_type": "execute_result",
          "data": {
            "text/plain": [
              "0.6666666666666666"
            ]
          },
          "metadata": {
            "tags": []
          },
          "execution_count": 68
        }
      ]
    },
    {
      "cell_type": "code",
      "metadata": {
        "id": "QhYgK5gLy9MM",
        "colab_type": "code",
        "colab": {
          "base_uri": "https://localhost:8080/",
          "height": 34
        },
        "outputId": "56a868d9-1d47-4408-c45e-15fe273c21df"
      },
      "source": [
        "cache_miss"
      ],
      "execution_count": 123,
      "outputs": [
        {
          "output_type": "execute_result",
          "data": {
            "text/plain": [
              "0.036"
            ]
          },
          "metadata": {
            "tags": []
          },
          "execution_count": 123
        }
      ]
    },
    {
      "cell_type": "code",
      "metadata": {
        "id": "57I16zLWzGXX",
        "colab_type": "code",
        "colab": {
          "base_uri": "https://localhost:8080/",
          "height": 34
        },
        "outputId": "3b8b5c92-f8d6-4fac-de01-758e250930b4"
      },
      "source": [
        "no"
      ],
      "execution_count": 124,
      "outputs": [
        {
          "output_type": "execute_result",
          "data": {
            "text/plain": [
              "0.0"
            ]
          },
          "metadata": {
            "tags": []
          },
          "execution_count": 124
        }
      ]
    },
    {
      "cell_type": "code",
      "metadata": {
        "id": "kZw2AI8190Ei",
        "colab_type": "code",
        "colab": {}
      },
      "source": [
        ""
      ],
      "execution_count": null,
      "outputs": []
    }
  ]
}