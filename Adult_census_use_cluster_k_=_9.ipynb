{
  "nbformat": 4,
  "nbformat_minor": 0,
  "metadata": {
    "kernelspec": {
      "display_name": "Python 3",
      "language": "python",
      "name": "python3"
    },
    "language_info": {
      "codemirror_mode": {
        "name": "ipython",
        "version": 3
      },
      "file_extension": ".py",
      "mimetype": "text/x-python",
      "name": "python",
      "nbconvert_exporter": "python",
      "pygments_lexer": "ipython3",
      "version": "3.7.6"
    },
    "colab": {
      "name": "Adult_census_use_cluster_k = 9.ipynb",
      "provenance": [],
      "collapsed_sections": [
        "5ev5Wl-ApXWJ"
      ],
      "toc_visible": true,
      "machine_shape": "hm",
      "include_colab_link": true
    }
  },
  "cells": [
    {
      "cell_type": "markdown",
      "metadata": {
        "id": "view-in-github",
        "colab_type": "text"
      },
      "source": [
        "<a href=\"https://colab.research.google.com/github/Congliu0829/cencus_dnn_caching/blob/master/Adult_census_use_cluster_k_%3D_9.ipynb\" target=\"_parent\"><img src=\"https://colab.research.google.com/assets/colab-badge.svg\" alt=\"Open In Colab\"/></a>"
      ]
    },
    {
      "cell_type": "code",
      "metadata": {
        "id": "U600zb7_-GZ3"
      },
      "source": [
        "import sys\n",
        "sys.path.append('/content/adult.csv')\n",
        "from utils import * \n",
        "from model_embedding import *\n"
      ],
      "execution_count": null,
      "outputs": []
    },
    {
      "cell_type": "code",
      "metadata": {
        "id": "6O9C82Wn-GaE"
      },
      "source": [
        "import matplotlib.pyplot as plt\n",
        "def plot_acc_fairness(model):\n",
        "    f, axes = plt.subplots(figsize=(16, 6), nrows=1, ncols=2, sharex=True, sharey=False)\n",
        "    curr_ax = axes[0]\n",
        "    curr_ax.plot( [x[0] for x in model.logs])\n",
        "    curr_ax.set_ylabel('Model Accuracy', fontsize = 20)\n",
        "    curr_ax.set_xlabel('Epochs', fontsize = 20)\n",
        "    curr_ax.tick_params(axis=\"x\", labelsize=15) \n",
        "    plt.show()\n",
        "    \n",
        "    "
      ],
      "execution_count": null,
      "outputs": []
    },
    {
      "cell_type": "code",
      "metadata": {
        "id": "enyG7V2inSjJ"
      },
      "source": [
        "from utils import * \n",
        "from normalize import *\n",
        "pd00, label_name, feats = load_data('census')\n",
        "seed = 0\n",
        "X_train, X_val, X_test, y_train, y_val, y_test= get_data_loader(pd00, feats, label_name,seed=seed)\n",
        "\n",
        "params = {}\n",
        "kfold_n_splits = 10\n",
        "index = 9 #used for change experiment index\n",
        "kf = KFold(n_splits=kfold_n_splits)\n",
        "X = pd00[feats].values\n",
        "y = pd00[label_name].values\n",
        "X_train_all = []\n",
        "X_test_all = []\n",
        "y_train_all = []\n",
        "y_test_all = []\n",
        "\n",
        "for train_index, test_index in kf.split(X):\n",
        "  X_train_kfold, X_test_kfold = X[train_index], X[test_index]\n",
        "  X_train_all.append(X_train_kfold)\n",
        "  X_test_all.append(X_test_kfold)\n",
        "  y_train_kfold, y_test_kfold = y[train_index], y[test_index]\n",
        "  y_train_all.append(y_train_kfold)\n",
        "  y_test_all.append(y_test_kfold)\n",
        "\n",
        "X_train_all = normalize(X_train_all)\n",
        "X_test_all = normalize(X_test_all)\n",
        "\n",
        "  \n",
        "X_train_kfold_all = X_train_all \n",
        "X_test_kfold_all = X_test_all\n",
        "y_train_kfold_all = y_train_all\n",
        "y_test_kfold_all = y_test_all\n",
        "\n",
        "params['X_train'] = X_train_kfold_all[index]\n",
        "params['X_val'] = X_test_kfold_all[index]\n",
        "params['y_train'] = y_train_kfold_all[index]\n",
        "params['y_val'] = y_test_kfold_all[index]\n",
        "params['device'] = 'cpu'\n",
        "params['bs'] = 256\n",
        "params['epoches'] = 100\n",
        "options = {}\n",
        "options['model_lr'] = 1e-3\n",
        "\n",
        "options['epochs'] = 400\n",
        "input_dim = X_train_kfold_all[index].shape[1]\n",
        "options['input_size'] = input_dim\n",
        "\n",
        "\n",
        "\n"
      ],
      "execution_count": null,
      "outputs": []
    },
    {
      "cell_type": "code",
      "metadata": {
        "id": "1P1GayJe9S0b",
        "outputId": "328d3045-f5d8-4ad8-af5b-a9021369073d",
        "colab": {
          "base_uri": "https://localhost:8080/",
          "height": 34
        }
      },
      "source": [
        "len(X_train_kfold_all[0])"
      ],
      "execution_count": null,
      "outputs": [
        {
          "output_type": "execute_result",
          "data": {
            "text/plain": [
              "27145"
            ]
          },
          "metadata": {
            "tags": []
          },
          "execution_count": 13
        }
      ]
    },
    {
      "cell_type": "code",
      "metadata": {
        "id": "HV7gi6PF-GaL"
      },
      "source": [
        "## GRID SEARCH TO SELECT OPTIMAL NETWORK STRUCTURE\n",
        "grid_search_list = []\n",
        "options['acc_only'] = True #  Accuracy as the Metric to select Optimal Network  \n",
        "options['step_size'] = 0.0 # Disable step-size if you only need to learn a simple classifier (w.o fairness)\n",
        "options['lr_mult'] = 0  # also need to set the initial Multipliers to be zeroes\n",
        "\n",
        "for n_gen in [int(x) for x in np.linspace(input_dim / 2, input_dim - 1, 2)]:\n",
        "    for n_z in [int(x) for x in np.linspace(input_dim / 5 + 1, input_dim / 2, 2)]:\n",
        "        if n_z < n_gen:\n",
        "            curr_options = copy.deepcopy(options)\n",
        "            curr_options['model_params'] = {'input_size': input_dim, 'gen_nnodes_list': [n_gen],\n",
        "                                            'z1_nnodes_list': [n_z], \\\n",
        "                                            'z0_nnodes_list': [n_z]}\n",
        "            grid_search_list.append(curr_options)"
      ],
      "execution_count": null,
      "outputs": []
    },
    {
      "cell_type": "markdown",
      "metadata": {
        "id": "koTycTQZ-GaO"
      },
      "source": [
        "### 1. A simple Deep Network Classifier"
      ]
    },
    {
      "cell_type": "code",
      "metadata": {
        "id": "w7vXefdh-GaO",
        "outputId": "fadb295a-38eb-48fc-9c7b-498c049cd0ad",
        "colab": {
          "base_uri": "https://localhost:8080/",
          "height": 88
        }
      },
      "source": [
        "# A simple deep network classifier without fairness\n",
        "mc_model = LDSharedModel(params)\n",
        "mc_model.hyper_opt(grid_search_list)"
      ],
      "execution_count": null,
      "outputs": [
        {
          "output_type": "stream",
          "text": [
            "{'model_lr': 0.001, 'epochs': 400, 'input_size': 12, 'acc_only': True, 'step_size': 0.0, 'lr_mult': 0, 'model_params': {'input_size': 12, 'gen_nnodes_list': [6], 'z1_nnodes_list': [3], 'z0_nnodes_list': [3]}}\n",
            "{'model_lr': 0.001, 'epochs': 400, 'input_size': 12, 'acc_only': True, 'step_size': 0.0, 'lr_mult': 0, 'model_params': {'input_size': 12, 'gen_nnodes_list': [11], 'z1_nnodes_list': [3], 'z0_nnodes_list': [3]}}\n",
            "{'model_lr': 0.001, 'epochs': 400, 'input_size': 12, 'acc_only': True, 'step_size': 0.0, 'lr_mult': 0, 'model_params': {'input_size': 12, 'gen_nnodes_list': [11], 'z1_nnodes_list': [6], 'z0_nnodes_list': [6]}}\n"
          ],
          "name": "stdout"
        }
      ]
    },
    {
      "cell_type": "code",
      "metadata": {
        "id": "esDtftou-GaQ",
        "outputId": "88d2239c-7d53-4c41-af23-55e928efabdf",
        "colab": {
          "base_uri": "https://localhost:8080/",
          "height": 406
        }
      },
      "source": [
        "plot_acc_fairness(mc_model)"
      ],
      "execution_count": null,
      "outputs": [
        {
          "output_type": "display_data",
          "data": {
            "image/png": "[encoded data removed]",
            "text/plain": [
              "<Figure size 1152x432 with 2 Axes>"
            ]
          },
          "metadata": {
            "tags": [],
            "needs_background": "light"
          }
        }
      ]
    },
    {
      "cell_type": "code",
      "metadata": {
        "id": "jcr6g_gL-GaT",
        "outputId": "d13c62f1-1866-49bf-e14f-3fd44a94b83e",
        "colab": {
          "base_uri": "https://localhost:8080/",
          "height": 54
        }
      },
      "source": [
        "best_options = mc_model.best_options\n",
        "print(best_options)"
      ],
      "execution_count": null,
      "outputs": [
        {
          "output_type": "stream",
          "text": [
            "{'model_lr': 0.001, 'epochs': 400, 'input_size': 12, 'acc_only': True, 'step_size': 0.0, 'lr_mult': 0, 'model_params': {'input_size': 12, 'gen_nnodes_list': [6], 'z1_nnodes_list': [3], 'z0_nnodes_list': [3]}, 'return_output': True}\n"
          ],
          "name": "stdout"
        }
      ]
    },
    {
      "cell_type": "code",
      "metadata": {
        "id": "ZMRQyE7bdfWX",
        "outputId": "6ce1427d-7f06-4462-a37e-2e9a0c95ff99",
        "colab": {
          "base_uri": "https://localhost:8080/",
          "height": 34
        }
      },
      "source": [
        "mc_model._model_eval(mc_model)"
      ],
      "execution_count": null,
      "outputs": [
        {
          "output_type": "execute_result",
          "data": {
            "text/plain": [
              "0.8375331564986738"
            ]
          },
          "metadata": {
            "tags": []
          },
          "execution_count": 19
        }
      ]
    },
    {
      "cell_type": "markdown",
      "metadata": {
        "id": "wod9DVzqo2CN"
      },
      "source": [
        "\n",
        "\n",
        "###2.   Use best_option to train Basic Net\n",
        "\n"
      ]
    },
    {
      "cell_type": "code",
      "metadata": {
        "id": "9vybX4IIzVjU"
      },
      "source": [
        "from cache import *\n",
        "cache = Cache(2) # we'll use only the hidden layers\n"
      ],
      "execution_count": null,
      "outputs": []
    },
    {
      "cell_type": "code",
      "metadata": {
        "id": "KpeqRv-4xaaP"
      },
      "source": [
        "train_tensor = TensorDataset(Tensor(params['X_train']), Tensor(params['y_train']))\n",
        "train_loader = DataLoader(dataset = train_tensor, batch_size = params['bs'], shuffle = True)"
      ],
      "execution_count": null,
      "outputs": []
    },
    {
      "cell_type": "code",
      "metadata": {
        "id": "ZAiVIBHQyxiM"
      },
      "source": [
        "for epoch in range(params['epoches']):\n",
        "  for (x, y) in train_loader:\n",
        "    # for (x, y) in data:\n",
        "        (x, y) = x.to(params['device']), y.to(params['device'])\n",
        "        h1 = mc_model.get_embedding(x, 1) \n",
        "        cache.store(h1, 1)\n",
        "\n",
        "        h2 = mc_model.get_embedding(x, 2) \n",
        "        cache.store(h2, 2)\n",
        "        cache.store_label(y)"
      ],
      "execution_count": null,
      "outputs": []
    },
    {
      "cell_type": "code",
      "metadata": {
        "id": "mR4MjpEBfKJG"
      },
      "source": [
        "import os\n",
        "os.environ['KMP_DUPLICATE_LIB_OK']='True'\n",
        "\n",
        "from torch_utils import *\n",
        "from dataset import Dataset\n",
        "from basicnet import Net\n",
        "import matplotlib.pyplot as plt\n",
        "from cache import Cache"
      ],
      "execution_count": null,
      "outputs": []
    },
    {
      "cell_type": "code",
      "metadata": {
        "id": "WyaaSDW1Rx97"
      },
      "source": [
        "from autoencoder import AutoEncoder\n",
        "ae1 = AutoEncoder(10, 2)\n",
        "ae2 = AutoEncoder(5, 2)\n",
        "\n",
        "ae_loss1 = nn.MSELoss()\n",
        "ae_loss2 = nn.MSELoss()\n",
        "opt1 = optim.Adam(ae1.parameters(), lr=0.001)\n",
        "opt2 = optim.Adam(ae2.parameters(), lr=0.001)\n",
        "\n",
        "y1_loss=[]\n",
        "y2_loss=[]\n",
        "\n",
        "for epoch in range(5):#params['epochs']):\n",
        "    for x1 in cache.embeddings[1]:\n",
        "        opt1.zero_grad()\n",
        "        x̃1 = ae1(x1)\n",
        "        l1 = ae_loss1(x̃1, x1)\n",
        "        l1.backward(retain_graph=True)\n",
        "        opt1.step() \n",
        "        y1_loss.append(l1.item())\n",
        "    \n",
        "    for x2 in cache.embeddings[2]:\n",
        "        opt2.zero_grad()\n",
        "        x̃2 = ae2(x2)\n",
        "        l2 = ae_loss2(x̃2, x2)\n",
        "        l2.backward(retain_graph=True)\n",
        "        opt2.step()\n",
        "        y2_loss.append(l2.item())\n"
      ],
      "execution_count": null,
      "outputs": []
    },
    {
      "cell_type": "code",
      "metadata": {
        "id": "pezahYMXSCha",
        "outputId": "4821aae8-778a-45ec-fe20-ceb57a6b88d4",
        "colab": {
          "base_uri": "https://localhost:8080/",
          "height": 282
        }
      },
      "source": [
        "plt.plot(y1_loss)\n",
        "plt.plot(y2_loss)\n",
        "plt.legend(['h1', 'h2'])"
      ],
      "execution_count": null,
      "outputs": [
        {
          "output_type": "execute_result",
          "data": {
            "text/plain": [
              "<matplotlib.legend.Legend at 0x7fcffb82c278>"
            ]
          },
          "metadata": {
            "tags": []
          },
          "execution_count": 145
        },
        {
          "output_type": "display_data",
          "data": {
            "image/png": "[encoded data removed]",
            "text/plain": [
              "<Figure size 432x288 with 1 Axes>"
            ]
          },
          "metadata": {
            "tags": [],
            "needs_background": "light"
          }
        }
      ]
    },
    {
      "cell_type": "markdown",
      "metadata": {
        "id": "Uop9vOqIo0R6"
      },
      "source": [
        "\n",
        "\n",
        "###3.   (Test) Split cache, find clusters, find neighbors\n",
        "\n"
      ]
    },
    {
      "cell_type": "code",
      "metadata": {
        "id": "jpxiy7p31SPo"
      },
      "source": [
        "cache_train = Cache(2)\n",
        "for (x, y) in train_loader:\n",
        "  (x, y) = x.to(params['device']), y.to(params['device'])\n",
        "  h_t1 = mc_model.get_embedding(x, 1)\n",
        "  cache_train.store(h_t1, 1)\n",
        "  h_t2 = mc_model.get_embedding(x, 2) \n",
        "  cache_train.store(h_t2, 2)\n",
        "  cache_train.store_label(y)"
      ],
      "execution_count": null,
      "outputs": []
    },
    {
      "cell_type": "code",
      "metadata": {
        "id": "7tGfElhESEiK"
      },
      "source": [
        "#This aims to split tensors so that batchsize will be equal to 1\n",
        "from split import *\n",
        "split_1 = split(cache_train.embeddings[1])\n",
        "split_2 = split(cache_train.embeddings[2])\n",
        "split_labels = split(cache_train.labels)"
      ],
      "execution_count": null,
      "outputs": []
    },
    {
      "cell_type": "code",
      "metadata": {
        "id": "mDwybLaY3KsM",
        "outputId": "6bcf04df-1acb-4d45-99cb-8a6140e8c3b9",
        "colab": {
          "base_uri": "https://localhost:8080/",
          "height": 34
        }
      },
      "source": [
        "len(split_1)"
      ],
      "execution_count": null,
      "outputs": [
        {
          "output_type": "execute_result",
          "data": {
            "text/plain": [
              "27146"
            ]
          },
          "metadata": {
            "tags": []
          },
          "execution_count": 148
        }
      ]
    },
    {
      "cell_type": "code",
      "metadata": {
        "id": "A0ag47EVt8a9"
      },
      "source": [
        "'''This aims to store the first and second element of the output tensor, in order to construct bins'''\n",
        "'''a1 b1 represent the first and second element of the output from layer1'''\n",
        "'''so as to a2 b2'''\n",
        "def convert(tensor_from_layer1, tensor_from_layer2, tensor_labels):\n",
        "\t'''This function aims to convert tensors to list (single data points)'''\n",
        "\ta1 = []\n",
        "\ta2 = []\n",
        "\tb1 = []\n",
        "\tb2 = []\n",
        "\tall_lst1 = []\n",
        "\tall_lst2 = []\n",
        "\teach_label = []\n",
        "\tfor tensor1 in tensor_from_layer1:\n",
        "\t\tx_out1 = ae1.encode(tensor1)\n",
        "\t\ta1.append(x_out1.detach().numpy()[0][0])\n",
        "\t\tb1.append(x_out1.detach().numpy()[0][1])\n",
        "\t\tall_lst1.append([x_out1.detach().numpy()[0][0], x_out1.detach().numpy()[0][1]])\n",
        "\t\n",
        "\tfor tensor2 in tensor_from_layer2:\n",
        "\t\tx_out2 = ae2.encode(tensor2)\n",
        "\t\ta2.append(x_out2.detach().numpy()[0][0])\n",
        "\t\tb2.append(x_out2.detach().numpy()[0][1])\n",
        "\t\tall_lst2.append([x_out2.detach().numpy()[0][0], x_out2.detach().numpy()[0][1]])\n",
        "\n",
        "\tfor tensor_l in tensor_labels:\n",
        "\t\teach_label.append(tensor_l.numpy()[0])\n",
        "\n",
        "\treturn a1, b1, all_lst1, a2, b2, all_lst2, each_label\n",
        "\n",
        "\n"
      ],
      "execution_count": null,
      "outputs": []
    },
    {
      "cell_type": "code",
      "metadata": {
        "id": "NJKVzk6VSIUc"
      },
      "source": [
        "#This aims to store the first and second element of the output tensor, in order to construct bins\n",
        "'''\n",
        "a1 b1 represent the first and second element of the output from layer1\n",
        "so as to a2 b2\n",
        "'''\n",
        "a1, b1, freeze_layer1, a2, b2, freeze_layer2, each_label = convert(split_1, split_2, split_labels)"
      ],
      "execution_count": null,
      "outputs": []
    },
    {
      "cell_type": "code",
      "metadata": {
        "id": "nkuiWjECSNeU"
      },
      "source": [
        "#seperate elements from output of layers with respect to their labels\n",
        "#a1_0 represents for first element in layer1 with label 0\n",
        "#b2_1 represents for second element in layer2 with label 1\n",
        "import numpy as np\n",
        "a1_0 = []\n",
        "b1_0 = []\n",
        "a2_0 = []\n",
        "b2_0 = []\n",
        "a1_1 = []\n",
        "a2_1 = []\n",
        "b1_1 = []\n",
        "b2_1 = []\n",
        "freeze_layer1_label0 = []\n",
        "freeze_layer1_label1 = []\n",
        "freeze_layer2_label0 = []\n",
        "freeze_layer2_label1 = []\n",
        "for i in range(len(each_label)):\n",
        "  if each_label[i] == 0:\n",
        "    a1_0.append(a1[i])\n",
        "    b1_0.append(b1[i])\n",
        "    a2_0.append(a2[i])\n",
        "    b2_0.append(b2[i])\n",
        "    freeze_layer1_label0.append(freeze_layer1[i])\n",
        "    freeze_layer2_label0.append(freeze_layer2[i])\n",
        "  if each_label[i] == 1:\n",
        "    a1_1.append(a1[i])\n",
        "    b1_1.append(b1[i])\n",
        "    a2_1.append(a2[i])\n",
        "    b2_1.append(b2[i])\n",
        "    freeze_layer1_label1.append(freeze_layer1[i])\n",
        "    freeze_layer2_label1.append(freeze_layer2[i])"
      ],
      "execution_count": null,
      "outputs": []
    },
    {
      "cell_type": "markdown",
      "metadata": {
        "id": "5ev5Wl-ApXWJ"
      },
      "source": [
        "###Histogram"
      ]
    },
    {
      "cell_type": "code",
      "metadata": {
        "id": "Gx2G62Y7IyJE",
        "outputId": "7cdf1dc4-bb08-43c3-d717-d13ff5e48a49",
        "colab": {
          "base_uri": "https://localhost:8080/"
        }
      },
      "source": [
        "''' Plot the 3d histograms of output from 2 layers with respect to their first\n",
        " and second element and their corresponding labels'''\n",
        "\n",
        "from histogram_3d_both import *\n",
        "plot_his_3d_both(a1_0, b1_0, a1_1, b1_1, 0.1, 0.1, a1, b1, 'Histogram of output of AE1 (orange for label1, blue for label0)')\n",
        "plot_his_3d_both(a2_0, b2_0, a2_1, b2_1, 0.1, 10, a2, b2, 'Histogram of output of AE2 (orange for label1, blue for label0)')"
      ],
      "execution_count": null,
      "outputs": [
        {
          "output_type": "display_data",
          "data": {
            "image/png": "[encoded data removed]",
            "text/plain": [
              "<Figure size 432x288 with 1 Axes>"
            ]
          },
          "metadata": {
            "tags": [],
            "needs_background": "light"
          }
        },
        {
          "output_type": "display_data",
          "data": {
            "image/png": "[encoded data removed]",
            "text/plain": [
              "<Figure size 432x288 with 1 Axes>"
            ]
          },
          "metadata": {
            "tags": [],
            "needs_background": "light"
          }
        }
      ]
    },
    {
      "cell_type": "code",
      "metadata": {
        "id": "XN_mV3XewDls",
        "outputId": "4c7d5143-74d1-454b-f5ed-e2b43e517d90",
        "colab": {
          "base_uri": "https://localhost:8080/"
        }
      },
      "source": [
        "a2_0"
      ],
      "execution_count": null,
      "outputs": [
        {
          "output_type": "execute_result",
          "data": {
            "text/plain": [
              "[-0.15394181,\n",
              " -0.80185854,\n",
              " -0.53362215,\n",
              " -0.09113097,\n",
              " -1.2900145,\n",
              " -0.92239296,\n",
              " -2.8053238,\n",
              " -0.013409909,\n",
              " -0.48215222,\n",
              " -0.7738842,\n",
              " -1.7580135,\n",
              " -1.1068977,\n",
              " -0.8724731,\n",
              " -0.476444,\n",
              " -2.6222575,\n",
              " -2.3197415,\n",
              " -1.7366271,\n",
              " -0.060036894,\n",
              " -2.3540537,\n",
              " -2.0143695,\n",
              " -0.015654203,\n",
              " -1.2017697,\n",
              " -0.058818277,\n",
              " -1.5897564,\n",
              " -0.54229665,\n",
              " -0.7034832,\n",
              " -1.3706882,\n",
              " -1.4156201,\n",
              " -0.91696584,\n",
              " 0.18932825,\n",
              " -1.4244082,\n",
              " -1.1667198,\n",
              " -0.05636519,\n",
              " -0.109945655,\n",
              " -0.21941113,\n",
              " -1.9107227,\n",
              " -1.8606129,\n",
              " -0.81000847,\n",
              " -1.103968,\n",
              " -0.41208446,\n",
              " -3.16956,\n",
              " -3.038043,\n",
              " -0.39983416,\n",
              " 0.7967905,\n",
              " -1.3057916,\n",
              " -0.5497502,\n",
              " -1.8155645,\n",
              " -1.2095319,\n",
              " -2.5193257,\n",
              " -2.0421872,\n",
              " -0.584168,\n",
              " -0.044124838,\n",
              " -1.5682876,\n",
              " -0.87250257,\n",
              " -1.5630271,\n",
              " -1.4336183,\n",
              " 0.77125466,\n",
              " -0.6283767,\n",
              " -1.8574258,\n",
              " -2.3814988,\n",
              " -3.3636696,\n",
              " -3.021192,\n",
              " -0.77474046,\n",
              " -2.5870328,\n",
              " 0.015586499,\n",
              " -1.4767866,\n",
              " -1.4682442,\n",
              " -1.0018976,\n",
              " -1.457412,\n",
              " -2.956862,\n",
              " -1.0550276,\n",
              " -0.93746376,\n",
              " -2.184593,\n",
              " -0.67457265,\n",
              " -2.7372754,\n",
              " -2.8921177,\n",
              " -0.3748877,\n",
              " -0.33053565,\n",
              " -2.1900811,\n",
              " -1.1228483,\n",
              " -0.8029233,\n",
              " -0.47164512,\n",
              " -0.049239453,\n",
              " -3.3335,\n",
              " -0.1523732,\n",
              " -1.9591159,\n",
              " -4.2200747,\n",
              " -1.0589888,\n",
              " -0.43371582,\n",
              " -0.5201559,\n",
              " -0.44690442,\n",
              " -3.8236763,\n",
              " -2.2932613,\n",
              " -3.0133383,\n",
              " -0.13388097,\n",
              " -2.464679,\n",
              " -1.3479908,\n",
              " -1.0364343,\n",
              " -4.7510743,\n",
              " -2.8837895,\n",
              " -0.9784148,\n",
              " -0.989473,\n",
              " -1.621243,\n",
              " -0.21575642,\n",
              " -0.96181726,\n",
              " 0.10637766,\n",
              " -1.6845908,\n",
              " -1.0005026,\n",
              " -0.4501698,\n",
              " -1.1390934,\n",
              " -0.34139705,\n",
              " -2.3719838,\n",
              " -0.57159495,\n",
              " -3.687141,\n",
              " 0.031762008,\n",
              " -1.9568806,\n",
              " -2.7508194,\n",
              " -2.3488271,\n",
              " -0.06912756,\n",
              " -1.9481409,\n",
              " -4.5631967,\n",
              " -0.95546734,\n",
              " -1.8370371,\n",
              " -0.4902208,\n",
              " -2.9582303,\n",
              " -3.2061791,\n",
              " -0.29487652,\n",
              " -3.6800945,\n",
              " -3.0026171,\n",
              " -3.0579062,\n",
              " -3.6306877,\n",
              " -0.70718944,\n",
              " -1.438646,\n",
              " 0.4247707,\n",
              " -0.94585395,\n",
              " -1.4929348,\n",
              " -3.0984995,\n",
              " -3.0154297,\n",
              " -4.3140025,\n",
              " -0.34692216,\n",
              " 0.50779605,\n",
              " -3.2616339,\n",
              " -2.0346856,\n",
              " -0.9997938,\n",
              " -4.988665,\n",
              " -4.266567,\n",
              " -3.634441,\n",
              " -0.98676836,\n",
              " -3.7395566,\n",
              " -1.5528332,\n",
              " -1.3862085,\n",
              " -2.989285,\n",
              " -0.64055324,\n",
              " -1.2608229,\n",
              " -0.83018315,\n",
              " -0.49325454,\n",
              " -0.86583745,\n",
              " -1.2119284,\n",
              " -1.1792216,\n",
              " -2.4247482,\n",
              " -2.5727284,\n",
              " -3.0231488,\n",
              " -0.95636326,\n",
              " -1.4833913,\n",
              " -0.16114044,\n",
              " -0.33847052,\n",
              " -1.9912226,\n",
              " -0.24707937,\n",
              " -0.27344334,\n",
              " -0.8749645,\n",
              " -1.1799108,\n",
              " -3.2916706,\n",
              " -4.734515,\n",
              " -0.3755418,\n",
              " -0.4133309,\n",
              " -1.6220579,\n",
              " -1.4867303,\n",
              " -0.8147268,\n",
              " -1.0355569,\n",
              " -0.50535715,\n",
              " 0.089038014,\n",
              " -2.0157943,\n",
              " -4.1194086,\n",
              " -3.3031442,\n",
              " -0.80539346,\n",
              " -2.4178329,\n",
              " -1.6447132,\n",
              " -2.1128712,\n",
              " -1.7721798,\n",
              " -1.4081572,\n",
              " -0.06941903,\n",
              " -3.6042747,\n",
              " -0.7291556,\n",
              " -0.7611619,\n",
              " 0.44614303,\n",
              " -0.020888444,\n",
              " -1.7899964,\n",
              " -0.052120443,\n",
              " -2.3623712,\n",
              " -0.03570151,\n",
              " 0.40441132,\n",
              " -3.6421053,\n",
              " -2.254403,\n",
              " 0.45231247,\n",
              " -3.7767003,\n",
              " -3.4466808,\n",
              " -3.3432586,\n",
              " -1.6280032,\n",
              " -2.028191,\n",
              " -1.1166523,\n",
              " -0.1312691,\n",
              " -3.3211784,\n",
              " -2.0741923,\n",
              " -3.6637573,\n",
              " -0.8494494,\n",
              " -0.62818277,\n",
              " -1.5960023,\n",
              " -0.9122224,\n",
              " -0.25698364,\n",
              " -1.5621219,\n",
              " -4.3055053,\n",
              " -0.04829478,\n",
              " 0.016743783,\n",
              " -0.30567694,\n",
              " -2.8714197,\n",
              " -2.5458572,\n",
              " -1.6261998,\n",
              " -2.8498313,\n",
              " -0.5762943,\n",
              " -1.0735137,\n",
              " -2.7820635,\n",
              " -0.9676903,\n",
              " -3.1743982,\n",
              " -1.85572,\n",
              " -1.4601316,\n",
              " -0.7033236,\n",
              " -0.6911336,\n",
              " -1.1961908,\n",
              " -1.2709098,\n",
              " -2.8208363,\n",
              " -1.7343376,\n",
              " -2.5368612,\n",
              " -3.4403713,\n",
              " 0.23530501,\n",
              " -1.4171034,\n",
              " -1.3870332,\n",
              " 0.012432221,\n",
              " -3.4126415,\n",
              " -0.47580433,\n",
              " 0.07408178,\n",
              " -0.93759334,\n",
              " -1.2127707,\n",
              " -1.3021628,\n",
              " -3.1067772,\n",
              " -3.5909998,\n",
              " -1.4414197,\n",
              " -3.3826869,\n",
              " -4.9621644,\n",
              " -1.4825039,\n",
              " 0.22221345,\n",
              " -1.0556204,\n",
              " -2.263823,\n",
              " -1.3623859,\n",
              " -0.88579774,\n",
              " -2.0072043,\n",
              " -0.11715329,\n",
              " -3.5650015,\n",
              " -1.3889654,\n",
              " 0.023105148,\n",
              " -3.6189456,\n",
              " -3.4614308,\n",
              " -1.421246,\n",
              " -3.2479417,\n",
              " -1.4650354,\n",
              " 0.18031657,\n",
              " -2.0290506,\n",
              " -0.9785224,\n",
              " -3.2360032,\n",
              " -1.112703,\n",
              " -2.7996993,\n",
              " -1.8403078,\n",
              " -3.483852,\n",
              " -3.017092,\n",
              " -4.123396,\n",
              " -0.68540657,\n",
              " -1.5584484,\n",
              " -3.028788,\n",
              " -2.531654,\n",
              " -1.3037477,\n",
              " 0.106818914,\n",
              " -1.9937254,\n",
              " -1.5384097,\n",
              " -1.021893,\n",
              " -2.099604,\n",
              " -1.0230329,\n",
              " -3.6988451,\n",
              " -0.18390381,\n",
              " -4.8309364,\n",
              " -0.70746493,\n",
              " -1.6347868,\n",
              " 0.012416128,\n",
              " -4.1499124,\n",
              " -1.2888553,\n",
              " -0.71120566,\n",
              " -0.48841417,\n",
              " -0.6953865,\n",
              " -0.8788488,\n",
              " -3.3791807,\n",
              " -0.7656493,\n",
              " -2.4153235,\n",
              " -2.7782109,\n",
              " -0.37759435,\n",
              " 0.0918901,\n",
              " -2.2358115,\n",
              " -0.6505114,\n",
              " -0.43254817,\n",
              " -1.5635365,\n",
              " -0.24753219,\n",
              " -3.790275,\n",
              " -0.25236946,\n",
              " -4.9819345,\n",
              " -1.9311047,\n",
              " -2.949493,\n",
              " -3.1676908,\n",
              " -0.36186993,\n",
              " -0.5804328,\n",
              " -2.1792965,\n",
              " -2.3808253,\n",
              " -1.9466596,\n",
              " -3.0161133,\n",
              " -1.8726981,\n",
              " -1.6924994,\n",
              " -2.531042,\n",
              " -3.3892956,\n",
              " -1.137409,\n",
              " -0.97444135,\n",
              " -0.3717773,\n",
              " -1.0627654,\n",
              " -0.5645362,\n",
              " -1.0725412,\n",
              " -2.5274637,\n",
              " -2.2672336,\n",
              " -1.1457965,\n",
              " -2.0026577,\n",
              " -1.7050267,\n",
              " -0.5438528,\n",
              " -1.7267122,\n",
              " 0.550573,\n",
              " -1.6469024,\n",
              " -1.0340662,\n",
              " -2.5603137,\n",
              " -1.9306399,\n",
              " -4.5135965,\n",
              " -1.2134491,\n",
              " -1.7003064,\n",
              " -2.1002295,\n",
              " -2.1932967,\n",
              " 0.31384653,\n",
              " -0.23633265,\n",
              " 0.3227278,\n",
              " -0.22697139,\n",
              " -1.4633161,\n",
              " 0.6797544,\n",
              " -3.037761,\n",
              " -1.9229469,\n",
              " 0.09843838,\n",
              " -3.3666103,\n",
              " -0.35295987,\n",
              " 0.40836227,\n",
              " -0.7342316,\n",
              " -0.27889204,\n",
              " -1.9058139,\n",
              " 0.15132678,\n",
              " 0.15655857,\n",
              " -4.2878366,\n",
              " -0.5438589,\n",
              " -4.5139246,\n",
              " -1.368861,\n",
              " -2.4986756,\n",
              " -1.169346,\n",
              " -3.0723958,\n",
              " -1.5372739,\n",
              " -3.340921,\n",
              " -1.3330113,\n",
              " -3.870515,\n",
              " -4.7176104,\n",
              " -2.8216634,\n",
              " -0.81717896,\n",
              " -0.2502951,\n",
              " -0.78732705,\n",
              " 0.03283054,\n",
              " -3.0619133,\n",
              " -0.23171985,\n",
              " -3.5949242,\n",
              " -0.5418815,\n",
              " -1.4245821,\n",
              " -2.149121,\n",
              " -0.9376242,\n",
              " 0.4759339,\n",
              " -2.816934,\n",
              " -4.399631,\n",
              " -2.239474,\n",
              " -3.9805274,\n",
              " -0.6173856,\n",
              " -0.951278,\n",
              " 0.14820409,\n",
              " -2.728889,\n",
              " -3.6151142,\n",
              " -3.1766524,\n",
              " -2.9255345,\n",
              " 0.12915385,\n",
              " -1.3163072,\n",
              " -1.2810848,\n",
              " -1.270363,\n",
              " -1.9377778,\n",
              " -2.6588843,\n",
              " -2.5552454,\n",
              " -0.62243927,\n",
              " -0.61324024,\n",
              " -0.3299961,\n",
              " -3.0493257,\n",
              " -2.8573563,\n",
              " -0.5804328,\n",
              " 0.25659823,\n",
              " -0.5322584,\n",
              " -0.9777478,\n",
              " -0.5038798,\n",
              " -0.59038544,\n",
              " -0.7925211,\n",
              " -2.6420734,\n",
              " -0.19998646,\n",
              " -0.6310371,\n",
              " -0.11724126,\n",
              " -3.2344434,\n",
              " -1.3591564,\n",
              " -3.4495566,\n",
              " -1.412725,\n",
              " -2.8403609,\n",
              " -0.5363972,\n",
              " -3.884931,\n",
              " -4.16874,\n",
              " 0.103090644,\n",
              " -0.77176285,\n",
              " -0.32578337,\n",
              " -3.9104137,\n",
              " -2.2491412,\n",
              " -4.215397,\n",
              " 0.1691693,\n",
              " -4.6695867,\n",
              " 0.1470766,\n",
              " -3.2056284,\n",
              " -2.3369691,\n",
              " -3.050515,\n",
              " -1.4431673,\n",
              " -3.1265469,\n",
              " -4.2416964,\n",
              " -2.882396,\n",
              " -0.44320512,\n",
              " -1.2721548,\n",
              " -2.6892092,\n",
              " -3.79727,\n",
              " -2.3920858,\n",
              " -1.9464304,\n",
              " -4.3459353,\n",
              " -1.825434,\n",
              " -2.970369,\n",
              " -2.5541031,\n",
              " -1.249081,\n",
              " -1.4772289,\n",
              " -1.0179023,\n",
              " -1.6699793,\n",
              " -1.7682198,\n",
              " -0.18101484,\n",
              " -3.219526,\n",
              " -2.867428,\n",
              " 0.9764246,\n",
              " -1.0000619,\n",
              " -1.4772289,\n",
              " -0.19948089,\n",
              " -0.7237483,\n",
              " -2.7656064,\n",
              " -0.76933295,\n",
              " -0.8369124,\n",
              " -0.30765355,\n",
              " -1.0201259,\n",
              " -0.690368,\n",
              " -1.3707873,\n",
              " 0.7607322,\n",
              " -1.562522,\n",
              " -3.129351,\n",
              " -3.2856185,\n",
              " -0.9045561,\n",
              " -1.9230427,\n",
              " -1.8403964,\n",
              " -1.8902411,\n",
              " -0.25001776,\n",
              " -1.0244184,\n",
              " 0.38184077,\n",
              " -0.7590972,\n",
              " -1.1632415,\n",
              " -0.4482094,\n",
              " -5.6297374,\n",
              " -1.1085352,\n",
              " -0.60918117,\n",
              " -1.6233424,\n",
              " 0.018216018,\n",
              " -3.4878056,\n",
              " -2.0490794,\n",
              " -0.42451406,\n",
              " 0.077896,\n",
              " -2.511861,\n",
              " -4.0906878,\n",
              " -0.756049,\n",
              " -0.91982067,\n",
              " -0.7633221,\n",
              " -1.6818007,\n",
              " -1.4284027,\n",
              " -4.0395484,\n",
              " -1.3836244,\n",
              " -3.5984411,\n",
              " -0.678013,\n",
              " -1.037334,\n",
              " -0.29987085,\n",
              " -1.0331105,\n",
              " 0.0012716092,\n",
              " -0.29308462,\n",
              " -2.7691917,\n",
              " -0.07197738,\n",
              " -4.049887,\n",
              " -0.5578302,\n",
              " -4.7510743,\n",
              " -0.19229317,\n",
              " -2.7326221,\n",
              " -0.3549195,\n",
              " -3.0631096,\n",
              " -1.044849,\n",
              " -1.1664621,\n",
              " -5.028037,\n",
              " -2.7009094,\n",
              " -3.1928136,\n",
              " 0.38974416,\n",
              " -4.050735,\n",
              " -0.86043555,\n",
              " -1.4304478,\n",
              " -1.038711,\n",
              " -1.7994887,\n",
              " -4.3583236,\n",
              " -1.2041682,\n",
              " -2.655513,\n",
              " -3.9532611,\n",
              " -0.59345746,\n",
              " -2.3057137,\n",
              " -0.963263,\n",
              " -0.6137919,\n",
              " -1.2399471,\n",
              " -0.24024707,\n",
              " -2.2872922,\n",
              " -2.023483,\n",
              " -2.2957337,\n",
              " -0.77095246,\n",
              " -0.5944743,\n",
              " -0.13557065,\n",
              " -1.5433404,\n",
              " -1.9130653,\n",
              " 0.051518325,\n",
              " -1.8849733,\n",
              " -1.6600292,\n",
              " -2.2018259,\n",
              " -0.49228036,\n",
              " -0.298216,\n",
              " -1.3521991,\n",
              " -1.825522,\n",
              " -1.4829465,\n",
              " -0.71625614,\n",
              " -2.2220898,\n",
              " -1.7776575,\n",
              " -2.3928082,\n",
              " -2.6490436,\n",
              " -0.73378086,\n",
              " -2.0442536,\n",
              " -1.8913603,\n",
              " -1.1484112,\n",
              " -1.3317872,\n",
              " -1.7751342,\n",
              " -1.5152836,\n",
              " 0.41783714,\n",
              " -1.3889654,\n",
              " -0.26574707,\n",
              " -2.6999784,\n",
              " -0.14445877,\n",
              " -1.2438071,\n",
              " -1.3040383,\n",
              " -1.7822162,\n",
              " -2.126123,\n",
              " -1.0267111,\n",
              " -2.252488,\n",
              " -2.6772168,\n",
              " -0.18010175,\n",
              " -0.5510719,\n",
              " -2.371675,\n",
              " -0.43944585,\n",
              " -2.3949337,\n",
              " 0.53439975,\n",
              " -1.0539751,\n",
              " 0.297612,\n",
              " -1.4775797,\n",
              " -2.7957568,\n",
              " 0.34630728,\n",
              " -0.85648704,\n",
              " -1.0854917,\n",
              " -1.25974,\n",
              " -2.5435014,\n",
              " 0.27867293,\n",
              " 0.24700046,\n",
              " -5.8692293,\n",
              " -1.6353492,\n",
              " -1.1490059,\n",
              " -3.6704974,\n",
              " -1.1010087,\n",
              " -1.912518,\n",
              " -2.1277235,\n",
              " -3.321125,\n",
              " -0.4040467,\n",
              " -2.055096,\n",
              " -2.117878,\n",
              " -2.8916638,\n",
              " -0.36861396,\n",
              " 0.31123722,\n",
              " -1.9258618,\n",
              " -2.7077694,\n",
              " -4.1823153,\n",
              " -2.4338412,\n",
              " -0.56289554,\n",
              " -1.3293031,\n",
              " -2.4481425,\n",
              " -2.8486612,\n",
              " -0.78339255,\n",
              " -1.0095007,\n",
              " -0.089209676,\n",
              " -1.8558263,\n",
              " -2.2333577,\n",
              " 0.44888568,\n",
              " -4.443582,\n",
              " -0.083156705,\n",
              " -0.7918279,\n",
              " -1.9032471,\n",
              " -0.41501093,\n",
              " -0.32996917,\n",
              " -3.0058098,\n",
              " -3.508087,\n",
              " -1.4496593,\n",
              " -1.7131948,\n",
              " -0.44097495,\n",
              " -1.997685,\n",
              " 0.46214712,\n",
              " -3.6125796,\n",
              " -3.013633,\n",
              " -2.3089354,\n",
              " -1.0151901,\n",
              " -2.012323,\n",
              " -1.595801,\n",
              " -2.7275658,\n",
              " -4.262037,\n",
              " -0.2696066,\n",
              " -0.13912982,\n",
              " -0.13753617,\n",
              " -1.1061218,\n",
              " -0.26292706,\n",
              " -0.54915714,\n",
              " 0.21865845,\n",
              " -0.30145848,\n",
              " 1.2428164,\n",
              " -3.7149928,\n",
              " -2.7987907,\n",
              " 0.065175116,\n",
              " -0.27573812,\n",
              " 0.2570479,\n",
              " -1.2254784,\n",
              " -2.139363,\n",
              " -2.932168,\n",
              " -1.0361965,\n",
              " -3.2061791,\n",
              " -3.4981968,\n",
              " -0.104563475,\n",
              " -4.3852463,\n",
              " -0.42571008,\n",
              " -2.9694283,\n",
              " -1.3294117,\n",
              " -2.2731516,\n",
              " -2.7199662,\n",
              " -2.3363476,\n",
              " -0.6092331,\n",
              " -0.8352022,\n",
              " -0.68589514,\n",
              " 0.45353055,\n",
              " -1.0603919,\n",
              " -3.0261834,\n",
              " -2.964622,\n",
              " -2.7299073,\n",
              " 0.23722267,\n",
              " -4.021848,\n",
              " -0.5649585,\n",
              " -3.1454003,\n",
              " -2.9921339,\n",
              " 0.1980601,\n",
              " -0.6737418,\n",
              " 0.76044524,\n",
              " -1.9474195,\n",
              " -1.334159,\n",
              " -1.0529041,\n",
              " -1.5341612,\n",
              " -1.5279388,\n",
              " 0.27840805,\n",
              " -2.2249992,\n",
              " -1.0330946,\n",
              " -1.2615354,\n",
              " -1.6826108,\n",
              " -1.5196006,\n",
              " -2.3215654,\n",
              " -0.12930346,\n",
              " -2.608635,\n",
              " -1.5521367,\n",
              " -3.616573,\n",
              " -1.3777951,\n",
              " -0.23278701,\n",
              " -0.35898566,\n",
              " 0.014801744,\n",
              " -0.5368434,\n",
              " -3.2450304,\n",
              " -0.5581999,\n",
              " -1.0195459,\n",
              " 0.22468126,\n",
              " -3.6191008,\n",
              " -0.74725103,\n",
              " -3.9522605,\n",
              " -1.7944913,\n",
              " -3.0018158,\n",
              " -2.6554353,\n",
              " -1.8442247,\n",
              " -1.2654927,\n",
              " -1.3838613,\n",
              " -0.81363964,\n",
              " -1.6580865,\n",
              " -3.002135,\n",
              " -0.8175153,\n",
              " -1.6735032,\n",
              " -0.3752936,\n",
              " 0.4979905,\n",
              " -0.846524,\n",
              " -1.2134936,\n",
              " -0.7088269,\n",
              " -1.6962373,\n",
              " -0.313578,\n",
              " -2.1425414,\n",
              " -0.24292988,\n",
              " -0.78438115,\n",
              " 0.0035307445,\n",
              " -0.13955647,\n",
              " -0.7903714,\n",
              " -0.24818718,\n",
              " -3.29312,\n",
              " -4.7517385,\n",
              " -1.1232314,\n",
              " -4.1217537,\n",
              " -3.8505688,\n",
              " -1.2922997,\n",
              " -0.2411375,\n",
              " -2.4289832,\n",
              " -3.2213736,\n",
              " -5.51848,\n",
              " -1.5444412,\n",
              " -1.9244393,\n",
              " -1.4897381,\n",
              " -2.5699537,\n",
              " -0.3882783,\n",
              " -2.2180533,\n",
              " -0.42430186,\n",
              " -1.6497964,\n",
              " -1.6659899,\n",
              " -2.3229842,\n",
              " -4.0291705,\n",
              " -2.228124,\n",
              " -3.9372826,\n",
              " -1.9456811,\n",
              " -0.247208,\n",
              " -4.851924,\n",
              " -3.3609884,\n",
              " -2.7971494,\n",
              " -0.43345368,\n",
              " -3.2491236,\n",
              " -2.00834,\n",
              " -2.3142223,\n",
              " -0.5095494,\n",
              " -5.179699,\n",
              " -1.7566832,\n",
              " -0.2598554,\n",
              " -0.47451532,\n",
              " -2.7898395,\n",
              " -0.60940814,\n",
              " -0.021771546,\n",
              " -0.99172115,\n",
              " 0.68982565,\n",
              " -3.2691,\n",
              " 0.35163713,\n",
              " -1.0232776,\n",
              " 0.120194435,\n",
              " -1.9333339,\n",
              " -0.83856714,\n",
              " -1.639348,\n",
              " -2.0098245,\n",
              " -3.7367768,\n",
              " -2.4186559,\n",
              " -3.3428504,\n",
              " -2.8671684,\n",
              " -2.2012227,\n",
              " -1.6801147,\n",
              " -2.2655067,\n",
              " -2.6348171,\n",
              " -2.7037954,\n",
              " -1.7212903,\n",
              " -2.4701557,\n",
              " -0.51790667,\n",
              " -0.73943305,\n",
              " 0.24185723,\n",
              " -2.227249,\n",
              " -1.4946208,\n",
              " -1.8418112,\n",
              " -1.5507443,\n",
              " -0.46816754,\n",
              " 0.07694149,\n",
              " -2.8694937,\n",
              " -3.1647227,\n",
              " -1.0649742,\n",
              " -1.2611575,\n",
              " -0.29717588,\n",
              " -0.7676723,\n",
              " -1.0687007,\n",
              " -0.6372957,\n",
              " -0.30450153,\n",
              " -1.161044,\n",
              " -1.2975826,\n",
              " -4.5368624,\n",
              " -2.3817582,\n",
              " -4.1726623,\n",
              " -4.591913,\n",
              " -0.6800962,\n",
              " -0.3421663,\n",
              " -3.4539378,\n",
              " -3.315878,\n",
              " -1.9419248,\n",
              " -4.2347374,\n",
              " 0.124988675,\n",
              " -3.5442383,\n",
              " -4.3187356,\n",
              " -0.90944076,\n",
              " 0.11501098,\n",
              " -0.30877018,\n",
              " -0.7489383,\n",
              " -1.1260352,\n",
              " -1.1127341,\n",
              " -2.7353702,\n",
              " -1.5017936,\n",
              " -0.5874481,\n",
              " -0.18456352,\n",
              " -1.871408,\n",
              " -0.47189486,\n",
              " -4.2426004,\n",
              " -0.35027182,\n",
              " -1.8395802,\n",
              " -0.41351473,\n",
              " -2.8307195,\n",
              " -0.6834873,\n",
              " -2.0433788,\n",
              " -2.465813,\n",
              " -3.0502055,\n",
              " -2.7352562,\n",
              " -3.9180672,\n",
              " -1.0757748,\n",
              " -3.7656322,\n",
              " -0.59820294,\n",
              " -1.1856444,\n",
              " 0.26548237,\n",
              " -0.62091917,\n",
              " -0.532797,\n",
              " -2.3334732,\n",
              " -0.43845093,\n",
              " -2.8844326,\n",
              " -0.34089482,\n",
              " -1.144977,\n",
              " -1.7510715,\n",
              " -0.26063812,\n",
              " -0.11355519,\n",
              " -2.9508471,\n",
              " 0.094695926,\n",
              " -0.17777348,\n",
              " 0.046532754,\n",
              " -2.3324172,\n",
              " -3.2375882,\n",
              " -2.9561121,\n",
              " -1.233108,\n",
              " -1.4640071,\n",
              " -1.6995982,\n",
              " -3.8584962,\n",
              " -0.31531155,\n",
              " -3.774696,\n",
              " -2.6883414,\n",
              " -0.23766029,\n",
              " -0.26763815,\n",
              " 0.40881056,\n",
              " -0.77373123,\n",
              " -1.1492339,\n",
              " -3.0017786,\n",
              " -3.854385,\n",
              " -3.9593298,\n",
              " -1.9844208,\n",
              " -1.6523849,\n",
              " -2.5916986,\n",
              " -2.0040946,\n",
              " -0.14365816,\n",
              " -1.594602,\n",
              " -2.124316,\n",
              " -0.82423025,\n",
              " -0.07168257,\n",
              " -2.1538577,\n",
              " -4.8586144,\n",
              " -0.30877018,\n",
              " -0.073171854,\n",
              " -3.5391712,\n",
              " -1.9418339,\n",
              " -0.39735818,\n",
              " -0.49674058,\n",
              " -0.7248651,\n",
              " -2.5212045,\n",
              " -4.713085,\n",
              " -3.3744826,\n",
              " -1.3063881,\n",
              " -2.8635201,\n",
              " -2.4963505,\n",
              " -1.2145798,\n",
              " -2.8015113,\n",
              " -1.17435,\n",
              " -5.052539,\n",
              " -2.663825,\n",
              " -2.7975361,\n",
              " -1.8152683,\n",
              " -1.8960991,\n",
              " 0.6810165,\n",
              " -3.9973338,\n",
              " -1.8250884,\n",
              " 0.0006980933,\n",
              " -1.7755059,\n",
              " -2.2758982,\n",
              " -0.8118222,\n",
              " 0.0763638,\n",
              " -0.9609646,\n",
              " -1.3379402,\n",
              " -2.68264,\n",
              " -0.3724054,\n",
              " -2.1092455,\n",
              " -5.403857,\n",
              " -1.490644,\n",
              " -1.2141876,\n",
              " -1.1572186,\n",
              " -2.7159193,\n",
              " -1.4470164,\n",
              " -2.0485609,\n",
              " -0.45066607,\n",
              " -3.8976283,\n",
              " -4.1464367,\n",
              " 0.05903924,\n",
              " -2.9824786,\n",
              " -2.2605636,\n",
              " -1.6566675,\n",
              " -2.3263707,\n",
              " -2.1727874,\n",
              " -2.888677,\n",
              " -2.4043992,\n",
              " -2.8509307,\n",
              " -4.0718265,\n",
              " -1.5090259,\n",
              " -1.3563282,\n",
              " -2.7675254,\n",
              " -2.485581,\n",
              " -1.2098424,\n",
              " -0.18179065,\n",
              " -3.281957,\n",
              " -2.9556708,\n",
              " -0.98658544,\n",
              " -2.6262019,\n",
              " -2.4872875,\n",
              " -4.226594,\n",
              " 0.016790275,\n",
              " -1.0455009,\n",
              " -2.0710936,\n",
              " -1.839425,\n",
              " -0.40048754,\n",
              " -1.0168551,\n",
              " -2.2607605,\n",
              " -0.56644183,\n",
              " -0.07857293,\n",
              " ...]"
            ]
          },
          "metadata": {
            "tags": []
          },
          "execution_count": 153
        }
      ]
    },
    {
      "cell_type": "code",
      "metadata": {
        "id": "ZNTUFUK80s58"
      },
      "source": [
        "# #This aims to check the distribution of the data which is in highest bar in AE1 of AE2.'''\n",
        "# #Take out the index of data in highest bar in AE1 and use index to take out corresponding data in AE2'''\n",
        "\n",
        "# from replot_highest import *\n",
        "# row1, row2 = replot_highest(a1_0, b1_0, a2_0, b2_0)\n",
        "# row3, row4 = replot_highest(a1_1, b1_1, a2_1, b2_1)\n",
        "\n",
        "# #Replot data extracted above in AE2 plot'''\n",
        "# from histogram_3d import *\n",
        "# plot_his_3d(row1, row2, 0.000001, 0.0001, a2_0, b2_0, 'histogram of data in highest bar in AE1 plotted in AE2 (label0)')\n",
        "# plot_his_3d(a2_0, b2_0, 0.000001, 0.0001, a2_0, b2_0, 'Original histogram of AE2 (label0)')\n",
        "# plot_his_3d(row3, row4, 0.000001, 0.0001, a2_1, b2_1, 'histogram of data in highest bar in AE1 plotted in AE2 (label1)')\n",
        "# plot_his_3d(a2_1, b2_1, 0.000001, 0.0001, a2_1, b2_1, 'Original histogram of AE2 (label1)')"
      ],
      "execution_count": null,
      "outputs": []
    },
    {
      "cell_type": "code",
      "metadata": {
        "id": "hTWzypbhYOyW",
        "outputId": "19d188b3-758d-458b-dba4-944e6e28b2b4",
        "colab": {
          "base_uri": "https://localhost:8080/"
        }
      },
      "source": [
        "len(each_label)"
      ],
      "execution_count": null,
      "outputs": [
        {
          "output_type": "execute_result",
          "data": {
            "text/plain": [
              "27146"
            ]
          },
          "metadata": {
            "tags": []
          },
          "execution_count": 155
        }
      ]
    },
    {
      "cell_type": "markdown",
      "metadata": {
        "id": "1yKbtvtzpdQL"
      },
      "source": [
        "###Test training\n"
      ]
    },
    {
      "cell_type": "code",
      "metadata": {
        "id": "ZG1xnEePMhSV"
      },
      "source": [
        "test_tensor = TensorDataset(Tensor(params['X_val']), Tensor(params['y_val']))\n",
        "test_loader = DataLoader(dataset = test_tensor, batch_size = params['bs'], shuffle = True)"
      ],
      "execution_count": null,
      "outputs": []
    },
    {
      "cell_type": "code",
      "metadata": {
        "id": "hOuCkjQg1ar2"
      },
      "source": [
        "#derive the testing set data, train it and store the output from the basicnet.\n",
        "cache_test = Cache(2)\n",
        "for (x, y) in test_loader:\n",
        "  (x, y) = x.to(params['device']), y.to(params['device'])  \n",
        "  h1_test = mc_model.get_embedding(x, 1) \n",
        "  cache_test.store(h1_test, 1)\n",
        "\n",
        "  h2_test = mc_model.get_embedding(x, 2) \n",
        "  cache_test.store(h2_test, 2)\n",
        "  cache_test.store_label(y)\n",
        "\n"
      ],
      "execution_count": null,
      "outputs": []
    },
    {
      "cell_type": "code",
      "metadata": {
        "id": "Nz_53Oea1cWK"
      },
      "source": [
        "#split test data so that each data points can be used\n",
        "split1_test = split(cache_test.embeddings[1])\n",
        "split2_test = split(cache_test.embeddings[2])\n",
        "split_labels_test = split(cache_test.labels)"
      ],
      "execution_count": null,
      "outputs": []
    },
    {
      "cell_type": "code",
      "metadata": {
        "id": "Q2fpq2d6KZPi"
      },
      "source": [
        "# 'derive the output from AE'\n",
        "# layer_num = 1\n",
        "# layer_test = layer1_test\n",
        "# for i in range(len(layer_test)):\n",
        "# \tif layer_num == 1:\n",
        "# \t\tlayer_test[i] = ae1.encode(layer_test[i])\n",
        "# \tif layer_num == 2:\n",
        "# \t\tlayer_test[i] = ae2.encode(layer_test[i])"
      ],
      "execution_count": null,
      "outputs": []
    },
    {
      "cell_type": "code",
      "metadata": {
        "id": "T8twGQ42MEwf"
      },
      "source": [
        "#convert the data to list which is used to compute epsilon of knn\n",
        "a1_test, b1_test, freeze_layer1_test, a2_test, b2_test, freeze_layer2_test, labels_test = convert(split1_test, split2_test, split_labels_test)"
      ],
      "execution_count": null,
      "outputs": []
    },
    {
      "cell_type": "markdown",
      "metadata": {
        "id": "GR4ZJDYzVjIS"
      },
      "source": [
        "### Plot test set"
      ]
    },
    {
      "cell_type": "code",
      "metadata": {
        "id": "zWSkDE0RR2Ah"
      },
      "source": [
        "#seperate elements from output of layers with respect to their labels\n",
        "#a1_0 represents for first element in layer1 with label 0\n",
        "#b2_1 represents for second element in layer2 with label 1\n",
        "import numpy as np\n",
        "a1_t_0 = []\n",
        "b1_t_0 = []\n",
        "a2_t_0 = []\n",
        "b2_t_0 = []\n",
        "a1_t_1 = []\n",
        "a2_t_1 = []\n",
        "b1_t_1 = []\n",
        "b2_t_1 = []\n",
        "test_freeze_layer1_label0 = []\n",
        "test_freeze_layer1_label1 = []\n",
        "test_freeze_layer2_label0 = []\n",
        "test_freeze_layer2_label1 = []\n",
        "for i in range(len(labels_test)):\n",
        "  if labels_test[i] == 0:\n",
        "    a1_t_0.append(a1_test[i])\n",
        "    b1_t_0.append(b1_test[i])\n",
        "    a2_t_0.append(a2_test[i])\n",
        "    b2_t_0.append(b2_test[i])\n",
        "    test_freeze_layer1_label0.append(freeze_layer1_test[i])\n",
        "    test_freeze_layer2_label0.append(freeze_layer2_test[i])\n",
        "  if labels_test[i] == 1:\n",
        "    a1_t_1.append(a1_test[i])\n",
        "    b1_t_1.append(b1_test[i])\n",
        "    a2_t_1.append(a2_test[i])\n",
        "    b2_t_1.append(b2_test[i])\n",
        "    freeze_layer1_label1.append(freeze_layer1_test[i])\n",
        "    freeze_layer2_label1.append(freeze_layer2_test[i])"
      ],
      "execution_count": null,
      "outputs": []
    },
    {
      "cell_type": "code",
      "metadata": {
        "id": "Begx1cYCSiMi",
        "outputId": "80ba1bd9-ed03-4769-eccc-67585486e898",
        "colab": {
          "base_uri": "https://localhost:8080/"
        }
      },
      "source": [
        "''' Plot the 3d histograms of output from 2 test layers with respect to their first\n",
        " and second element and their corresponding labels'''\n",
        "\n",
        "from histogram_3d_both import *\n",
        "plot_his_3d_both(a1_t_0, b1_t_0, a1_t_1, b1_t_1, 0.1, 0.1, a1_test, b1_test, 'Histogram of output of AE1 (orange for label1, blue for label0)')\n",
        "plot_his_3d_both(a2_t_0, b2_t_0, a2_t_1, b2_t_1, 0.1, 0.1, a2_test, b2_test, 'Histogram of output of AE2 (orange for label1, blue for label0)')"
      ],
      "execution_count": null,
      "outputs": [
        {
          "output_type": "display_data",
          "data": {
            "image/png": "[encoded data removed]",
            "text/plain": [
              "<Figure size 432x288 with 1 Axes>"
            ]
          },
          "metadata": {
            "tags": [],
            "needs_background": "light"
          }
        },
        {
          "output_type": "display_data",
          "data": {
            "image/png": "[encoded data removed]",
            "text/plain": [
              "<Figure size 432x288 with 1 Axes>"
            ]
          },
          "metadata": {
            "tags": [],
            "needs_background": "light"
          }
        }
      ]
    },
    {
      "cell_type": "markdown",
      "metadata": {
        "id": "941EQUumVouW"
      },
      "source": [
        "### Cluster"
      ]
    },
    {
      "cell_type": "code",
      "metadata": {
        "id": "zxr6mTqfGtQd"
      },
      "source": [
        "from grid_cluster import *\n",
        "# This aims to grid the data in caches and find centroids with corresponding confidence in each cluster\n",
        "# Here we grid data by 2*2 matrix, for each grid, we have 4 clusters\n",
        "confi_layer1_label0, cluster_layer1_label0 = grid_cluster(freeze_layer1_label0, a1_0, b1_0, 2, 4)\n",
        "confi_layer1_label1, cluster_layer1_label1 = grid_cluster(freeze_layer1_label1, a1_1, b1_1, 2, 4)\n",
        "# confi_layer2_label0, cluster_layer2_label0 = grid_cluster(freeze_layer2_label0, a2_0, b2_0, 10, 4)\n",
        "# confi_layer2_label1, cluster_layer2_label1 = grid_cluster(freeze_layer2_label1, a2_1, b2_1, 10, 4)"
      ],
      "execution_count": null,
      "outputs": []
    },
    {
      "cell_type": "code",
      "metadata": {
        "id": "WYLP5Kc1uPOu"
      },
      "source": [
        "#combine centroids with label0 and with label1\n",
        "confi_layer1 = confi_layer1_label0 + confi_layer1_label1\n",
        "cluster_layer1 = cluster_layer1_label0 + cluster_layer1_label1\n",
        "# confi_layer2 = confi_layer2_label0 + confi_layer2_label1\n",
        "# cluster_layer2 = cluster_layer2_label0 + cluster_layer2_label1"
      ],
      "execution_count": null,
      "outputs": []
    },
    {
      "cell_type": "code",
      "metadata": {
        "id": "wc7iCdC8Z9tv"
      },
      "source": [
        "#seperate elements from output of layers with respect to their labels\n",
        "#a1_0 represents for first element in layer1 with label 0\n",
        "#b2_1 represents for second element in layer2 with label 1\n",
        "import numpy as np\n",
        "a1_c = [] \n",
        "b1_c = []\n",
        "a1_c_0 = []\n",
        "b1_c_0 = []\n",
        "\n",
        "a1_c_1 = []\n",
        "b1_c_1 = []\n",
        "\n",
        "for i in range(len(confi_layer1_label0)):\n",
        "  a1_c_0.append(cluster_layer1_label0[i][0])\n",
        "  b1_c_0.append(cluster_layer1_label0[i][1])\n",
        "for i in range(len(confi_layer1_label1)):\n",
        "  a1_c_1.append(cluster_layer1_label1[i][0])\n",
        "  b1_c_1.append(cluster_layer1_label1[i][1])\n",
        "\n",
        "for i in range(len(confi_layer1)):\n",
        "  a1_c.append(cluster_layer1[i][0])\n",
        "  b1_c.append(cluster_layer1[i][1])\n",
        "\n"
      ],
      "execution_count": null,
      "outputs": []
    },
    {
      "cell_type": "code",
      "metadata": {
        "id": "Fzhwi0d3jfiL",
        "outputId": "0e46a974-8301-4d88-979b-5548180e6f42",
        "colab": {
          "base_uri": "https://localhost:8080/",
          "height": 530
        }
      },
      "source": [
        "# encoding=utf-8\n",
        "import matplotlib.pyplot as plt\n",
        " \n",
        "# 设置画布大小\n",
        "plt.figure(figsize=(8, 8))\n",
        " \n",
        "# 标题\n",
        "plt.title(\"Distribution of cluster center point\")\n",
        " \n",
        "# 数据\n",
        "plt.plot(a1_c_0, b1_c_0, 'ro')\n",
        " \n",
        "# 横坐标描述\n",
        "plt.xlabel('first element of cluster of layer1 with label0')\n",
        " \n",
        "# 纵坐标描述\n",
        "plt.ylabel('second element of cluster of layer1 with label0')\n",
        " \n",
        "# 设置数字标签\n",
        "for a, b, c in zip(a1_c_0, b1_c_0, confi_layer1_label0):\n",
        "    plt.text(a, b, c, ha='center', va='bottom', fontsize=20)\n",
        " \n",
        "plt.legend()\n",
        "plt.show()"
      ],
      "execution_count": null,
      "outputs": [
        {
          "output_type": "stream",
          "text": [
            "No handles with labels found to put in legend.\n"
          ],
          "name": "stderr"
        },
        {
          "output_type": "display_data",
          "data": {
            "image/png": "[encoded data removed]",
            "text/plain": [
              "<Figure size 576x576 with 1 Axes>"
            ]
          },
          "metadata": {
            "tags": [],
            "needs_background": "light"
          }
        }
      ]
    },
    {
      "cell_type": "code",
      "metadata": {
        "id": "o4_cjffmkxVW",
        "outputId": "61344225-f13f-4323-8be3-96a93ce198f9",
        "colab": {
          "base_uri": "https://localhost:8080/",
          "height": 530
        }
      },
      "source": [
        "# encoding=utf-8\n",
        "import matplotlib.pyplot as plt\n",
        " \n",
        "# 设置画布大小\n",
        "plt.figure(figsize=(8, 8))\n",
        " \n",
        "# 标题\n",
        "plt.title(\"Distribution of cluster center point\")\n",
        " \n",
        "# 数据\n",
        "plt.plot(a1_c_1, b1_c_1, 'ro')\n",
        " \n",
        "# 横坐标描述\n",
        "plt.xlabel('first element of cluster of layer1 with label1')\n",
        " \n",
        "# 纵坐标描述\n",
        "plt.ylabel('second element of cluster of layer1 with label1')\n",
        " \n",
        "# 设置数字标签\n",
        "for a, b, c in zip(a1_c_1, b1_c_1, confi_layer1_label1):\n",
        "    plt.text(a, b, c, ha='center', va='bottom', fontsize=20)\n",
        " \n",
        "plt.legend()\n",
        "plt.show()"
      ],
      "execution_count": null,
      "outputs": [
        {
          "output_type": "stream",
          "text": [
            "No handles with labels found to put in legend.\n"
          ],
          "name": "stderr"
        },
        {
          "output_type": "display_data",
          "data": {
            "image/png": "[encoded data removed]",
            "text/plain": [
              "<Figure size 576x576 with 1 Axes>"
            ]
          },
          "metadata": {
            "tags": [],
            "needs_background": "light"
          }
        }
      ]
    },
    {
      "cell_type": "code",
      "metadata": {
        "id": "ZIE1kFgZSfdH",
        "outputId": "bd9c75c6-a99a-4ed2-83fb-78214d8adb9a",
        "colab": {
          "base_uri": "https://localhost:8080/",
          "height": 170
        }
      },
      "source": [
        "#instead of use KNN, we use small number as enlarging radius of our data to capture the nearest clusters.\n",
        "# we find data in centroid of layer in the range of a+- small number\n",
        "\n",
        "#Here I only do neighboring in test layer1.\n",
        "# Take all training data and all testing data points.\n",
        "import time\n",
        "from enlarging_radius_1 import *\n",
        "acc_log = {i: [] for i in range(1,10)}\n",
        "for threshold_coe in range(1,10):\n",
        "  threshold = threshold_coe * 0.1 \n",
        "  start = time.time()\n",
        "  layer1_label_pred, neighbor = get_label(1, True, len(confi_layer1)/2, a1, b1, a2, b2, freeze_layer1_test, each_label, cluster_layer1, confi_layer1, 1000000, threshold)\n",
        "  end = time.time()\n",
        "  \n",
        "  print(end - start)\n",
        "\n",
        "  #calculate acc\n",
        "  length = 0\n",
        "  for i in neighbor.values():\n",
        "    length += len(i)\n",
        "  #calculate acc\n",
        "  correct = 0\n",
        "  miss = 0\n",
        "  no_neighbor = 0\n",
        "  error = 0\n",
        "  for i in range(len(freeze_layer1_test)):\n",
        "    if layer1_label_pred[i] == 'not sure':\n",
        "      miss += 1\n",
        "    elif layer1_label_pred[i] == 'do not have neighbor in this range':\n",
        "      no_neighbor += 1\n",
        "    elif int(layer1_label_pred[i]) == int(labels_test[i]):\n",
        "      correct += 1\n",
        "    elif int(layer1_label_pred[i]) + int(labels_test[i]) == 1:\n",
        "      error += 1\n",
        "  \n",
        "  if (len(layer1_label_pred) - no_neighbor - miss) == 0:\n",
        "    accuracy = 'All miss'\n",
        "    cache_miss = miss/len(layer1_label_pred)\n",
        "    no = no_neighbor/len(layer1_label_pred)\n",
        "    error = 'None'\n",
        "  else:\n",
        "    accuracy = correct/(len(layer1_label_pred) - no_neighbor - miss)\n",
        "    cache_miss = miss/len(layer1_label_pred)\n",
        "    no = no_neighbor/len(layer1_label_pred)\n",
        "    error = error/(len(layer1_label_pred) - no_neighbor - miss)\n",
        "\n",
        "    \n",
        "  \n",
        "  \n",
        "  \n",
        "\n",
        "\n",
        "\n",
        "  #store in log\n",
        "  acc_log[threshold_coe].append(['threshold:',threshold, 'average neighbors:', length/len(freeze_layer1_test),'process time:', end-start, 'acc:', accuracy, 'cache miss rate', cache_miss, 'error rate', error, 'no neighbor', no])"
      ],
      "execution_count": null,
      "outputs": [
        {
          "output_type": "stream",
          "text": [
            "0.4504053592681885\n",
            "0.5845389366149902\n",
            "0.4440031051635742\n",
            "0.44849157333374023\n",
            "0.43971753120422363\n",
            "0.580585241317749\n",
            "0.44563984870910645\n",
            "0.4440925121307373\n",
            "0.5710093975067139\n"
          ],
          "name": "stdout"
        }
      ]
    },
    {
      "cell_type": "code",
      "metadata": {
        "id": "eE5LvxGLs_Rp",
        "outputId": "234b08d1-1972-4191-e8ef-389a238d9722",
        "colab": {
          "base_uri": "https://localhost:8080/",
          "height": 1000
        }
      },
      "source": [
        "acc_log"
      ],
      "execution_count": null,
      "outputs": [
        {
          "output_type": "execute_result",
          "data": {
            "text/plain": [
              "{1: [['threshold:',\n",
              "   0.1,\n",
              "   'average neighbors:',\n",
              "   11.679376657824934,\n",
              "   'process time:',\n",
              "   0.4504053592681885,\n",
              "   'acc:',\n",
              "   0.8003978779840849,\n",
              "   'cache miss rate',\n",
              "   0.0,\n",
              "   'error rate',\n",
              "   0.19960212201591512,\n",
              "   'no neighbor',\n",
              "   0.0]],\n",
              " 2: [['threshold:',\n",
              "   0.2,\n",
              "   'average neighbors:',\n",
              "   11.679376657824934,\n",
              "   'process time:',\n",
              "   0.5845389366149902,\n",
              "   'acc:',\n",
              "   0.8003978779840849,\n",
              "   'cache miss rate',\n",
              "   0.0,\n",
              "   'error rate',\n",
              "   0.19960212201591512,\n",
              "   'no neighbor',\n",
              "   0.0]],\n",
              " 3: [['threshold:',\n",
              "   0.30000000000000004,\n",
              "   'average neighbors:',\n",
              "   11.679376657824934,\n",
              "   'process time:',\n",
              "   0.4440031051635742,\n",
              "   'acc:',\n",
              "   0.8003978779840849,\n",
              "   'cache miss rate',\n",
              "   0.0,\n",
              "   'error rate',\n",
              "   0.19960212201591512,\n",
              "   'no neighbor',\n",
              "   0.0]],\n",
              " 4: [['threshold:',\n",
              "   0.4,\n",
              "   'average neighbors:',\n",
              "   11.679376657824934,\n",
              "   'process time:',\n",
              "   0.44849157333374023,\n",
              "   'acc:',\n",
              "   0.8003978779840849,\n",
              "   'cache miss rate',\n",
              "   0.0,\n",
              "   'error rate',\n",
              "   0.19960212201591512,\n",
              "   'no neighbor',\n",
              "   0.0]],\n",
              " 5: [['threshold:',\n",
              "   0.5,\n",
              "   'average neighbors:',\n",
              "   11.679376657824934,\n",
              "   'process time:',\n",
              "   0.43971753120422363,\n",
              "   'acc:',\n",
              "   0.8000663129973474,\n",
              "   'cache miss rate',\n",
              "   0.0,\n",
              "   'error rate',\n",
              "   0.19993368700265252,\n",
              "   'no neighbor',\n",
              "   0.0]],\n",
              " 6: [['threshold:',\n",
              "   0.6000000000000001,\n",
              "   'average neighbors:',\n",
              "   11.679376657824934,\n",
              "   'process time:',\n",
              "   0.580585241317749,\n",
              "   'acc:',\n",
              "   0.8003316749585406,\n",
              "   'cache miss rate',\n",
              "   0.0003315649867374005,\n",
              "   'error rate',\n",
              "   0.19966832504145937,\n",
              "   'no neighbor',\n",
              "   0.0]],\n",
              " 7: [['threshold:',\n",
              "   0.7000000000000001,\n",
              "   'average neighbors:',\n",
              "   11.679376657824934,\n",
              "   'process time:',\n",
              "   0.44563984870910645,\n",
              "   'acc:',\n",
              "   0.8013355592654424,\n",
              "   'cache miss rate',\n",
              "   0.006962864721485411,\n",
              "   'error rate',\n",
              "   0.1986644407345576,\n",
              "   'no neighbor',\n",
              "   0.0]],\n",
              " 8: [['threshold:',\n",
              "   0.8,\n",
              "   'average neighbors:',\n",
              "   11.679376657824934,\n",
              "   'process time:',\n",
              "   0.4440925121307373,\n",
              "   'acc:',\n",
              "   1.0,\n",
              "   'cache miss rate',\n",
              "   0.9980106100795756,\n",
              "   'error rate',\n",
              "   0.0,\n",
              "   'no neighbor',\n",
              "   0.0]],\n",
              " 9: [['threshold:',\n",
              "   0.9,\n",
              "   'average neighbors:',\n",
              "   11.679376657824934,\n",
              "   'process time:',\n",
              "   0.5710093975067139,\n",
              "   'acc:',\n",
              "   1.0,\n",
              "   'cache miss rate',\n",
              "   0.9980106100795756,\n",
              "   'error rate',\n",
              "   0.0,\n",
              "   'no neighbor',\n",
              "   0.0]]}"
            ]
          },
          "metadata": {
            "tags": []
          },
          "execution_count": 171
        }
      ]
    },
    {
      "cell_type": "code",
      "metadata": {
        "id": "CQ8yZ0BD2kg_"
      },
      "source": [
        ""
      ],
      "execution_count": null,
      "outputs": []
    }
  ]
}