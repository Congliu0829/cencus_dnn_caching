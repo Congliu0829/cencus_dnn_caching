{
  "nbformat": 4,
  "nbformat_minor": 0,
  "metadata": {
    "kernelspec": {
      "display_name": "Python 3",
      "language": "python",
      "name": "python3"
    },
    "language_info": {
      "codemirror_mode": {
        "name": "ipython",
        "version": 3
      },
      "file_extension": ".py",
      "mimetype": "text/x-python",
      "name": "python",
      "nbconvert_exporter": "python",
      "pygments_lexer": "ipython3",
      "version": "3.7.6"
    },
    "colab": {
      "name": "“Adult_census_use_cluster.ipynb”",
      "provenance": [],
      "collapsed_sections": [
        "5ev5Wl-ApXWJ"
      ],
      "toc_visible": true,
      "machine_shape": "hm"
    }
  },
  "cells": [
    {
      "cell_type": "code",
      "metadata": {
        "id": "U600zb7_-GZ3",
        "colab_type": "code",
        "colab": {}
      },
      "source": [
        "import sys\n",
        "sys.path.append('/content/adult.csv')\n",
        "from utils import * \n",
        "from model_embedding import *\n"
      ],
      "execution_count": 1,
      "outputs": []
    },
    {
      "cell_type": "code",
      "metadata": {
        "id": "6O9C82Wn-GaE",
        "colab_type": "code",
        "colab": {}
      },
      "source": [
        "import matplotlib.pyplot as plt\n",
        "def plot_acc_fairness(model):\n",
        "    f, axes = plt.subplots(figsize=(16, 6), nrows=1, ncols=2, sharex=True, sharey=False)\n",
        "    curr_ax = axes[0]\n",
        "    curr_ax.plot( [x[0] for x in model.logs])\n",
        "    curr_ax.set_ylabel('Model Accuracy', fontsize = 20)\n",
        "    curr_ax.set_xlabel('Epochs', fontsize = 20)\n",
        "    curr_ax.tick_params(axis=\"x\", labelsize=15) \n",
        "    plt.show()\n",
        "    \n",
        "    "
      ],
      "execution_count": 2,
      "outputs": []
    },
    {
      "cell_type": "code",
      "metadata": {
        "id": "M3l6mM_X-GaI",
        "colab_type": "code",
        "colab": {}
      },
      "source": [
        "from utils import * \n",
        "from model_embedding import *\n",
        "pd00, label_name, feats = load_data('census')\n",
        "seed = 0\n",
        "X_train, X_val, X_test, y_train, y_val, y_test = get_data_loader(pd00, feats, label_name, seed=seed)\n",
        "params = {}\n",
        "params['X_train'] = X_train\n",
        "params['X_val'] = X_val\n",
        "params['y_train'] = y_train\n",
        "params['y_val'] = y_val\n",
        "params['device'] = 'cpu'\n",
        "params['bs'] = 256\n",
        "options = {}\n",
        "options['model_lr'] = 1e-3\n",
        "\n",
        "options['epochs'] = 400\n",
        "input_dim = X_train.shape[1]\n",
        "options['input_size'] = input_dim\n",
        "\n",
        "\n"
      ],
      "execution_count": 3,
      "outputs": []
    },
    {
      "cell_type": "code",
      "metadata": {
        "id": "HV7gi6PF-GaL",
        "colab_type": "code",
        "colab": {}
      },
      "source": [
        "## GRID SEARCH TO SELECT OPTIMAL NETWORK STRUCTURE\n",
        "grid_search_list = []\n",
        "options['acc_only'] = True #  Accuracy as the Metric to select Optimal Network  \n",
        "options['step_size'] = 0.0 # Disable step-size if you only need to learn a simple classifier (w.o fairness)\n",
        "options['lr_mult'] = 0  # also need to set the initial Multipliers to be zeroes\n",
        "\n",
        "for n_gen in [int(x) for x in np.linspace(input_dim / 2, input_dim - 1, 2)]:\n",
        "    for n_z in [int(x) for x in np.linspace(input_dim / 5 + 1, input_dim / 2, 2)]:\n",
        "        if n_z < n_gen:\n",
        "            curr_options = copy.deepcopy(options)\n",
        "            curr_options['model_params'] = {'input_size': input_dim, 'gen_nnodes_list': [n_gen],\n",
        "                                            'z1_nnodes_list': [n_z], \\\n",
        "                                            'z0_nnodes_list': [n_z]}\n",
        "            grid_search_list.append(curr_options)"
      ],
      "execution_count": 4,
      "outputs": []
    },
    {
      "cell_type": "markdown",
      "metadata": {
        "id": "koTycTQZ-GaO",
        "colab_type": "text"
      },
      "source": [
        "### 1. A simple Deep Network Classifier"
      ]
    },
    {
      "cell_type": "code",
      "metadata": {
        "id": "w7vXefdh-GaO",
        "colab_type": "code",
        "colab": {
          "base_uri": "https://localhost:8080/",
          "height": 88
        },
        "outputId": "804ded0e-514f-416e-81f7-7a7be8f3ba1f"
      },
      "source": [
        "# A simple deep network classifier without fairness\n",
        "mc_model = LDSharedModel(params)\n",
        "mc_model.hyper_opt(grid_search_list)"
      ],
      "execution_count": 5,
      "outputs": [
        {
          "output_type": "stream",
          "text": [
            "{'model_lr': 0.001, 'epochs': 400, 'input_size': 12, 'acc_only': True, 'step_size': 0.0, 'lr_mult': 0, 'model_params': {'input_size': 12, 'gen_nnodes_list': [6], 'z1_nnodes_list': [3], 'z0_nnodes_list': [3]}}\n",
            "{'model_lr': 0.001, 'epochs': 400, 'input_size': 12, 'acc_only': True, 'step_size': 0.0, 'lr_mult': 0, 'model_params': {'input_size': 12, 'gen_nnodes_list': [11], 'z1_nnodes_list': [3], 'z0_nnodes_list': [3]}}\n",
            "{'model_lr': 0.001, 'epochs': 400, 'input_size': 12, 'acc_only': True, 'step_size': 0.0, 'lr_mult': 0, 'model_params': {'input_size': 12, 'gen_nnodes_list': [11], 'z1_nnodes_list': [6], 'z0_nnodes_list': [6]}}\n"
          ],
          "name": "stdout"
        }
      ]
    },
    {
      "cell_type": "code",
      "metadata": {
        "id": "esDtftou-GaQ",
        "colab_type": "code",
        "colab": {
          "base_uri": "https://localhost:8080/",
          "height": 406
        },
        "outputId": "2207c60d-6361-41d4-98d5-3d9a3ff7960b"
      },
      "source": [
        "plot_acc_fairness(mc_model)"
      ],
      "execution_count": 6,
      "outputs": [
        {
          "output_type": "display_data",
          "data": {
            "image/png": "[encoded data removed]",
            "text/plain": [
              "<Figure size 1152x432 with 2 Axes>"
            ]
          },
          "metadata": {
            "tags": [],
            "needs_background": "light"
          }
        }
      ]
    },
    {
      "cell_type": "code",
      "metadata": {
        "id": "jcr6g_gL-GaT",
        "colab_type": "code",
        "colab": {
          "base_uri": "https://localhost:8080/",
          "height": 54
        },
        "outputId": "40e882e8-45ef-4c24-ebc0-685993af2d7f"
      },
      "source": [
        "best_options = mc_model.best_options\n",
        "print(best_options)"
      ],
      "execution_count": 7,
      "outputs": [
        {
          "output_type": "stream",
          "text": [
            "{'model_lr': 0.001, 'epochs': 400, 'input_size': 12, 'acc_only': True, 'step_size': 0.0, 'lr_mult': 0, 'model_params': {'input_size': 12, 'gen_nnodes_list': [6], 'z1_nnodes_list': [3], 'z0_nnodes_list': [3]}, 'return_output': True}\n"
          ],
          "name": "stdout"
        }
      ]
    },
    {
      "cell_type": "markdown",
      "metadata": {
        "id": "wod9DVzqo2CN",
        "colab_type": "text"
      },
      "source": [
        "\n",
        "\n",
        "###2.   Use best_option to train Basic Net\n",
        "\n"
      ]
    },
    {
      "cell_type": "code",
      "metadata": {
        "id": "gC7QAj7gN7qP",
        "colab_type": "code",
        "colab": {}
      },
      "source": [
        "# import os\n",
        "# os.environ['KMP_DUPLICATE_LIB_OK']='True'\n",
        "\n",
        "# from torch_utils import *\n",
        "# from dataset import Dataset\n",
        "# from basicnet import Net\n",
        "# import matplotlib.pyplot as plt\n",
        "\n",
        "\n",
        "# device = torch.device(\"cpu\")\n",
        "# if torch.cuda.is_available():\n",
        "#     device = torch.device(\"cuda\")\n",
        "\n",
        "# params = {'benchmark': 'adult', 'maxlen': 0, 'batch_size': 500,\n",
        "#           'split': [0.7, 0.2, 0.1], 'seed': 0,\n",
        "#           'epochs': 100, 'lr': 0.001}\n",
        "# data = Dataset(params, 'train', device)\n",
        "# model = Net(data.nfeatures, [10,5])\n",
        "\n",
        "# loss_fn = nn.BCELoss()\n",
        "# optimizer = optim.Adam(model.parameters(), lr=params['lr'])"
      ],
      "execution_count": 8,
      "outputs": []
    },
    {
      "cell_type": "code",
      "metadata": {
        "id": "BKC5c6nfRihn",
        "colab_type": "code",
        "colab": {}
      },
      "source": [
        "# from cache import Cache\n",
        "# cache = Cache(2) # we'll use only the hidden layers\n",
        "\n",
        "# for epoch in range(params['epochs']):\n",
        "#     for (x, y) in data:\n",
        "#         (x, y) = x.to(device), y.to(device)\n",
        "#         h2 = model.get_embedding(x, 1) \n",
        "#         cache.store(h2, 1)\n",
        "\n",
        "#         h3 = model.get_embedding(x, 2) \n",
        "#         cache.store(h3, 2)\n",
        "#         cache.store_label(y)"
      ],
      "execution_count": 9,
      "outputs": []
    },
    {
      "cell_type": "code",
      "metadata": {
        "id": "Gz88i3Npytt2",
        "colab_type": "code",
        "colab": {}
      },
      "source": [
        "import os\n",
        "os.environ['KMP_DUPLICATE_LIB_OK']='True'\n",
        "\n",
        "from torch_utils import *\n",
        "from dataset import Dataset\n",
        "from basicnet import Net\n",
        "import matplotlib.pyplot as plt\n",
        "from cache import Cache\n",
        "\n",
        "device = torch.device(\"cpu\")\n",
        "if torch.cuda.is_available():\n",
        "    device = torch.device(\"cuda\")\n",
        "params = {'benchmark': 'adult', 'maxlen': 0, 'batch_size': 500,\n",
        "          'split': [0.7, 0.2, 0.1], 'seed': 0,\n",
        "          'epochs': 100, 'lr': 0.001}\n",
        "data = Dataset(params, 'train', device)\n",
        "\n",
        "cache = Cache(2) # we'll use only the hidden layers\n",
        "\n"
      ],
      "execution_count": 10,
      "outputs": []
    },
    {
      "cell_type": "code",
      "metadata": {
        "id": "ZAiVIBHQyxiM",
        "colab_type": "code",
        "colab": {}
      },
      "source": [
        "for epoch in range(params['epochs']):\n",
        "    for (x, y) in data:\n",
        "        (x, y) = x.to(device), y.to(device)\n",
        "        h1 = mc_model.get_embedding(x, 1) \n",
        "        cache.store(h1, 1)\n",
        "\n",
        "        h2 = mc_model.get_embedding(x, 2) \n",
        "        cache.store(h2, 2)\n",
        "        cache.store_label(y)"
      ],
      "execution_count": 11,
      "outputs": []
    },
    {
      "cell_type": "code",
      "metadata": {
        "id": "WyaaSDW1Rx97",
        "colab_type": "code",
        "colab": {}
      },
      "source": [
        "from autoencoder import AutoEncoder\n",
        "ae1 = AutoEncoder(10, 2)\n",
        "ae2 = AutoEncoder(5, 2)\n",
        "\n",
        "ae_loss1 = nn.MSELoss()\n",
        "ae_loss2 = nn.MSELoss()\n",
        "opt1 = optim.Adam(ae1.parameters(), lr=0.001)\n",
        "opt2 = optim.Adam(ae2.parameters(), lr=0.001)\n",
        "\n",
        "y1_loss=[]\n",
        "y2_loss=[]\n",
        "\n",
        "for epoch in range(5):#params['epochs']):\n",
        "    for x1 in cache.embeddings[1]:\n",
        "        opt1.zero_grad()\n",
        "        x̃1 = ae1(x1)\n",
        "        l1 = ae_loss1(x̃1, x1)\n",
        "        l1.backward(retain_graph=True)\n",
        "        opt1.step() \n",
        "        y1_loss.append(l1.item())\n",
        "    \n",
        "    for x2 in cache.embeddings[2]:\n",
        "        opt2.zero_grad()\n",
        "        x̃2 = ae2(x2)\n",
        "        l2 = ae_loss2(x̃2, x2)\n",
        "        l2.backward(retain_graph=True)\n",
        "        opt2.step()\n",
        "        y2_loss.append(l2.item())\n"
      ],
      "execution_count": 12,
      "outputs": []
    },
    {
      "cell_type": "code",
      "metadata": {
        "id": "pezahYMXSCha",
        "colab_type": "code",
        "colab": {
          "base_uri": "https://localhost:8080/",
          "height": 284
        },
        "outputId": "ba59a754-34a3-48ea-aea8-b614a3579bbc"
      },
      "source": [
        "plt.plot(y1_loss)\n",
        "plt.plot(y2_loss)\n",
        "plt.legend(['h1', 'h2'])"
      ],
      "execution_count": 13,
      "outputs": [
        {
          "output_type": "execute_result",
          "data": {
            "text/plain": [
              "<matplotlib.legend.Legend at 0x7f815b059518>"
            ]
          },
          "metadata": {
            "tags": []
          },
          "execution_count": 13
        },
        {
          "output_type": "display_data",
          "data": {
            "image/png": "[encoded data removed]",
            "text/plain": [
              "<Figure size 432x288 with 1 Axes>"
            ]
          },
          "metadata": {
            "tags": [],
            "needs_background": "light"
          }
        }
      ]
    },
    {
      "cell_type": "markdown",
      "metadata": {
        "id": "Uop9vOqIo0R6",
        "colab_type": "text"
      },
      "source": [
        "\n",
        "\n",
        "###3.   (Test) Split cache, find clusters, find neighbors\n",
        "\n"
      ]
    },
    {
      "cell_type": "code",
      "metadata": {
        "id": "jpxiy7p31SPo",
        "colab_type": "code",
        "colab": {}
      },
      "source": [
        "cache_train = Cache(2)\n",
        "for (x, y) in data:\n",
        "  (x, y) = x.to(device), y.to(device)\n",
        "  h_t1 = mc_model.get_embedding(x, 1)\n",
        "  cache_train.store(h_t1, 1)\n",
        "  h_t2 = mc_model.get_embedding(x, 2) \n",
        "  cache_train.store(h_t2, 2)\n",
        "  cache_train.store_label(y)"
      ],
      "execution_count": 14,
      "outputs": []
    },
    {
      "cell_type": "code",
      "metadata": {
        "id": "7tGfElhESEiK",
        "colab_type": "code",
        "colab": {}
      },
      "source": [
        "#This aims to split tensors so that batchsize will be equal to 1\n",
        "from split import *\n",
        "split_1 = split(cache_train.embeddings[1])\n",
        "split_2 = split(cache_train.embeddings[2])\n",
        "split_labels = split(cache_train.labels)"
      ],
      "execution_count": 15,
      "outputs": []
    },
    {
      "cell_type": "code",
      "metadata": {
        "id": "mDwybLaY3KsM",
        "colab_type": "code",
        "colab": {
          "base_uri": "https://localhost:8080/",
          "height": 34
        },
        "outputId": "eec926be-d277-4fb3-f964-f8603a7e2a74"
      },
      "source": [
        "len(split_1)"
      ],
      "execution_count": 16,
      "outputs": [
        {
          "output_type": "execute_result",
          "data": {
            "text/plain": [
              "21113"
            ]
          },
          "metadata": {
            "tags": []
          },
          "execution_count": 16
        }
      ]
    },
    {
      "cell_type": "code",
      "metadata": {
        "id": "A0ag47EVt8a9",
        "colab_type": "code",
        "colab": {}
      },
      "source": [
        "'''This aims to store the first and second element of the output tensor, in order to construct bins'''\n",
        "'''a1 b1 represent the first and second element of the output from layer1'''\n",
        "'''so as to a2 b2'''\n",
        "def convert(tensor_from_layer1, tensor_from_layer2, tensor_labels):\n",
        "\t'''This function aims to convert tensors to list (single data points)'''\n",
        "\ta1 = []\n",
        "\ta2 = []\n",
        "\tb1 = []\n",
        "\tb2 = []\n",
        "\tall_lst1 = []\n",
        "\tall_lst2 = []\n",
        "\teach_label = []\n",
        "\tfor tensor1 in tensor_from_layer1:\n",
        "\t\tx_out1 = ae1.encode(tensor1)\n",
        "\t\ta1.append(x_out1.detach().numpy()[0][0])\n",
        "\t\tb1.append(x_out1.detach().numpy()[0][1])\n",
        "\t\tall_lst1.append([x_out1.detach().numpy()[0][0], x_out1.detach().numpy()[0][1]])\n",
        "\t\n",
        "\tfor tensor2 in tensor_from_layer2:\n",
        "\t\tx_out2 = ae2.encode(tensor2)\n",
        "\t\ta2.append(x_out2.detach().numpy()[0][0])\n",
        "\t\tb2.append(x_out2.detach().numpy()[0][1])\n",
        "\t\tall_lst2.append([x_out2.detach().numpy()[0][0], x_out2.detach().numpy()[0][1]])\n",
        "\n",
        "\tfor tensor_l in tensor_labels:\n",
        "\t\teach_label.append(tensor_l.numpy()[0][0])\n",
        "\n",
        "\treturn a1, b1, all_lst1, a2, b2, all_lst2, each_label\n",
        "\n",
        "\n"
      ],
      "execution_count": 78,
      "outputs": []
    },
    {
      "cell_type": "code",
      "metadata": {
        "id": "NJKVzk6VSIUc",
        "colab_type": "code",
        "colab": {}
      },
      "source": [
        "#This aims to store the first and second element of the output tensor, in order to construct bins\n",
        "'''\n",
        "a1 b1 represent the first and second element of the output from layer1\n",
        "so as to a2 b2\n",
        "'''\n",
        "a1, b1, freeze_layer1, a2, b2, freeze_layer2, each_label = convert(split_1, split_2, split_labels)"
      ],
      "execution_count": 79,
      "outputs": []
    },
    {
      "cell_type": "code",
      "metadata": {
        "id": "nkuiWjECSNeU",
        "colab_type": "code",
        "colab": {}
      },
      "source": [
        "#seperate elements from output of layers with respect to their labels\n",
        "#a1_0 represents for first element in layer1 with label 0\n",
        "#b2_1 represents for second element in layer2 with label 1\n",
        "import numpy as np\n",
        "a1_0 = []\n",
        "b1_0 = []\n",
        "a2_0 = []\n",
        "b2_0 = []\n",
        "a1_1 = []\n",
        "a2_1 = []\n",
        "b1_1 = []\n",
        "b2_1 = []\n",
        "freeze_layer1_label0 = []\n",
        "freeze_layer1_label1 = []\n",
        "freeze_layer2_label0 = []\n",
        "freeze_layer2_label1 = []\n",
        "for i in range(len(each_label)):\n",
        "  if each_label[i] == 0:\n",
        "    a1_0.append(a1[i])\n",
        "    b1_0.append(b1[i])\n",
        "    a2_0.append(a2[i])\n",
        "    b2_0.append(b2[i])\n",
        "    freeze_layer1_label0.append(freeze_layer1[i])\n",
        "    freeze_layer2_label0.append(freeze_layer2[i])\n",
        "  if each_label[i] == 1:\n",
        "    a1_1.append(a1[i])\n",
        "    b1_1.append(b1[i])\n",
        "    a2_1.append(a2[i])\n",
        "    b2_1.append(b2[i])\n",
        "    freeze_layer1_label1.append(freeze_layer1[i])\n",
        "    freeze_layer2_label1.append(freeze_layer2[i])"
      ],
      "execution_count": 80,
      "outputs": []
    },
    {
      "cell_type": "markdown",
      "metadata": {
        "id": "5ev5Wl-ApXWJ",
        "colab_type": "text"
      },
      "source": [
        "###Histogram"
      ]
    },
    {
      "cell_type": "code",
      "metadata": {
        "id": "Gx2G62Y7IyJE",
        "colab_type": "code",
        "colab": {}
      },
      "source": [
        "# ''' Plot the 3d histograms of output from 2 layers with respect to their first\n",
        "#  and second element and their corresponding labels'''\n",
        "\n",
        "# from histogram_3d_both import *\n",
        "# plot_his_3d_both(a1_0, b1_0, a1_1, b1_1, 0.12, 0.12, a1, b1, 'Histogram of output of AE1 (orange for label1, blue for label0)')\n",
        "# plot_his_3d_both(a2_0, b2_0, a2_1, b2_1, 0.000001, 0.0001, a2, b2, 'Histogram of output of AE2 (orange for label1, blue for label0)')"
      ],
      "execution_count": 81,
      "outputs": []
    },
    {
      "cell_type": "code",
      "metadata": {
        "id": "ZNTUFUK80s58",
        "colab_type": "code",
        "colab": {}
      },
      "source": [
        "# #This aims to check the distribution of the data which is in highest bar in AE1 of AE2.'''\n",
        "# #Take out the index of data in highest bar in AE1 and use index to take out corresponding data in AE2'''\n",
        "\n",
        "# from replot_highest import *\n",
        "# row1, row2 = replot_highest(a1_0, b1_0, a2_0, b2_0)\n",
        "# row3, row4 = replot_highest(a1_1, b1_1, a2_1, b2_1)\n",
        "\n",
        "# #Replot data extracted above in AE2 plot'''\n",
        "# from histogram_3d import *\n",
        "# plot_his_3d(row1, row2, 0.000001, 0.0001, a2_0, b2_0, 'histogram of data in highest bar in AE1 plotted in AE2 (label0)')\n",
        "# plot_his_3d(a2_0, b2_0, 0.000001, 0.0001, a2_0, b2_0, 'Original histogram of AE2 (label0)')\n",
        "# plot_his_3d(row3, row4, 0.000001, 0.0001, a2_1, b2_1, 'histogram of data in highest bar in AE1 plotted in AE2 (label1)')\n",
        "# plot_his_3d(a2_1, b2_1, 0.000001, 0.0001, a2_1, b2_1, 'Original histogram of AE2 (label1)')"
      ],
      "execution_count": 82,
      "outputs": []
    },
    {
      "cell_type": "code",
      "metadata": {
        "id": "hTWzypbhYOyW",
        "colab_type": "code",
        "colab": {
          "base_uri": "https://localhost:8080/",
          "height": 0
        },
        "outputId": "124e589c-113b-4fc8-9d5c-d618bcb9efce"
      },
      "source": [
        "len(each_label)"
      ],
      "execution_count": 83,
      "outputs": [
        {
          "output_type": "execute_result",
          "data": {
            "text/plain": [
              "21113"
            ]
          },
          "metadata": {
            "tags": []
          },
          "execution_count": 83
        }
      ]
    },
    {
      "cell_type": "markdown",
      "metadata": {
        "id": "1yKbtvtzpdQL",
        "colab_type": "text"
      },
      "source": [
        "###Find clusters and neighbors"
      ]
    },
    {
      "cell_type": "code",
      "metadata": {
        "id": "hOuCkjQg1ar2",
        "colab_type": "code",
        "colab": {}
      },
      "source": [
        "#derive the testing set data, train it and store the output from the basicnet.\n",
        "data_test = Dataset(params, 'test', device)\n",
        "cache_test = Cache(2)\n",
        "for (x, y) in data_test:\n",
        "  (x, y) = x.to(device), y.to(device)  \n",
        "  h1_test = mc_model.get_embedding(x, 1) \n",
        "  cache_test.store(h1_test, 1)\n",
        "\n",
        "  h2_test = mc_model.get_embedding(x, 2) \n",
        "  cache_test.store(h2_test, 2)\n",
        "  cache_test.store_label(y)\n",
        "\n"
      ],
      "execution_count": 84,
      "outputs": []
    },
    {
      "cell_type": "code",
      "metadata": {
        "id": "Nz_53Oea1cWK",
        "colab_type": "code",
        "colab": {}
      },
      "source": [
        "#split test data so that each data points can be used\n",
        "split1_test = split(cache_test.embeddings[1])\n",
        "split2_test = split(cache_test.embeddings[2])\n",
        "split_labels_test = split(cache_test.labels)"
      ],
      "execution_count": 85,
      "outputs": []
    },
    {
      "cell_type": "code",
      "metadata": {
        "id": "Q2fpq2d6KZPi",
        "colab_type": "code",
        "colab": {}
      },
      "source": [
        "# 'derive the output from AE'\n",
        "# layer_num = 1\n",
        "# layer_test = layer1_test\n",
        "# for i in range(len(layer_test)):\n",
        "# \tif layer_num == 1:\n",
        "# \t\tlayer_test[i] = ae1.encode(layer_test[i])\n",
        "# \tif layer_num == 2:\n",
        "# \t\tlayer_test[i] = ae2.encode(layer_test[i])"
      ],
      "execution_count": 86,
      "outputs": []
    },
    {
      "cell_type": "code",
      "metadata": {
        "id": "T8twGQ42MEwf",
        "colab_type": "code",
        "colab": {}
      },
      "source": [
        "#convert the data to list which is used to compute epsilon of knn\n",
        "a1_test, b1_test, freeze_layer1_test, a2_test, b2_test, freeze_layer2_test, labels_test = convert(split1_test, split2_test, split_labels_test)"
      ],
      "execution_count": 87,
      "outputs": []
    },
    {
      "cell_type": "code",
      "metadata": {
        "id": "zxr6mTqfGtQd",
        "colab_type": "code",
        "colab": {}
      },
      "source": [
        "from grid_cluster import *\n",
        "# This aims to grid the data in caches and find centroids with corresponding confidence in each cluster\n",
        "# Here we grid data by 2*2 matrix, for each grid, we have 4 clusters\n",
        "confi_layer1_label0, cluster_layer1_label0 = grid_cluster(freeze_layer1_label0, a1_0, b1_0, 2, 4)\n",
        "confi_layer1_label1, cluster_layer1_label1 = grid_cluster(freeze_layer1_label1, a1_1, b1_1, 2, 4)\n",
        "# confi_layer2_label0, cluster_layer2_label0 = grid_cluster(freeze_layer2_label0, a2_0, b2_0, 10, 4)\n",
        "# confi_layer2_label1, cluster_layer2_label1 = grid_cluster(freeze_layer2_label1, a2_1, b2_1, 10, 4)"
      ],
      "execution_count": 88,
      "outputs": []
    },
    {
      "cell_type": "code",
      "metadata": {
        "id": "WYLP5Kc1uPOu",
        "colab_type": "code",
        "colab": {}
      },
      "source": [
        "#combine centroids with label0 and with label1\n",
        "confi_layer1 = confi_layer1_label0 + confi_layer1_label1\n",
        "cluster_layer1 = cluster_layer1_label0 + cluster_layer1_label1\n",
        "# confi_layer2 = confi_layer2_label0 + confi_layer2_label1\n",
        "# cluster_layer2 = cluster_layer2_label0 + cluster_layer2_label1"
      ],
      "execution_count": 89,
      "outputs": []
    },
    {
      "cell_type": "code",
      "metadata": {
        "id": "ZIE1kFgZSfdH",
        "colab_type": "code",
        "colab": {}
      },
      "source": [
        "#instead of use KNN, we use small number as enlarging radius of our data to capture the nearest clusters.\n",
        "# we find data in centroid of layer in the range of a+- small number\n",
        "\n",
        "#Here I only do neighboring in test layer1.\n",
        "\n",
        "from enlarging_radius import *\n",
        "layer1_label_pred, neighbor = get_label(1, True, len(confi_layer1)/2, a1, b1, a2, b2, freeze_layer1_test, None, cluster_layer1, confi_layer1, 1000000, threshold)\n"
      ],
      "execution_count": 90,
      "outputs": []
    },
    {
      "cell_type": "code",
      "metadata": {
        "id": "nM9tOEhFsDaR",
        "colab_type": "code",
        "colab": {}
      },
      "source": [
        "# Take all training data and all testing data points.\n",
        "import time\n",
        "from enlarging_radius import *\n",
        "acc_log = {i: [] for i in range(1,10)}\n",
        "for threshold_coe in range(1,10):\n",
        "  threshold = threshold_coe * 0.1 \n",
        "  start = time.time()\n",
        "  layer1_label_pred, neighbor = get_label(1, True, len(confi_layer1)/2, a1, b1, a2, b2, freeze_layer1_test, None, cluster_layer1, confi_layer1, 1000000, threshold)\n",
        "  end = time.time()\n",
        "  \n",
        "\n",
        "  #calculate acc\n",
        "  correct = 0\n",
        "  miss = 0\n",
        "  no_neighbor = 0\n",
        "  for i in range(len(freeze_layer1_test)):\n",
        "    if layer1_label_pred[i] == 'not sure':\n",
        "      miss += 1\n",
        "    elif layer1_label_pred[i] == 'do not have neighbor in this range':\n",
        "      no_neighbor += 1\n",
        "    elif int(layer1_label_pred[i]) == int(labels_test[i]):\n",
        "      correct += 1\n",
        "  accuracy = correct/len(layer1_label_pred)\n",
        "  cache_miss = miss/len(layer1_label_pred)\n",
        "  no = no_neighbor/len(layer1_label_pred)\n",
        "\n",
        "  #store in log\n",
        "  acc_log[threshold_coe].append(['threshold:',threshold,'process time:', end-start, 'acc:', accuracy, 'cache miss rate', cache_miss])"
      ],
      "execution_count": 91,
      "outputs": []
    },
    {
      "cell_type": "code",
      "metadata": {
        "id": "eE5LvxGLs_Rp",
        "colab_type": "code",
        "colab": {
          "base_uri": "https://localhost:8080/",
          "height": 1000
        },
        "outputId": "70669427-6f46-486e-9c2c-ab62f94611c0"
      },
      "source": [
        "acc_log"
      ],
      "execution_count": 92,
      "outputs": [
        {
          "output_type": "execute_result",
          "data": {
            "text/plain": [
              "{1: [['threshold:',\n",
              "   0.1,\n",
              "   'process time:',\n",
              "   1.2870800495147705,\n",
              "   'acc:',\n",
              "   0.7503315649867374,\n",
              "   'cache miss rate',\n",
              "   0.0004973474801061008]],\n",
              " 2: [['threshold:',\n",
              "   0.2,\n",
              "   'process time:',\n",
              "   1.290717601776123,\n",
              "   'acc:',\n",
              "   0.7503315649867374,\n",
              "   'cache miss rate',\n",
              "   0.0004973474801061008]],\n",
              " 3: [['threshold:',\n",
              "   0.30000000000000004,\n",
              "   'process time:',\n",
              "   1.2675511837005615,\n",
              "   'acc:',\n",
              "   0.7503315649867374,\n",
              "   'cache miss rate',\n",
              "   0.0004973474801061008]],\n",
              " 4: [['threshold:',\n",
              "   0.4,\n",
              "   'process time:',\n",
              "   1.2645299434661865,\n",
              "   'acc:',\n",
              "   0.7102122015915119,\n",
              "   'cache miss rate',\n",
              "   0.0004973474801061008]],\n",
              " 5: [['threshold:',\n",
              "   0.5,\n",
              "   'process time:',\n",
              "   1.2827448844909668,\n",
              "   'acc:',\n",
              "   0.7102122015915119,\n",
              "   'cache miss rate',\n",
              "   0.0004973474801061008]],\n",
              " 6: [['threshold:',\n",
              "   0.6000000000000001,\n",
              "   'process time:',\n",
              "   1.2759451866149902,\n",
              "   'acc:',\n",
              "   0.6884946949602122,\n",
              "   'cache miss rate',\n",
              "   0.029675066312997347]],\n",
              " 7: [['threshold:',\n",
              "   0.7000000000000001,\n",
              "   'process time:',\n",
              "   1.2850432395935059,\n",
              "   'acc:',\n",
              "   0.5056366047745358,\n",
              "   'cache miss rate',\n",
              "   0.32742042440318303]],\n",
              " 8: [['threshold:',\n",
              "   0.8,\n",
              "   'process time:',\n",
              "   1.2832581996917725,\n",
              "   'acc:',\n",
              "   0.3249336870026525,\n",
              "   'cache miss rate',\n",
              "   0.5671419098143236]],\n",
              " 9: [['threshold:',\n",
              "   0.9,\n",
              "   'process time:',\n",
              "   1.2777504920959473,\n",
              "   'acc:',\n",
              "   0.1931366047745358,\n",
              "   'cache miss rate',\n",
              "   0.743368700265252]]}"
            ]
          },
          "metadata": {
            "tags": []
          },
          "execution_count": 92
        }
      ]
    },
    {
      "cell_type": "code",
      "metadata": {
        "id": "Nxsgkth4zKGY",
        "colab_type": "code",
        "colab": {}
      },
      "source": [
        "''' Here is the problem, the higher threshold I set, the lower accuracy I got'''"
      ],
      "execution_count": null,
      "outputs": []
    }
  ]
}