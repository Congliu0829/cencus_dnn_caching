{
  "nbformat": 4,
  "nbformat_minor": 0,
  "metadata": {
    "colab": {
      "name": "“Census_income.ipynb_1”",
      "provenance": [],
      "collapsed_sections": [],
      "authorship_tag": "ABX9TyM69WFL/r5KLzXrTfGaPxT4",
      "include_colab_link": true
    },
    "kernelspec": {
      "name": "python3",
      "display_name": "Python 3"
    }
  },
  "cells": [
    {
      "cell_type": "markdown",
      "metadata": {
        "id": "view-in-github",
        "colab_type": "text"
      },
      "source": [
        "<a href=\"https://colab.research.google.com/github/Congliu0829/cencus_dnn_caching/blob/master/%E2%80%9CCensus_income_ipynb_1%E2%80%9D.ipynb\" target=\"_parent\"><img src=\"https://colab.research.google.com/assets/colab-badge.svg\" alt=\"Open In Colab\"/></a>"
      ]
    },
    {
      "cell_type": "code",
      "metadata": {
        "colab_type": "code",
        "id": "5jfZbcW4VA6e",
        "colab": {
          "base_uri": "https://localhost:8080/",
          "height": 34
        },
        "outputId": "4fd76380-1084-4c94-df9b-a1e637a8101e"
      },
      "source": [
        "import math\n",
        "import numpy as np\n",
        "import pandas as pd\n",
        "import matplotlib.pyplot as plt\n",
        "%pylab inline\n",
        "import os\n",
        "import time\n",
        "from sklearn import preprocessing\n",
        "from numpy import array\n",
        "from numpy import argmax\n",
        "from sklearn.preprocessing import LabelEncoder\n",
        "from sklearn.preprocessing import OneHotEncoder\n",
        "from sklearn import preprocessing\n",
        "from os.path import exists\n",
        "from wheel.pep425tags import get_abbr_impl, get_impl_ver, get_abi_tag\n",
        "platform = '{}{}-{}'.format(get_abbr_impl(), get_impl_ver(), get_abi_tag())\n"
      ],
      "execution_count": 1,
      "outputs": [
        {
          "output_type": "stream",
          "text": [
            "Populating the interactive namespace from numpy and matplotlib\n"
          ],
          "name": "stdout"
        }
      ]
    },
    {
      "cell_type": "code",
      "metadata": {
        "id": "KZFLqreTWHbF",
        "colab_type": "code",
        "colab": {
          "base_uri": "https://localhost:8080/",
          "height": 34
        },
        "outputId": "b14ffeb4-026e-49f7-a29a-b2dcca69cfd0"
      },
      "source": [
        "from google.colab import drive\n",
        "drive.mount('/content/drive')"
      ],
      "execution_count": 2,
      "outputs": [
        {
          "output_type": "stream",
          "text": [
            "Drive already mounted at /content/drive; to attempt to forcibly remount, call drive.mount(\"/content/drive\", force_remount=True).\n"
          ],
          "name": "stdout"
        }
      ]
    },
    {
      "cell_type": "code",
      "metadata": {
        "id": "tPaTj6FmmryS",
        "colab_type": "code",
        "colab": {
          "base_uri": "https://localhost:8080/",
          "height": 153
        },
        "outputId": "7314e53f-2498-4732-b030-bead7f26042e"
      },
      "source": [
        "from os.path import exists\n",
        "from wheel.pep425tags import get_abbr_impl, get_impl_ver, get_abi_tag\n",
        "platform = '{}{}-{}'.format(get_abbr_impl(), get_impl_ver(), get_abi_tag())\n",
        "cuda_output = !ldconfig -p|grep cudart.so|sed -e 's/.*\\.\\([0-9]*\\)\\.\\([0-9]*\\)$/cu\\1\\2/'\n",
        "accelerator = cuda_output[0] if exists('/dev/nvidia0') else 'cpu'\n",
        "\n",
        "\n",
        "import torch\n",
        "from wheel.pep425tags import get_abbr_impl, get_impl_ver, get_abi_tag\n",
        "platform = '{}{}-{}'.format(get_abbr_impl(), get_impl_ver(), get_abi_tag())\n",
        "cuda_output = !ldconfig -p|grep cudart.so|sed -e 's/.*\\.\\([0-9]*\\)\\.\\([0-9]*\\)$/cu\\1\\2/'\n",
        "accelerator = cuda_output[0] if exists('/dev/nvidia0') else 'cpu'\n",
        "!pip install torch==0.4.1\n",
        "!pip install torchvision==0.2.2\n",
        "!pip install Pillow==6.2.2\n",
        "import torch.nn as nn\n",
        "import torch.nn.functional as F\n",
        "import torch.optim as optim\n",
        "import torchvision\n",
        "from torchvision import datasets, transforms\n",
        "from torch.utils.data import DataLoader\n",
        "import pickle\n",
        "from torch.utils.data.sampler import (SubsetRandomSampler,RandomSampler)\n"
      ],
      "execution_count": 3,
      "outputs": [
        {
          "output_type": "stream",
          "text": [
            "Requirement already satisfied: torch==0.4.1 in /usr/local/lib/python3.6/dist-packages (0.4.1)\n",
            "Requirement already satisfied: torchvision==0.2.2 in /usr/local/lib/python3.6/dist-packages (0.2.2)\n",
            "Requirement already satisfied: six in /usr/local/lib/python3.6/dist-packages (from torchvision==0.2.2) (1.12.0)\n",
            "Requirement already satisfied: torch in /usr/local/lib/python3.6/dist-packages (from torchvision==0.2.2) (0.4.1)\n",
            "Requirement already satisfied: pillow>=4.1.1 in /usr/local/lib/python3.6/dist-packages (from torchvision==0.2.2) (6.2.2)\n",
            "Requirement already satisfied: numpy in /usr/local/lib/python3.6/dist-packages (from torchvision==0.2.2) (1.18.5)\n",
            "Requirement already satisfied: tqdm==4.19.9 in /usr/local/lib/python3.6/dist-packages (from torchvision==0.2.2) (4.19.9)\n",
            "Requirement already satisfied: Pillow==6.2.2 in /usr/local/lib/python3.6/dist-packages (6.2.2)\n"
          ],
          "name": "stdout"
        }
      ]
    },
    {
      "cell_type": "code",
      "metadata": {
        "id": "OlGu9iTJtaJb",
        "colab_type": "code",
        "colab": {
          "base_uri": "https://localhost:8080/",
          "height": 34
        },
        "outputId": "f6215486-cde5-4ccf-b263-7ae19ec5d128"
      },
      "source": [
        "if torch.cuda.is_available():\n",
        "    device = torch.device(\"cuda\")\n",
        "    use_cuda = True\n",
        "else:\n",
        "    device = torch.device(\"cpu\")\n",
        "    use_cuda = False\n",
        "    \n",
        "print(device)"
      ],
      "execution_count": 4,
      "outputs": [
        {
          "output_type": "stream",
          "text": [
            "cpu\n"
          ],
          "name": "stdout"
        }
      ]
    },
    {
      "cell_type": "code",
      "metadata": {
        "id": "EbTxg6Vwtc6Y",
        "colab_type": "code",
        "colab": {
          "base_uri": "https://localhost:8080/",
          "height": 34
        },
        "outputId": "9771a224-5bb5-4a9b-8bfc-bc6240156483"
      },
      "source": [
        "full_data = pd.read_csv(\n",
        "    \"/content/adult.csv\",\n",
        "    names=[\n",
        "        \"Age\", \"Workclass\", \"fnlwgt\", \"Education\", \"Education-Num\", \"Martial Status\",\n",
        "        \"Occupation\", \"Relationship\", \"Race\", \"Sex\", \"Capital Gain\", \"Capital Loss\",\n",
        "        \"Hours per week\", \"Country\", \"Target\"],\n",
        "        sep=r'\\s*,\\s*',\n",
        "        engine='python', skiprows=1,\n",
        "        na_values=\"?\", dtype={0:int, 1:str, 2:int, 3:str, 4:int, 5: str, 6:str , 7:str ,8:str ,9: str, 10:int, 11:int, 12:int, 13:str,14: str})\n",
        "\n",
        "print('Dataset size: ', full_data.shape[0])"
      ],
      "execution_count": 5,
      "outputs": [
        {
          "output_type": "stream",
          "text": [
            "Dataset size:  32561\n"
          ],
          "name": "stdout"
        }
      ]
    },
    {
      "cell_type": "code",
      "metadata": {
        "id": "R9VeDTALt6hM",
        "colab_type": "code",
        "colab": {
          "base_uri": "https://localhost:8080/",
          "height": 170
        },
        "outputId": "bed860ce-35a8-4314-fec7-792c69314453"
      },
      "source": [
        "print(full_data.head())\n",
        "print(full_data.shape)"
      ],
      "execution_count": 6,
      "outputs": [
        {
          "output_type": "stream",
          "text": [
            "   Age  Workclass  fnlwgt  ... Hours per week          Country   Target\n",
            "0   90        \"?\"   77053  ...             40  \"United-States\"  \"<=50K\"\n",
            "1   82  \"Private\"  132870  ...             18  \"United-States\"  \"<=50K\"\n",
            "2   66        \"?\"  186061  ...             40  \"United-States\"  \"<=50K\"\n",
            "3   54  \"Private\"  140359  ...             40  \"United-States\"  \"<=50K\"\n",
            "4   41  \"Private\"  264663  ...             40  \"United-States\"  \"<=50K\"\n",
            "\n",
            "[5 rows x 15 columns]\n",
            "(32561, 15)\n"
          ],
          "name": "stdout"
        }
      ]
    },
    {
      "cell_type": "code",
      "metadata": {
        "id": "2JdC0nCCt9a3",
        "colab_type": "code",
        "colab": {}
      },
      "source": [
        "str_list=[] \n",
        "for data in [full_data]:\n",
        "    for colname, colvalue in data.iteritems(): \n",
        "        if type(colvalue[1]) == str:\n",
        "            str_list.append(colname) \n",
        "num_list = data.columns.difference(str_list) #seperate str with int in input data"
      ],
      "execution_count": 7,
      "outputs": []
    },
    {
      "cell_type": "code",
      "metadata": {
        "id": "j5AHEWt8uEK4",
        "colab_type": "code",
        "colab": {
          "base_uri": "https://localhost:8080/",
          "height": 68
        },
        "outputId": "f63c055d-a981-43b1-d39a-3995df242127"
      },
      "source": [
        "full_size = full_data.shape[0]\n",
        "print('Dataset size Before pruning: ', full_size)\n",
        "for data in [full_data]:\n",
        "    for i in full_data:\n",
        "        data[i].replace('NaN', np.nan, inplace=True)\n",
        "    data.dropna(inplace=True)\n",
        "real_size = full_data.shape[0]\n",
        "print('Dataset size after pruning: ', real_size)\n",
        "print('We eliminated ', (full_size-real_size), ' datapoints')"
      ],
      "execution_count": 8,
      "outputs": [
        {
          "output_type": "stream",
          "text": [
            "Dataset size Before pruning:  32561\n",
            "Dataset size after pruning:  32561\n",
            "We eliminated  0  datapoints\n"
          ],
          "name": "stdout"
        }
      ]
    },
    {
      "cell_type": "code",
      "metadata": {
        "id": "Cr2T2UuJuIi6",
        "colab_type": "code",
        "colab": {
          "base_uri": "https://localhost:8080/",
          "height": 306
        },
        "outputId": "16981890-bb96-47bb-8e4c-380a782e79d0"
      },
      "source": [
        "full_data.head()"
      ],
      "execution_count": 9,
      "outputs": [
        {
          "output_type": "execute_result",
          "data": {
            "text/html": [
              "<div>\n",
              "<style scoped>\n",
              "    .dataframe tbody tr th:only-of-type {\n",
              "        vertical-align: middle;\n",
              "    }\n",
              "\n",
              "    .dataframe tbody tr th {\n",
              "        vertical-align: top;\n",
              "    }\n",
              "\n",
              "    .dataframe thead th {\n",
              "        text-align: right;\n",
              "    }\n",
              "</style>\n",
              "<table border=\"1\" class=\"dataframe\">\n",
              "  <thead>\n",
              "    <tr style=\"text-align: right;\">\n",
              "      <th></th>\n",
              "      <th>Age</th>\n",
              "      <th>Workclass</th>\n",
              "      <th>fnlwgt</th>\n",
              "      <th>Education</th>\n",
              "      <th>Education-Num</th>\n",
              "      <th>Martial Status</th>\n",
              "      <th>Occupation</th>\n",
              "      <th>Relationship</th>\n",
              "      <th>Race</th>\n",
              "      <th>Sex</th>\n",
              "      <th>Capital Gain</th>\n",
              "      <th>Capital Loss</th>\n",
              "      <th>Hours per week</th>\n",
              "      <th>Country</th>\n",
              "      <th>Target</th>\n",
              "    </tr>\n",
              "  </thead>\n",
              "  <tbody>\n",
              "    <tr>\n",
              "      <th>0</th>\n",
              "      <td>90</td>\n",
              "      <td>\"?\"</td>\n",
              "      <td>77053</td>\n",
              "      <td>\"HS-grad\"</td>\n",
              "      <td>9</td>\n",
              "      <td>\"Widowed\"</td>\n",
              "      <td>\"?\"</td>\n",
              "      <td>\"Not-in-family\"</td>\n",
              "      <td>\"White\"</td>\n",
              "      <td>\"Female\"</td>\n",
              "      <td>0</td>\n",
              "      <td>4356</td>\n",
              "      <td>40</td>\n",
              "      <td>\"United-States\"</td>\n",
              "      <td>\"&lt;=50K\"</td>\n",
              "    </tr>\n",
              "    <tr>\n",
              "      <th>1</th>\n",
              "      <td>82</td>\n",
              "      <td>\"Private\"</td>\n",
              "      <td>132870</td>\n",
              "      <td>\"HS-grad\"</td>\n",
              "      <td>9</td>\n",
              "      <td>\"Widowed\"</td>\n",
              "      <td>\"Exec-managerial\"</td>\n",
              "      <td>\"Not-in-family\"</td>\n",
              "      <td>\"White\"</td>\n",
              "      <td>\"Female\"</td>\n",
              "      <td>0</td>\n",
              "      <td>4356</td>\n",
              "      <td>18</td>\n",
              "      <td>\"United-States\"</td>\n",
              "      <td>\"&lt;=50K\"</td>\n",
              "    </tr>\n",
              "    <tr>\n",
              "      <th>2</th>\n",
              "      <td>66</td>\n",
              "      <td>\"?\"</td>\n",
              "      <td>186061</td>\n",
              "      <td>\"Some-college\"</td>\n",
              "      <td>10</td>\n",
              "      <td>\"Widowed\"</td>\n",
              "      <td>\"?\"</td>\n",
              "      <td>\"Unmarried\"</td>\n",
              "      <td>\"Black\"</td>\n",
              "      <td>\"Female\"</td>\n",
              "      <td>0</td>\n",
              "      <td>4356</td>\n",
              "      <td>40</td>\n",
              "      <td>\"United-States\"</td>\n",
              "      <td>\"&lt;=50K\"</td>\n",
              "    </tr>\n",
              "    <tr>\n",
              "      <th>3</th>\n",
              "      <td>54</td>\n",
              "      <td>\"Private\"</td>\n",
              "      <td>140359</td>\n",
              "      <td>\"7th-8th\"</td>\n",
              "      <td>4</td>\n",
              "      <td>\"Divorced\"</td>\n",
              "      <td>\"Machine-op-inspct\"</td>\n",
              "      <td>\"Unmarried\"</td>\n",
              "      <td>\"White\"</td>\n",
              "      <td>\"Female\"</td>\n",
              "      <td>0</td>\n",
              "      <td>3900</td>\n",
              "      <td>40</td>\n",
              "      <td>\"United-States\"</td>\n",
              "      <td>\"&lt;=50K\"</td>\n",
              "    </tr>\n",
              "    <tr>\n",
              "      <th>4</th>\n",
              "      <td>41</td>\n",
              "      <td>\"Private\"</td>\n",
              "      <td>264663</td>\n",
              "      <td>\"Some-college\"</td>\n",
              "      <td>10</td>\n",
              "      <td>\"Separated\"</td>\n",
              "      <td>\"Prof-specialty\"</td>\n",
              "      <td>\"Own-child\"</td>\n",
              "      <td>\"White\"</td>\n",
              "      <td>\"Female\"</td>\n",
              "      <td>0</td>\n",
              "      <td>3900</td>\n",
              "      <td>40</td>\n",
              "      <td>\"United-States\"</td>\n",
              "      <td>\"&lt;=50K\"</td>\n",
              "    </tr>\n",
              "  </tbody>\n",
              "</table>\n",
              "</div>"
            ],
            "text/plain": [
              "   Age  Workclass  fnlwgt  ... Hours per week          Country   Target\n",
              "0   90        \"?\"   77053  ...             40  \"United-States\"  \"<=50K\"\n",
              "1   82  \"Private\"  132870  ...             18  \"United-States\"  \"<=50K\"\n",
              "2   66        \"?\"  186061  ...             40  \"United-States\"  \"<=50K\"\n",
              "3   54  \"Private\"  140359  ...             40  \"United-States\"  \"<=50K\"\n",
              "4   41  \"Private\"  264663  ...             40  \"United-States\"  \"<=50K\"\n",
              "\n",
              "[5 rows x 15 columns]"
            ]
          },
          "metadata": {
            "tags": []
          },
          "execution_count": 9
        }
      ]
    },
    {
      "cell_type": "code",
      "metadata": {
        "id": "e8qXzXWvuKr0",
        "colab_type": "code",
        "colab": {
          "base_uri": "https://localhost:8080/",
          "height": 68
        },
        "outputId": "72054de7-8e46-4db8-9259-3990f1beb82a"
      },
      "source": [
        "full_labels = full_data['Target'].copy()\n",
        "print(full_labels.shape[0])\n",
        "\n",
        "full_data = full_data.drop(['Target'], axis=1)\n",
        "print(full_data.shape[0])\n",
        "\n",
        "# Label Encode Labels\n",
        "label_encoder = LabelEncoder()\n",
        "full_labels = label_encoder.fit_transform(full_labels)\n",
        "print(full_labels[:10])"
      ],
      "execution_count": 10,
      "outputs": [
        {
          "output_type": "stream",
          "text": [
            "32561\n",
            "32561\n",
            "[0 0 0 0 0 0 0 1 0 1]\n"
          ],
          "name": "stdout"
        }
      ]
    },
    {
      "cell_type": "code",
      "metadata": {
        "id": "seJKmQWluOqY",
        "colab_type": "code",
        "colab": {
          "base_uri": "https://localhost:8080/",
          "height": 187
        },
        "outputId": "9a900888-93de-40fa-f924-2ad3e2c2b015"
      },
      "source": [
        "cat_data = full_data.select_dtypes(include=['object']).copy()\n",
        "other_data = full_data.select_dtypes(include=['int']).copy()\n",
        "print(cat_data.head())\n",
        "print(cat_data.shape)\n",
        "print(other_data.shape)#seperate data by objects and numbers "
      ],
      "execution_count": 11,
      "outputs": [
        {
          "output_type": "stream",
          "text": [
            "   Workclass       Education Martial Status  ...     Race       Sex          Country\n",
            "0        \"?\"       \"HS-grad\"      \"Widowed\"  ...  \"White\"  \"Female\"  \"United-States\"\n",
            "1  \"Private\"       \"HS-grad\"      \"Widowed\"  ...  \"White\"  \"Female\"  \"United-States\"\n",
            "2        \"?\"  \"Some-college\"      \"Widowed\"  ...  \"Black\"  \"Female\"  \"United-States\"\n",
            "3  \"Private\"       \"7th-8th\"     \"Divorced\"  ...  \"White\"  \"Female\"  \"United-States\"\n",
            "4  \"Private\"  \"Some-college\"    \"Separated\"  ...  \"White\"  \"Female\"  \"United-States\"\n",
            "\n",
            "[5 rows x 8 columns]\n",
            "(32561, 8)\n",
            "(32561, 6)\n"
          ],
          "name": "stdout"
        }
      ]
    },
    {
      "cell_type": "code",
      "metadata": {
        "id": "dj8LKiL1uRAc",
        "colab_type": "code",
        "colab": {}
      },
      "source": [
        "newcat_data = pd.get_dummies(cat_data, columns=[\n",
        "    \"Workclass\", \"Education\", \"Country\" ,\"Relationship\", \"Martial Status\", \"Occupation\", \"Relationship\",\n",
        "    \"Race\", \"Sex\"\n",
        "])# apply a encoder for str catagories"
      ],
      "execution_count": 12,
      "outputs": []
    },
    {
      "cell_type": "code",
      "metadata": {
        "id": "Ij2whrbvuUZp",
        "colab_type": "code",
        "colab": {
          "base_uri": "https://localhost:8080/",
          "height": 287
        },
        "outputId": "7013c304-8692-4874-bccf-0e3ae1e6c4ce"
      },
      "source": [
        "newcat_data.head()"
      ],
      "execution_count": 13,
      "outputs": [
        {
          "output_type": "execute_result",
          "data": {
            "text/html": [
              "<div>\n",
              "<style scoped>\n",
              "    .dataframe tbody tr th:only-of-type {\n",
              "        vertical-align: middle;\n",
              "    }\n",
              "\n",
              "    .dataframe tbody tr th {\n",
              "        vertical-align: top;\n",
              "    }\n",
              "\n",
              "    .dataframe thead th {\n",
              "        text-align: right;\n",
              "    }\n",
              "</style>\n",
              "<table border=\"1\" class=\"dataframe\">\n",
              "  <thead>\n",
              "    <tr style=\"text-align: right;\">\n",
              "      <th></th>\n",
              "      <th>Workclass_\"?\"</th>\n",
              "      <th>Workclass_\"Federal-gov\"</th>\n",
              "      <th>Workclass_\"Local-gov\"</th>\n",
              "      <th>Workclass_\"Never-worked\"</th>\n",
              "      <th>Workclass_\"Private\"</th>\n",
              "      <th>Workclass_\"Self-emp-inc\"</th>\n",
              "      <th>Workclass_\"Self-emp-not-inc\"</th>\n",
              "      <th>Workclass_\"State-gov\"</th>\n",
              "      <th>Workclass_\"Without-pay\"</th>\n",
              "      <th>Education_\"10th\"</th>\n",
              "      <th>Education_\"11th\"</th>\n",
              "      <th>Education_\"12th\"</th>\n",
              "      <th>Education_\"1st-4th\"</th>\n",
              "      <th>Education_\"5th-6th\"</th>\n",
              "      <th>Education_\"7th-8th\"</th>\n",
              "      <th>Education_\"9th\"</th>\n",
              "      <th>Education_\"Assoc-acdm\"</th>\n",
              "      <th>Education_\"Assoc-voc\"</th>\n",
              "      <th>Education_\"Bachelors\"</th>\n",
              "      <th>Education_\"Doctorate\"</th>\n",
              "      <th>Education_\"HS-grad\"</th>\n",
              "      <th>Education_\"Masters\"</th>\n",
              "      <th>Education_\"Preschool\"</th>\n",
              "      <th>Education_\"Prof-school\"</th>\n",
              "      <th>Education_\"Some-college\"</th>\n",
              "      <th>Country_\"?\"</th>\n",
              "      <th>Country_\"Cambodia\"</th>\n",
              "      <th>Country_\"Canada\"</th>\n",
              "      <th>Country_\"China\"</th>\n",
              "      <th>Country_\"Columbia\"</th>\n",
              "      <th>Country_\"Cuba\"</th>\n",
              "      <th>Country_\"Dominican-Republic\"</th>\n",
              "      <th>Country_\"Ecuador\"</th>\n",
              "      <th>Country_\"El-Salvador\"</th>\n",
              "      <th>Country_\"England\"</th>\n",
              "      <th>Country_\"France\"</th>\n",
              "      <th>Country_\"Germany\"</th>\n",
              "      <th>Country_\"Greece\"</th>\n",
              "      <th>Country_\"Guatemala\"</th>\n",
              "      <th>Country_\"Haiti\"</th>\n",
              "      <th>...</th>\n",
              "      <th>Relationship_\"Not-in-family\"</th>\n",
              "      <th>Relationship_\"Other-relative\"</th>\n",
              "      <th>Relationship_\"Own-child\"</th>\n",
              "      <th>Relationship_\"Unmarried\"</th>\n",
              "      <th>Relationship_\"Wife\"</th>\n",
              "      <th>Martial Status_\"Divorced\"</th>\n",
              "      <th>Martial Status_\"Married-AF-spouse\"</th>\n",
              "      <th>Martial Status_\"Married-civ-spouse\"</th>\n",
              "      <th>Martial Status_\"Married-spouse-absent\"</th>\n",
              "      <th>Martial Status_\"Never-married\"</th>\n",
              "      <th>Martial Status_\"Separated\"</th>\n",
              "      <th>Martial Status_\"Widowed\"</th>\n",
              "      <th>Occupation_\"?\"</th>\n",
              "      <th>Occupation_\"Adm-clerical\"</th>\n",
              "      <th>Occupation_\"Armed-Forces\"</th>\n",
              "      <th>Occupation_\"Craft-repair\"</th>\n",
              "      <th>Occupation_\"Exec-managerial\"</th>\n",
              "      <th>Occupation_\"Farming-fishing\"</th>\n",
              "      <th>Occupation_\"Handlers-cleaners\"</th>\n",
              "      <th>Occupation_\"Machine-op-inspct\"</th>\n",
              "      <th>Occupation_\"Other-service\"</th>\n",
              "      <th>Occupation_\"Priv-house-serv\"</th>\n",
              "      <th>Occupation_\"Prof-specialty\"</th>\n",
              "      <th>Occupation_\"Protective-serv\"</th>\n",
              "      <th>Occupation_\"Sales\"</th>\n",
              "      <th>Occupation_\"Tech-support\"</th>\n",
              "      <th>Occupation_\"Transport-moving\"</th>\n",
              "      <th>Relationship_\"Husband\"</th>\n",
              "      <th>Relationship_\"Not-in-family\"</th>\n",
              "      <th>Relationship_\"Other-relative\"</th>\n",
              "      <th>Relationship_\"Own-child\"</th>\n",
              "      <th>Relationship_\"Unmarried\"</th>\n",
              "      <th>Relationship_\"Wife\"</th>\n",
              "      <th>Race_\"Amer-Indian-Eskimo\"</th>\n",
              "      <th>Race_\"Asian-Pac-Islander\"</th>\n",
              "      <th>Race_\"Black\"</th>\n",
              "      <th>Race_\"Other\"</th>\n",
              "      <th>Race_\"White\"</th>\n",
              "      <th>Sex_\"Female\"</th>\n",
              "      <th>Sex_\"Male\"</th>\n",
              "    </tr>\n",
              "  </thead>\n",
              "  <tbody>\n",
              "    <tr>\n",
              "      <th>0</th>\n",
              "      <td>1</td>\n",
              "      <td>0</td>\n",
              "      <td>0</td>\n",
              "      <td>0</td>\n",
              "      <td>0</td>\n",
              "      <td>0</td>\n",
              "      <td>0</td>\n",
              "      <td>0</td>\n",
              "      <td>0</td>\n",
              "      <td>0</td>\n",
              "      <td>0</td>\n",
              "      <td>0</td>\n",
              "      <td>0</td>\n",
              "      <td>0</td>\n",
              "      <td>0</td>\n",
              "      <td>0</td>\n",
              "      <td>0</td>\n",
              "      <td>0</td>\n",
              "      <td>0</td>\n",
              "      <td>0</td>\n",
              "      <td>1</td>\n",
              "      <td>0</td>\n",
              "      <td>0</td>\n",
              "      <td>0</td>\n",
              "      <td>0</td>\n",
              "      <td>0</td>\n",
              "      <td>0</td>\n",
              "      <td>0</td>\n",
              "      <td>0</td>\n",
              "      <td>0</td>\n",
              "      <td>0</td>\n",
              "      <td>0</td>\n",
              "      <td>0</td>\n",
              "      <td>0</td>\n",
              "      <td>0</td>\n",
              "      <td>0</td>\n",
              "      <td>0</td>\n",
              "      <td>0</td>\n",
              "      <td>0</td>\n",
              "      <td>0</td>\n",
              "      <td>...</td>\n",
              "      <td>1</td>\n",
              "      <td>0</td>\n",
              "      <td>0</td>\n",
              "      <td>0</td>\n",
              "      <td>0</td>\n",
              "      <td>0</td>\n",
              "      <td>0</td>\n",
              "      <td>0</td>\n",
              "      <td>0</td>\n",
              "      <td>0</td>\n",
              "      <td>0</td>\n",
              "      <td>1</td>\n",
              "      <td>1</td>\n",
              "      <td>0</td>\n",
              "      <td>0</td>\n",
              "      <td>0</td>\n",
              "      <td>0</td>\n",
              "      <td>0</td>\n",
              "      <td>0</td>\n",
              "      <td>0</td>\n",
              "      <td>0</td>\n",
              "      <td>0</td>\n",
              "      <td>0</td>\n",
              "      <td>0</td>\n",
              "      <td>0</td>\n",
              "      <td>0</td>\n",
              "      <td>0</td>\n",
              "      <td>0</td>\n",
              "      <td>1</td>\n",
              "      <td>0</td>\n",
              "      <td>0</td>\n",
              "      <td>0</td>\n",
              "      <td>0</td>\n",
              "      <td>0</td>\n",
              "      <td>0</td>\n",
              "      <td>0</td>\n",
              "      <td>0</td>\n",
              "      <td>1</td>\n",
              "      <td>1</td>\n",
              "      <td>0</td>\n",
              "    </tr>\n",
              "    <tr>\n",
              "      <th>1</th>\n",
              "      <td>0</td>\n",
              "      <td>0</td>\n",
              "      <td>0</td>\n",
              "      <td>0</td>\n",
              "      <td>1</td>\n",
              "      <td>0</td>\n",
              "      <td>0</td>\n",
              "      <td>0</td>\n",
              "      <td>0</td>\n",
              "      <td>0</td>\n",
              "      <td>0</td>\n",
              "      <td>0</td>\n",
              "      <td>0</td>\n",
              "      <td>0</td>\n",
              "      <td>0</td>\n",
              "      <td>0</td>\n",
              "      <td>0</td>\n",
              "      <td>0</td>\n",
              "      <td>0</td>\n",
              "      <td>0</td>\n",
              "      <td>1</td>\n",
              "      <td>0</td>\n",
              "      <td>0</td>\n",
              "      <td>0</td>\n",
              "      <td>0</td>\n",
              "      <td>0</td>\n",
              "      <td>0</td>\n",
              "      <td>0</td>\n",
              "      <td>0</td>\n",
              "      <td>0</td>\n",
              "      <td>0</td>\n",
              "      <td>0</td>\n",
              "      <td>0</td>\n",
              "      <td>0</td>\n",
              "      <td>0</td>\n",
              "      <td>0</td>\n",
              "      <td>0</td>\n",
              "      <td>0</td>\n",
              "      <td>0</td>\n",
              "      <td>0</td>\n",
              "      <td>...</td>\n",
              "      <td>1</td>\n",
              "      <td>0</td>\n",
              "      <td>0</td>\n",
              "      <td>0</td>\n",
              "      <td>0</td>\n",
              "      <td>0</td>\n",
              "      <td>0</td>\n",
              "      <td>0</td>\n",
              "      <td>0</td>\n",
              "      <td>0</td>\n",
              "      <td>0</td>\n",
              "      <td>1</td>\n",
              "      <td>0</td>\n",
              "      <td>0</td>\n",
              "      <td>0</td>\n",
              "      <td>0</td>\n",
              "      <td>1</td>\n",
              "      <td>0</td>\n",
              "      <td>0</td>\n",
              "      <td>0</td>\n",
              "      <td>0</td>\n",
              "      <td>0</td>\n",
              "      <td>0</td>\n",
              "      <td>0</td>\n",
              "      <td>0</td>\n",
              "      <td>0</td>\n",
              "      <td>0</td>\n",
              "      <td>0</td>\n",
              "      <td>1</td>\n",
              "      <td>0</td>\n",
              "      <td>0</td>\n",
              "      <td>0</td>\n",
              "      <td>0</td>\n",
              "      <td>0</td>\n",
              "      <td>0</td>\n",
              "      <td>0</td>\n",
              "      <td>0</td>\n",
              "      <td>1</td>\n",
              "      <td>1</td>\n",
              "      <td>0</td>\n",
              "    </tr>\n",
              "    <tr>\n",
              "      <th>2</th>\n",
              "      <td>1</td>\n",
              "      <td>0</td>\n",
              "      <td>0</td>\n",
              "      <td>0</td>\n",
              "      <td>0</td>\n",
              "      <td>0</td>\n",
              "      <td>0</td>\n",
              "      <td>0</td>\n",
              "      <td>0</td>\n",
              "      <td>0</td>\n",
              "      <td>0</td>\n",
              "      <td>0</td>\n",
              "      <td>0</td>\n",
              "      <td>0</td>\n",
              "      <td>0</td>\n",
              "      <td>0</td>\n",
              "      <td>0</td>\n",
              "      <td>0</td>\n",
              "      <td>0</td>\n",
              "      <td>0</td>\n",
              "      <td>0</td>\n",
              "      <td>0</td>\n",
              "      <td>0</td>\n",
              "      <td>0</td>\n",
              "      <td>1</td>\n",
              "      <td>0</td>\n",
              "      <td>0</td>\n",
              "      <td>0</td>\n",
              "      <td>0</td>\n",
              "      <td>0</td>\n",
              "      <td>0</td>\n",
              "      <td>0</td>\n",
              "      <td>0</td>\n",
              "      <td>0</td>\n",
              "      <td>0</td>\n",
              "      <td>0</td>\n",
              "      <td>0</td>\n",
              "      <td>0</td>\n",
              "      <td>0</td>\n",
              "      <td>0</td>\n",
              "      <td>...</td>\n",
              "      <td>0</td>\n",
              "      <td>0</td>\n",
              "      <td>0</td>\n",
              "      <td>1</td>\n",
              "      <td>0</td>\n",
              "      <td>0</td>\n",
              "      <td>0</td>\n",
              "      <td>0</td>\n",
              "      <td>0</td>\n",
              "      <td>0</td>\n",
              "      <td>0</td>\n",
              "      <td>1</td>\n",
              "      <td>1</td>\n",
              "      <td>0</td>\n",
              "      <td>0</td>\n",
              "      <td>0</td>\n",
              "      <td>0</td>\n",
              "      <td>0</td>\n",
              "      <td>0</td>\n",
              "      <td>0</td>\n",
              "      <td>0</td>\n",
              "      <td>0</td>\n",
              "      <td>0</td>\n",
              "      <td>0</td>\n",
              "      <td>0</td>\n",
              "      <td>0</td>\n",
              "      <td>0</td>\n",
              "      <td>0</td>\n",
              "      <td>0</td>\n",
              "      <td>0</td>\n",
              "      <td>0</td>\n",
              "      <td>1</td>\n",
              "      <td>0</td>\n",
              "      <td>0</td>\n",
              "      <td>0</td>\n",
              "      <td>1</td>\n",
              "      <td>0</td>\n",
              "      <td>0</td>\n",
              "      <td>1</td>\n",
              "      <td>0</td>\n",
              "    </tr>\n",
              "    <tr>\n",
              "      <th>3</th>\n",
              "      <td>0</td>\n",
              "      <td>0</td>\n",
              "      <td>0</td>\n",
              "      <td>0</td>\n",
              "      <td>1</td>\n",
              "      <td>0</td>\n",
              "      <td>0</td>\n",
              "      <td>0</td>\n",
              "      <td>0</td>\n",
              "      <td>0</td>\n",
              "      <td>0</td>\n",
              "      <td>0</td>\n",
              "      <td>0</td>\n",
              "      <td>0</td>\n",
              "      <td>1</td>\n",
              "      <td>0</td>\n",
              "      <td>0</td>\n",
              "      <td>0</td>\n",
              "      <td>0</td>\n",
              "      <td>0</td>\n",
              "      <td>0</td>\n",
              "      <td>0</td>\n",
              "      <td>0</td>\n",
              "      <td>0</td>\n",
              "      <td>0</td>\n",
              "      <td>0</td>\n",
              "      <td>0</td>\n",
              "      <td>0</td>\n",
              "      <td>0</td>\n",
              "      <td>0</td>\n",
              "      <td>0</td>\n",
              "      <td>0</td>\n",
              "      <td>0</td>\n",
              "      <td>0</td>\n",
              "      <td>0</td>\n",
              "      <td>0</td>\n",
              "      <td>0</td>\n",
              "      <td>0</td>\n",
              "      <td>0</td>\n",
              "      <td>0</td>\n",
              "      <td>...</td>\n",
              "      <td>0</td>\n",
              "      <td>0</td>\n",
              "      <td>0</td>\n",
              "      <td>1</td>\n",
              "      <td>0</td>\n",
              "      <td>1</td>\n",
              "      <td>0</td>\n",
              "      <td>0</td>\n",
              "      <td>0</td>\n",
              "      <td>0</td>\n",
              "      <td>0</td>\n",
              "      <td>0</td>\n",
              "      <td>0</td>\n",
              "      <td>0</td>\n",
              "      <td>0</td>\n",
              "      <td>0</td>\n",
              "      <td>0</td>\n",
              "      <td>0</td>\n",
              "      <td>0</td>\n",
              "      <td>1</td>\n",
              "      <td>0</td>\n",
              "      <td>0</td>\n",
              "      <td>0</td>\n",
              "      <td>0</td>\n",
              "      <td>0</td>\n",
              "      <td>0</td>\n",
              "      <td>0</td>\n",
              "      <td>0</td>\n",
              "      <td>0</td>\n",
              "      <td>0</td>\n",
              "      <td>0</td>\n",
              "      <td>1</td>\n",
              "      <td>0</td>\n",
              "      <td>0</td>\n",
              "      <td>0</td>\n",
              "      <td>0</td>\n",
              "      <td>0</td>\n",
              "      <td>1</td>\n",
              "      <td>1</td>\n",
              "      <td>0</td>\n",
              "    </tr>\n",
              "    <tr>\n",
              "      <th>4</th>\n",
              "      <td>0</td>\n",
              "      <td>0</td>\n",
              "      <td>0</td>\n",
              "      <td>0</td>\n",
              "      <td>1</td>\n",
              "      <td>0</td>\n",
              "      <td>0</td>\n",
              "      <td>0</td>\n",
              "      <td>0</td>\n",
              "      <td>0</td>\n",
              "      <td>0</td>\n",
              "      <td>0</td>\n",
              "      <td>0</td>\n",
              "      <td>0</td>\n",
              "      <td>0</td>\n",
              "      <td>0</td>\n",
              "      <td>0</td>\n",
              "      <td>0</td>\n",
              "      <td>0</td>\n",
              "      <td>0</td>\n",
              "      <td>0</td>\n",
              "      <td>0</td>\n",
              "      <td>0</td>\n",
              "      <td>0</td>\n",
              "      <td>1</td>\n",
              "      <td>0</td>\n",
              "      <td>0</td>\n",
              "      <td>0</td>\n",
              "      <td>0</td>\n",
              "      <td>0</td>\n",
              "      <td>0</td>\n",
              "      <td>0</td>\n",
              "      <td>0</td>\n",
              "      <td>0</td>\n",
              "      <td>0</td>\n",
              "      <td>0</td>\n",
              "      <td>0</td>\n",
              "      <td>0</td>\n",
              "      <td>0</td>\n",
              "      <td>0</td>\n",
              "      <td>...</td>\n",
              "      <td>0</td>\n",
              "      <td>0</td>\n",
              "      <td>1</td>\n",
              "      <td>0</td>\n",
              "      <td>0</td>\n",
              "      <td>0</td>\n",
              "      <td>0</td>\n",
              "      <td>0</td>\n",
              "      <td>0</td>\n",
              "      <td>0</td>\n",
              "      <td>1</td>\n",
              "      <td>0</td>\n",
              "      <td>0</td>\n",
              "      <td>0</td>\n",
              "      <td>0</td>\n",
              "      <td>0</td>\n",
              "      <td>0</td>\n",
              "      <td>0</td>\n",
              "      <td>0</td>\n",
              "      <td>0</td>\n",
              "      <td>0</td>\n",
              "      <td>0</td>\n",
              "      <td>1</td>\n",
              "      <td>0</td>\n",
              "      <td>0</td>\n",
              "      <td>0</td>\n",
              "      <td>0</td>\n",
              "      <td>0</td>\n",
              "      <td>0</td>\n",
              "      <td>0</td>\n",
              "      <td>1</td>\n",
              "      <td>0</td>\n",
              "      <td>0</td>\n",
              "      <td>0</td>\n",
              "      <td>0</td>\n",
              "      <td>0</td>\n",
              "      <td>0</td>\n",
              "      <td>1</td>\n",
              "      <td>1</td>\n",
              "      <td>0</td>\n",
              "    </tr>\n",
              "  </tbody>\n",
              "</table>\n",
              "<p>5 rows × 108 columns</p>\n",
              "</div>"
            ],
            "text/plain": [
              "   Workclass_\"?\"  Workclass_\"Federal-gov\"  ...  Sex_\"Female\"  Sex_\"Male\"\n",
              "0              1                        0  ...             1           0\n",
              "1              0                        0  ...             1           0\n",
              "2              1                        0  ...             1           0\n",
              "3              0                        0  ...             1           0\n",
              "4              0                        0  ...             1           0\n",
              "\n",
              "[5 rows x 108 columns]"
            ]
          },
          "metadata": {
            "tags": []
          },
          "execution_count": 13
        }
      ]
    },
    {
      "cell_type": "code",
      "metadata": {
        "id": "4vKvXxPtuWy4",
        "colab_type": "code",
        "colab": {}
      },
      "source": [
        "full_data = pd.concat([other_data, newcat_data], axis=1)"
      ],
      "execution_count": 14,
      "outputs": []
    },
    {
      "cell_type": "code",
      "metadata": {
        "id": "JMYWsm6_uY1X",
        "colab_type": "code",
        "colab": {
          "base_uri": "https://localhost:8080/",
          "height": 153
        },
        "outputId": "fb2f7582-ba82-430f-98b6-637c4515f186"
      },
      "source": [
        "print(full_data.head())"
      ],
      "execution_count": 15,
      "outputs": [
        {
          "output_type": "stream",
          "text": [
            "   Age  fnlwgt  Education-Num  ...  Race_\"White\"  Sex_\"Female\"  Sex_\"Male\"\n",
            "0   90   77053              9  ...             1             1           0\n",
            "1   82  132870              9  ...             1             1           0\n",
            "2   66  186061             10  ...             0             1           0\n",
            "3   54  140359              4  ...             1             1           0\n",
            "4   41  264663             10  ...             1             1           0\n",
            "\n",
            "[5 rows x 114 columns]\n"
          ],
          "name": "stdout"
        }
      ]
    },
    {
      "cell_type": "code",
      "metadata": {
        "id": "cWZRJLw5ub5V",
        "colab_type": "code",
        "colab": {}
      },
      "source": [
        "train_size = 20000\n",
        "valid_size = 10000"
      ],
      "execution_count": 16,
      "outputs": []
    },
    {
      "cell_type": "code",
      "metadata": {
        "id": "InW9lsGLuefR",
        "colab_type": "code",
        "colab": {
          "base_uri": "https://localhost:8080/",
          "height": 153
        },
        "outputId": "a3591849-ab8b-45ba-9379-e98dabbdb32f"
      },
      "source": [
        "train_x = full_data.iloc[:train_size, :]\n",
        "train_y = full_labels[:train_size]\n",
        "\n",
        "print(train_x.shape)\n",
        "print(train_y.shape)\n",
        "print()\n",
        "\n",
        "valid_x = full_data.iloc[train_size:(train_size+valid_size), :]\n",
        "valid_y = full_labels[train_size:(train_size+valid_size)]\n",
        "print(valid_x.shape)\n",
        "print(valid_y.shape)\n",
        "print()\n",
        "\n",
        "test_x = full_data.iloc[(train_size+valid_size):, :]\n",
        "test_y = full_labels[(train_size+valid_size):]\n",
        "print(test_x.shape)\n",
        "print(test_y.shape)\n",
        "num_features = test_x.shape[1]"
      ],
      "execution_count": 17,
      "outputs": [
        {
          "output_type": "stream",
          "text": [
            "(20000, 114)\n",
            "(20000,)\n",
            "\n",
            "(10000, 114)\n",
            "(10000,)\n",
            "\n",
            "(2561, 114)\n",
            "(2561,)\n"
          ],
          "name": "stdout"
        }
      ]
    },
    {
      "cell_type": "code",
      "metadata": {
        "id": "oP8uZn5IujjR",
        "colab_type": "code",
        "colab": {
          "base_uri": "https://localhost:8080/",
          "height": 34
        },
        "outputId": "137e24d4-29d7-4898-cd6e-c6f3abec5089"
      },
      "source": [
        "num_features"
      ],
      "execution_count": 18,
      "outputs": [
        {
          "output_type": "execute_result",
          "data": {
            "text/plain": [
              "114"
            ]
          },
          "metadata": {
            "tags": []
          },
          "execution_count": 18
        }
      ]
    },
    {
      "cell_type": "code",
      "metadata": {
        "id": "KLE7X0-oulZ7",
        "colab_type": "code",
        "colab": {}
      },
      "source": [
        "directory = os.path.dirname('./data_ML/')\n",
        "\n",
        "try:\n",
        "    os.stat(directory)\n",
        "except:\n",
        "    os.mkdir(directory)"
      ],
      "execution_count": 19,
      "outputs": []
    },
    {
      "cell_type": "code",
      "metadata": {
        "id": "cYuTnISYunlW",
        "colab_type": "code",
        "colab": {}
      },
      "source": [
        "import os, shutil\n",
        "folder = './data_ML/'\n",
        "for the_file in os.listdir(folder):\n",
        "    file_path = os.path.join(folder, the_file)\n",
        "    try:\n",
        "        if os.path.isfile(file_path):\n",
        "            os.unlink(file_path)\n",
        "        elif os.path.isdir(file_path): shutil.rmtree(file_path)\n",
        "    except Exception as e:\n",
        "        print(e)\n",
        "\n",
        "!ls \"./data_ML/\""
      ],
      "execution_count": 20,
      "outputs": []
    },
    {
      "cell_type": "code",
      "metadata": {
        "id": "TY2_lyYxuqLz",
        "colab_type": "code",
        "colab": {
          "base_uri": "https://localhost:8080/",
          "height": 51
        },
        "outputId": "5a3d72a2-6a8c-4b03-bcda-7faa4e46f079"
      },
      "source": [
        "full_dataset = np.asarray(full_data).astype(np.float32)\n",
        "full_labels = np.asarray(full_labels).astype(np.float32)\n",
        "z=0\n",
        "\n",
        "# load data for dataloader\n",
        "start = time.time()\n",
        "for x in range(full_dataset.shape[0]):\n",
        "    for y in range(2):\n",
        "        if full_labels[x] == y: \n",
        "            temp = (full_dataset[x,:]) #every row of full_dataset\n",
        "            \n",
        "            directory = './data_ML/' + str(label_encoder.classes_[y]) #./data_ML/\">50K\" or ./data_ML/\"<=50K\"\n",
        "            if not os.path.exists(directory):\n",
        "                os.makedirs(directory)\n",
        "            \n",
        "            \n",
        "            np.save((directory+ '/' +str(z) +'.npy'), temp) # store every row in every directory\n",
        "            \n",
        "            z += 1\n",
        "    \n",
        "end = time.time()\n",
        "\n",
        "print('Time to process: ', end-start)\n",
        "print(z, ' datapoints saved to path')"
      ],
      "execution_count": 21,
      "outputs": [
        {
          "output_type": "stream",
          "text": [
            "Time to process:  8.246361494064331\n",
            "32561  datapoints saved to path\n"
          ],
          "name": "stdout"
        }
      ]
    },
    {
      "cell_type": "code",
      "metadata": {
        "id": "BsINR60quzDW",
        "colab_type": "code",
        "colab": {}
      },
      "source": [
        "mean = np.zeros(num_features)\n",
        "std_mean = np.ones(num_features)\n",
        "\n",
        "\n",
        "class prep_stuff:\n",
        "    def __init__(self, batch_size, path):\n",
        "        self.batch_size = batch_size\n",
        "        self.path = path\n",
        "\n",
        "        batch_size_eval = 128\n",
        "          \n",
        "        self.train_data = datasets.DatasetFolder(self.path, np.load, ('npy'), target_transform=float32 )\n",
        "   \n",
        "        \n",
        "        indices = list(range(len(self.train_data)))\n",
        "        random.shuffle(indices)\n",
        "\n",
        "        # Split dataset into train and Test sets\n",
        "        self.train_loader = DataLoader(\n",
        "            self.train_data,\n",
        "            batch_size=self.batch_size,\n",
        "            sampler=SubsetRandomSampler(indices[:20000]),\n",
        "            num_workers=1,\n",
        "        )\n",
        "\n",
        "        self.valid_loader = DataLoader(\n",
        "            self.train_data,\n",
        "            batch_size=self.batch_size,\n",
        "            sampler=SubsetRandomSampler(indices[20000:30000]),\n",
        "            num_workers=1,\n",
        "        )\n",
        "\n",
        "        self.test_loader = DataLoader(\n",
        "            self.train_data,\n",
        "            batch_size=self.batch_size,\n",
        "            sampler=SubsetRandomSampler(indices[30000:]),\n",
        "            num_workers=1,\n",
        "        )\n",
        "\n",
        "\n",
        "\n",
        "\n",
        "        \n",
        "           \n",
        "\n",
        "\n",
        "# Create the object with both loader and loss functions\n",
        "\n",
        "batchSize = 1000\n",
        "path = './data_ML/'\n",
        "\n",
        "# 20000 for train\n",
        "# 10000 for valid \n",
        "# 2561 for Test\n",
        "pre_model = prep_stuff(batchSize, path)"
      ],
      "execution_count": 25,
      "outputs": []
    },
    {
      "cell_type": "code",
      "metadata": {
        "id": "eQstxQ4HFDHt",
        "colab_type": "code",
        "colab": {}
      },
      "source": [
        "for x,y in pre_model.train_loader:\n",
        "  print(y.dtype)"
      ],
      "execution_count": null,
      "outputs": []
    },
    {
      "cell_type": "code",
      "metadata": {
        "id": "neu7qzpPhAIR",
        "colab_type": "code",
        "colab": {}
      },
      "source": [
        "class BasicNet(nn.Module):\n",
        "    \n",
        "    def __init__(self, num_features, num_classes=1):\n",
        "        super().__init__()\n",
        "        self.num_features = num_features\n",
        "        # For your dataset this should be 1\n",
        "        self.num_classes = num_classes\n",
        "        self.n_layers = 4 \n",
        "        self.n_features = {1: num_features, 2:int(num_features/2), 3:int(num_features/4), 4: int(num_features/8), 5: num_classes}   \n",
        "        self.lin1 = torch.nn.Linear(self.n_features[1], self.n_features[2])\n",
        "        self.lin2 = torch.nn.Linear(self.n_features[2], self.n_features[3])\n",
        "        self.lin3 = torch.nn.Linear(self.n_features[3], self.n_features[4])\n",
        "        self.lin4 = torch.nn.Linear(self.n_features[4], self.n_features[5])\n",
        "\n",
        "    def forward(self,x):\n",
        "      x = F.relu(self.lin1(x))\n",
        "      x = F.relu(self.lin2(x))\n",
        "      x = F.relu(self.lin3(x))\n",
        "      x = self.lin4(x)\n",
        "      s = nn.Sigmoid()\n",
        "      x = s(x)\n",
        "      return x\n",
        "    \n",
        "    def get_embedding(self, x, k):\n",
        "      assert k < 5\n",
        "      if k == 2:\n",
        "        x = F.relu(self.lin2(F.relu(self.lin1(x))))\n",
        "      if k == 3:\n",
        "        x = F.relu(self.lin3(F.relu(self.lin2(F.relu(self.lin1(x))))))\n",
        "      return x\n",
        "        "
      ],
      "execution_count": 23,
      "outputs": []
    },
    {
      "cell_type": "code",
      "metadata": {
        "id": "HxykNH7qvVdh",
        "colab_type": "code",
        "colab": {
          "base_uri": "https://localhost:8080/",
          "height": 88
        },
        "outputId": "ac651008-6a13-4db7-9011-f14878e69b88"
      },
      "source": [
        "model = BasicNet(num_features, 1).to(device)\n",
        "nbr_epochs = 50\n",
        "lr = 0.0025\n",
        "weight_decay = 0\n",
        "loss_plot = 0\n",
        "loss_lst = []\n",
        "loss_fn = nn.BCELoss()\n",
        "optimizer = optim.Adam(model.parameters(), lr=lr,weight_decay=weight_decay)\n",
        "\n",
        "start_time = time.time()\n",
        "for epoch in range(nbr_epochs):\n",
        "    for x, y in pre_model.train_loader:\n",
        "        x, y = x.to(device), y.to(device)\n",
        "        optimizer.zero_grad()\n",
        "        ŷ = model(x) \n",
        "        loss = loss_fn(ŷ, y)\n",
        "        loss_plot = loss.item()\n",
        "        loss.backward(retain_graph=True)\n",
        "        optimizer.step()\n",
        "        loss_lst.append(loss_plot)\n",
        "  \n",
        "end_time = time.time()\n",
        "print('spend',end_time-start_time,'seconds to train this model')"
      ],
      "execution_count": 26,
      "outputs": [
        {
          "output_type": "stream",
          "text": [
            "/usr/local/lib/python3.6/dist-packages/torch/nn/functional.py:1594: UserWarning: Using a target size (torch.Size([1000])) that is different to the input size (torch.Size([1000, 1])) is deprecated. Please ensure they have the same size.\n",
            "  \"Please ensure they have the same size.\".format(target.size(), input.size()))\n"
          ],
          "name": "stderr"
        },
        {
          "output_type": "stream",
          "text": [
            "spend 259.4730644226074 seconds to train this model\n"
          ],
          "name": "stdout"
        }
      ]
    },
    {
      "cell_type": "code",
      "metadata": {
        "id": "qd1TE_RUF_s6",
        "colab_type": "code",
        "colab": {
          "base_uri": "https://localhost:8080/",
          "height": 34
        },
        "outputId": "847ef44a-59a4-47cd-c13c-e33888e5c3a9"
      },
      "source": [
        "len(loss_lst)"
      ],
      "execution_count": 27,
      "outputs": [
        {
          "output_type": "execute_result",
          "data": {
            "text/plain": [
              "1000"
            ]
          },
          "metadata": {
            "tags": []
          },
          "execution_count": 27
        }
      ]
    },
    {
      "cell_type": "code",
      "metadata": {
        "id": "0XFo8yr_pEA_",
        "colab_type": "code",
        "colab": {
          "base_uri": "https://localhost:8080/",
          "height": 343
        },
        "outputId": "defd5374-3e74-4deb-8282-2d1bddb53bb3"
      },
      "source": [
        "xvalues= np.arange(0,nbr_epochs*int(train_size/batchSize),1)\n",
        "plt.xlabel('Batch trained', fontsize=18)\n",
        "plt.ylabel('Error of BasicNet on train set', fontsize=18)\n",
        "plt.plot(xvalues, loss_lst)\n",
        "\n",
        "print('With lr=',lr, ', Batch size of ', batchSize ,' and ')\n",
        "print('Neural Network has ', 4, ' layers')"
      ],
      "execution_count": 29,
      "outputs": [
        {
          "output_type": "stream",
          "text": [
            "With lr= 0.0025 , Batch size of  1000  and \n",
            "Neural Network has  4  layers\n"
          ],
          "name": "stdout"
        },
        {
          "output_type": "display_data",
          "data": {
            "image/png": "[encoded data removed]",
            "text/plain": [
              "<Figure size 432x288 with 1 Axes>"
            ]
          },
          "metadata": {
            "tags": [],
            "needs_background": "light"
          }
        }
      ]
    },
    {
      "cell_type": "code",
      "metadata": {
        "id": "OF6Tqv1Uj0yY",
        "colab_type": "code",
        "colab": {}
      },
      "source": [
        "class Cache:\n",
        "    def __init__(self, n_layers):\n",
        "        self.embeddings = {i: [] for i in range(1,n_layers+1)}\n",
        "    @property\n",
        "    def size(self):\n",
        "        return len(self.embeddings)\n",
        "\n",
        "    @property\n",
        "    def get(self, i):\n",
        "        assert i < len(self.embeddings)\n",
        "        return self.embeddings[i]\n",
        "    \n",
        "    def store(self, x, i):\n",
        "        self.embeddings[i].append(x)"
      ],
      "execution_count": 30,
      "outputs": []
    },
    {
      "cell_type": "code",
      "metadata": {
        "id": "7Jn9qTo9vYRa",
        "colab_type": "code",
        "colab": {}
      },
      "source": [
        "cache = Cache(2) # we'll use only the hidden layers\n",
        "cache_t = Cache(2)\n",
        "for epoch in range(nbr_epochs):\n",
        "    for x, y in pre_model.train_loader:\n",
        "        # model.step\n",
        "        \n",
        "        x, y = x.to(device), y.to(device)\n",
        "        h2 = model.get_embedding(x, 2) \n",
        "        cache.store(h2, 1)\n",
        "        \n",
        "        h3 = model.get_embedding(x, 3) \n",
        "        cache.store(h3, 2)\n",
        "for t_x, t_y in pre_model.valid_loader:\n",
        "    t_x, t_y = t_x.to(device), t_y.to(device)\n",
        "    t_h2 = model.get_embedding(t_x, 2)\n",
        "    cache_t.store(t_h2,1)\n",
        "    t_h3 = model.get_embedding(t_x, 3)\n",
        "    cache_t.store(t_h3,2)\n"
      ],
      "execution_count": 31,
      "outputs": []
    },
    {
      "cell_type": "code",
      "metadata": {
        "id": "QEpBu3dXvaxk",
        "colab_type": "code",
        "colab": {}
      },
      "source": [
        "class AutoEncoder(nn.Module):\n",
        "    def __init__(self, indim, outdim):\n",
        "        super(AutoEncoder, self).__init__()\n",
        "        self.indim = indim\n",
        "        self.outdim = outdim\n",
        "        \n",
        "        self.hidden_e = nn.Sequential(nn.Linear(indim, int(indim/2)),nn.ReLU(),nn.Linear(int(indim/2), outdim))\n",
        "        \n",
        "        self.hidden_d = nn.Sequential(nn.Linear(outdim, int(indim/2)),nn.ReLU(),nn.Linear(int(indim/2), indim))\n",
        "        \n",
        "    def encode(self, x):\n",
        "        return self.hidden_e(x)\n",
        "    \n",
        "    def decode(self, x):\n",
        "        return self.hidden_d(x)\n",
        "    \n",
        "    def forward(self, x):\n",
        "        return self.decode(self.encode(x))"
      ],
      "execution_count": 34,
      "outputs": []
    },
    {
      "cell_type": "code",
      "metadata": {
        "id": "9yu-ec43q5e0",
        "colab_type": "code",
        "colab": {}
      },
      "source": [
        "cache.embeddings[1] = cache.embeddings[1][len(cache.embeddings[1]) - 20:]\n",
        "cache.embeddings[2] = cache.embeddings[2][len(cache.embeddings[2]) - 20:]"
      ],
      "execution_count": 35,
      "outputs": []
    },
    {
      "cell_type": "code",
      "metadata": {
        "id": "qbsifOuAj8a-",
        "colab_type": "code",
        "colab": {}
      },
      "source": [
        "AE2 = AutoEncoder(28, 3) ## Not sure what's a good output dimensionality here (check based on your model)\n",
        "AE3 = AutoEncoder(14, 3)\n",
        "\n",
        "AE2_loss = nn.MSELoss()\n",
        "AE3_loss = nn.MSELoss()\n",
        "l2_loss = [] # store train loss\n",
        "l3_loss = []\n",
        "t_l2_loss = []  #store test loss\n",
        "t_l3_loss = []  \n",
        "l2 = 0  #add loss together for each batch and return to 0 for next batch loss calculation\n",
        "l3 = 0\n",
        "t_l2 = 0  \n",
        "t_l3 = 0\n",
        "AE2_opt = optim.Adam(AE2.parameters(), lr=0.001)\n",
        "AE3_opt = optim.Adam(AE3.parameters(), lr=0.001)\n",
        "\n",
        "for e in range(nbr_epochs):\n",
        "    for x2 in cache.embeddings[1]:\n",
        "        #x_encoded = AE2.encode(x) \n",
        "        #x_decoded = AE2.encode(x_encoded)\n",
        "        AE2_opt.zero_grad()\n",
        "        x2_decoded = AE2(x2)\n",
        "        l2 = AE2_loss(x2_decoded, x2)\n",
        "        l2_error = AE2_loss(x2_decoded, x2)\n",
        "        l2_error.backward(retain_graph=True)\n",
        "        AE2_opt.step() \n",
        "        l2_loss.append(l2.item())\n",
        "\n",
        "    for x3 in cache.embeddings[2]:\n",
        "        #x_encoded = AE3.encode(x) \n",
        "        #x_decoded = AE3.encode(x_encoded)\n",
        "        AE3_opt.zero_grad()\n",
        "        x3_decoded = AE3(x3)\n",
        "        l3 = AE3_loss(x3_decoded, x3)\n",
        "        l3_error = AE3_loss(x3_decoded, x3)\n",
        "        l3_error.backward(retain_graph=True)\n",
        "        AE3_opt.step()\n",
        "        l3_loss.append(l3.item())\n",
        "\n",
        "    for t_x2 in cache_t.embeddings[1]:\n",
        "      t_x2_decoded = AE2(t_x2)\n",
        "      t_l2 = AE2_loss(t_x2_decoded, t_x2)\n",
        "      t_l2_loss.append(t_l2.item())\n",
        "\n",
        "    for t_x3 in cache_t.embeddings[2]:\n",
        "      t_x3_decoded = AE3(t_x3)\n",
        "      t_l3 = AE3_loss(t_x3_decoded, t_x3)\n",
        "      t_l3_loss.append(t_l3.item())\n",
        "\n",
        "         "
      ],
      "execution_count": 38,
      "outputs": []
    },
    {
      "cell_type": "code",
      "metadata": {
        "id": "Q1wkm2bRtWew",
        "colab_type": "code",
        "colab": {
          "base_uri": "https://localhost:8080/",
          "height": 34
        },
        "outputId": "f0d6596e-4ed3-446c-b10f-2aa288ddb0bd"
      },
      "source": [
        "len(cache.embeddings[1])"
      ],
      "execution_count": 43,
      "outputs": [
        {
          "output_type": "execute_result",
          "data": {
            "text/plain": [
              "20"
            ]
          },
          "metadata": {
            "tags": []
          },
          "execution_count": 43
        }
      ]
    },
    {
      "cell_type": "code",
      "metadata": {
        "id": "4B1mjXU7weUh",
        "colab_type": "code",
        "colab": {
          "base_uri": "https://localhost:8080/",
          "height": 407
        },
        "outputId": "28618f6b-e833-4376-e70a-448324777719"
      },
      "source": [
        "xvalues= np.arange(0,nbr_epochs*int(train_size/batchSize),1)\n",
        "plt.xlabel('Batch trained', fontsize=18)\n",
        "plt.ylabel('Error of  Autoencoder1 on training set', fontsize=18)\n",
        "plt.plot(xvalues, l2_loss)\n",
        "\n",
        "print('With lr=',lr, ', Batch size of ', batchSize ,' and ')\n",
        "print('Neural Network has ', model.n_layers, ' layers')"
      ],
      "execution_count": 44,
      "outputs": [
        {
          "output_type": "stream",
          "text": [
            "With lr= 0.0025 , Batch size of  1000  and \n",
            "Neural Network has  4  layers\n"
          ],
          "name": "stdout"
        },
        {
          "output_type": "display_data",
          "data": {
            "image/png": "[encoded data removed]",
            "text/plain": [
              "<Figure size 432x288 with 1 Axes>"
            ]
          },
          "metadata": {
            "tags": [],
            "needs_background": "light"
          }
        }
      ]
    },
    {
      "cell_type": "code",
      "metadata": {
        "id": "itapt4u0Xo6z",
        "colab_type": "code",
        "colab": {
          "base_uri": "https://localhost:8080/",
          "height": 401
        },
        "outputId": "3ad9d790-fa4b-4681-a8d8-631508335347"
      },
      "source": [
        "xvalues= np.arange(0,nbr_epochs*int(train_size/batchSize),1)\n",
        "plt.xlabel('Batch trained', fontsize=18)\n",
        "plt.ylabel('Error of Autoencoder2 on training set', fontsize=18)\n",
        "plt.plot(xvalues, l3_loss)\n",
        "\n",
        "print('With lr=',lr, ', Batch size of ', batchSize ,' and ')\n",
        "print('Neural Network has ', 4, ' layers')"
      ],
      "execution_count": 47,
      "outputs": [
        {
          "output_type": "stream",
          "text": [
            "With lr= 0.0025 , Batch size of  1000  and \n",
            "Neural Network has  4  layers\n"
          ],
          "name": "stdout"
        },
        {
          "output_type": "display_data",
          "data": {
            "image/png": "[encoded data removed]",
            "text/plain": [
              "<Figure size 432x288 with 1 Axes>"
            ]
          },
          "metadata": {
            "tags": [],
            "needs_background": "light"
          }
        }
      ]
    },
    {
      "cell_type": "code",
      "metadata": {
        "id": "TopceVBNsP-H",
        "colab_type": "code",
        "colab": {
          "base_uri": "https://localhost:8080/",
          "height": 366
        },
        "outputId": "b901d0b2-4975-4bf0-abbf-bac35de0909f"
      },
      "source": [
        "xvalues= np.arange(0,nbr_epochs*int(valid_size/batchSize),1)\n",
        "plt.xlabel('Epochs trained', fontsize=18)\n",
        "plt.ylabel('Error of Autoencoder1 on test set', fontsize=18)\n",
        "plt.plot(xvalues, t_l2_loss)\n",
        "\n",
        "print('With lr=',lr, ', Batch size of ', batchSize ,' and ')\n",
        "print('Neural Network has ', model.n_layers, ' layers')"
      ],
      "execution_count": 45,
      "outputs": [
        {
          "output_type": "stream",
          "text": [
            "With lr= 0.0025 , Batch size of  1000  and \n",
            "Neural Network has  4  layers\n"
          ],
          "name": "stdout"
        },
        {
          "output_type": "display_data",
          "data": {
            "image/png": "[encoded data removed]",
            "text/plain": [
              "<Figure size 432x288 with 1 Axes>"
            ]
          },
          "metadata": {
            "tags": [],
            "needs_background": "light"
          }
        }
      ]
    },
    {
      "cell_type": "code",
      "metadata": {
        "id": "U7lFLg9yyGKm",
        "colab_type": "code",
        "colab": {
          "base_uri": "https://localhost:8080/",
          "height": 366
        },
        "outputId": "b2937db4-b5ed-4344-af13-85f385821e76"
      },
      "source": [
        "xvalues= np.arange(0,nbr_epochs*int(valid_size/batchSize),1)\n",
        "plt.xlabel('Batcg trained', fontsize=18)\n",
        "plt.ylabel('Error of Autoencoder2 on test set', fontsize=18)\n",
        "plt.plot(xvalues, t_l3_loss)\n",
        "\n",
        "print('With lr=',lr, ', Batch size of ', batchSize ,' and ')\n",
        "print('Neural Network has ', 4, ' layers')"
      ],
      "execution_count": 46,
      "outputs": [
        {
          "output_type": "stream",
          "text": [
            "With lr= 0.0025 , Batch size of  1000  and \n",
            "Neural Network has  4  layers\n"
          ],
          "name": "stdout"
        },
        {
          "output_type": "display_data",
          "data": {
            "image/png": "[encoded data removed]",
            "text/plain": [
              "<Figure size 432x288 with 1 Axes>"
            ]
          },
          "metadata": {
            "tags": [],
            "needs_background": "light"
          }
        }
      ]
    }
  ]
}