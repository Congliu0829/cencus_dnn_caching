{
  "nbformat": 4,
  "nbformat_minor": 0,
  "metadata": {
    "colab": {
      "name": "test_all_1.ipynb",
      "provenance": [],
      "collapsed_sections": [],
      "toc_visible": true,
      "authorship_tag": "ABX9TyMZgfqBOBHFQ8ON7Q7OnSOa",
      "include_colab_link": true
    },
    "kernelspec": {
      "name": "python3",
      "display_name": "Python 3"
    }
  },
  "cells": [
    {
      "cell_type": "markdown",
      "metadata": {
        "id": "view-in-github",
        "colab_type": "text"
      },
      "source": [
        "<a href=\"https://colab.research.google.com/github/Congliu0829/cencus_dnn_caching/blob/master/test_all_1.ipynb\" target=\"_parent\"><img src=\"https://colab.research.google.com/assets/colab-badge.svg\" alt=\"Open In Colab\"/></a>"
      ]
    },
    {
      "cell_type": "code",
      "metadata": {
        "id": "ikdGnYicJ-ZH",
        "colab_type": "code",
        "colab": {
          "base_uri": "https://localhost:8080/",
          "height": 207
        },
        "outputId": "fb146289-f540-499d-95d7-3846fcdd236f"
      },
      "source": [
        "import os\n",
        "os.environ['KMP_DUPLICATE_LIB_OK']='True'\n",
        "\n",
        "from torch_utils import *\n",
        "from dataset import Dataset\n",
        "from basicnet import Net\n",
        "import matplotlib.pyplot as plt\n",
        "\n",
        "device = torch.device(\"cpu\")\n",
        "if torch.cuda.is_available():\n",
        "    device = torch.device(\"cuda\")\n",
        "\n",
        "params = {'benchmark': 'adult', 'maxlen': 0, 'batch_size': 500,\n",
        "          'split': [0.7, 0.2, 0.1], 'seed': 2,\n",
        "          'epochs': 100, 'lr': 0.001}\n",
        "data = Dataset(params, 'train', device)\n",
        "\n",
        "model = Net(data.nfeatures, [10,5])\n",
        "loss_fn = nn.BCELoss()\n",
        "optimizer = optim.Adam(model.parameters(), lr=params['lr'])"
      ],
      "execution_count": null,
      "outputs": [
        {
          "output_type": "stream",
          "text": [
            "/content/dataloader.py:32: SettingWithCopyWarning: \n",
            "A value is trying to be set on a copy of a slice from a DataFrame\n",
            "\n",
            "See the caveats in the documentation: https://pandas.pydata.org/pandas-docs/stable/user_guide/indexing.html#returning-a-view-versus-a-copy\n",
            "  dataset[y_feat][column] = classes[0]\n",
            "/content/dataloader.py:34: SettingWithCopyWarning: \n",
            "A value is trying to be set on a copy of a slice from a DataFrame\n",
            "\n",
            "See the caveats in the documentation: https://pandas.pydata.org/pandas-docs/stable/user_guide/indexing.html#returning-a-view-versus-a-copy\n",
            "  dataset[y_feat][column] = classes[1]\n"
          ],
          "name": "stderr"
        }
      ]
    },
    {
      "cell_type": "code",
      "metadata": {
        "id": "nRkqClTPJ-ZO",
        "colab_type": "code",
        "colab": {
          "base_uri": "https://localhost:8080/",
          "height": 282
        },
        "outputId": "c866e373-f215-4924-8969-23ad3cbfd873"
      },
      "source": [
        "y_loss=[]\n",
        "for epoch in range(params['epochs']):\n",
        "    for (x, y) in data:\n",
        "        (x, y) = x.to(device), y.to(device)\n",
        "        optimizer.zero_grad()\n",
        "        ŷ = model(x)\n",
        "        loss = loss_fn(ŷ, y)\n",
        "        y_loss.append(loss.item())\n",
        "        loss.backward()\n",
        "        optimizer.step()\n",
        "        \n",
        "plt.plot(y_loss)"
      ],
      "execution_count": null,
      "outputs": [
        {
          "output_type": "execute_result",
          "data": {
            "text/plain": [
              "[<matplotlib.lines.Line2D at 0x7fef186705c0>]"
            ]
          },
          "metadata": {
            "tags": []
          },
          "execution_count": 2
        },
        {
          "output_type": "display_data",
          "data": {
            "image/png": "[encoded data removed]",
            "text/plain": [
              "<Figure size 432x288 with 1 Axes>"
            ]
          },
          "metadata": {
            "tags": [],
            "needs_background": "light"
          }
        }
      ]
    },
    {
      "cell_type": "code",
      "metadata": {
        "id": "sS5k71mzJ-ZV",
        "colab_type": "code",
        "colab": {}
      },
      "source": [
        "from cache import Cache\n",
        "cache = Cache(2) # we'll use only the hidden layers\n",
        "\n",
        "for epoch in range(params['epochs']):\n",
        "    for (x, y) in data:\n",
        "        (x, y) = x.to(device), y.to(device)\n",
        "        h2 = model.get_embedding(x, 1) \n",
        "        cache.store(h2, 1)\n",
        "\n",
        "        h3 = model.get_embedding(x, 2) \n",
        "        cache.store(h3, 2)"
      ],
      "execution_count": null,
      "outputs": []
    },
    {
      "cell_type": "code",
      "metadata": {
        "id": "4LAR0oRJJ-Zb",
        "colab_type": "code",
        "colab": {}
      },
      "source": [
        "from autoencoder import AutoEncoder\n",
        "ae1 = AutoEncoder(model._l_dim[1], 2)\n",
        "ae2 = AutoEncoder(model._l_dim[2], 2)\n",
        "\n",
        "ae_loss1 = nn.MSELoss()\n",
        "ae_loss2 = nn.MSELoss()\n",
        "opt1 = optim.Adam(ae1.parameters(), lr=0.001)\n",
        "opt2 = optim.Adam(ae2.parameters(), lr=0.001)\n",
        "\n",
        "y1_loss=[]\n",
        "y2_loss=[]\n",
        "h1 = []\n",
        "h2 = []\n",
        "oh1 = []\n",
        "oh2 = []\n",
        "\n",
        "for epoch in range(5):#params['epochs']):\n",
        "    for x1 in cache.embeddings[1]:\n",
        "        opt1.zero_grad()\n",
        "        x̃1 = ae1(x1)\n",
        "        oh1.append(x1)\n",
        "        h1.append(x̃1)\n",
        "        l1 = ae_loss1(x̃1, x1)\n",
        "        l1.backward(retain_graph=True)\n",
        "        opt1.step() \n",
        "        y1_loss.append(l1.item())\n",
        "    \n",
        "    for x2 in cache.embeddings[2]:\n",
        "        opt2.zero_grad()\n",
        "        x̃2 = ae2(x2)\n",
        "        oh2.append(x2)\n",
        "        h2.append(x̃2)\n",
        "        l2 = ae_loss2(x̃2, x2)\n",
        "        l2.backward(retain_graph=True)\n",
        "        opt2.step()\n",
        "        y2_loss.append(l2.item())"
      ],
      "execution_count": null,
      "outputs": []
    },
    {
      "cell_type": "code",
      "metadata": {
        "id": "9emRlAMZJ-Zi",
        "colab_type": "code",
        "colab": {
          "base_uri": "https://localhost:8080/",
          "height": 282
        },
        "outputId": "136c2845-d834-4831-f0d4-6717e9c0357b"
      },
      "source": [
        "plt.plot(y1_loss)\n",
        "plt.plot(y2_loss)\n",
        "plt.legend(['h1', 'h2'])"
      ],
      "execution_count": null,
      "outputs": [
        {
          "output_type": "execute_result",
          "data": {
            "text/plain": [
              "<matplotlib.legend.Legend at 0x7fef17cd1470>"
            ]
          },
          "metadata": {
            "tags": []
          },
          "execution_count": 5
        },
        {
          "output_type": "display_data",
          "data": {
            "image/png": "[encoded data removed]",
            "text/plain": [
              "<Figure size 432x288 with 1 Axes>"
            ]
          },
          "metadata": {
            "tags": [],
            "needs_background": "light"
          }
        }
      ]
    },
    {
      "cell_type": "code",
      "metadata": {
        "id": "jvijU5sLk4qQ",
        "colab_type": "code",
        "colab": {}
      },
      "source": [
        "'''This aims to split tensors so that batchsize will be equal to 1'''\n",
        "from split import *\n",
        "split_1 = []\n",
        "split_1 = split(cache.embeddings[1], split_1)\n",
        "split_2 = []\n",
        "split_2 = split(cache.embeddings[2], split_2)\n"
      ],
      "execution_count": null,
      "outputs": []
    },
    {
      "cell_type": "code",
      "metadata": {
        "id": "ZS8ZFT3SeBB3",
        "colab_type": "code",
        "colab": {}
      },
      "source": [
        "'''This aims to store the first and second element of the output tensor, in order to construct bins'''\n",
        "a1 = []\n",
        "b1 = []\n",
        "a2 = []\n",
        "b2 = []\n",
        "for x in split_1:\n",
        "  x_out1 = ae1(x)\n",
        "  a1.append(x_out1.detach().numpy()[0][0])\n",
        "  b1.append(x_out1.detach().numpy()[0][1])\n",
        "\n",
        "for x in split_2:\n",
        "  x_out2 = ae2(x)\n",
        "  a2.append(x_out2.detach().numpy()[0][0])\n",
        "  b2.append(x_out2.detach().numpy()[0][1])\n",
        "\n"
      ],
      "execution_count": null,
      "outputs": []
    },
    {
      "cell_type": "code",
      "metadata": {
        "id": "g2Ow8bgwiCAQ",
        "colab_type": "code",
        "colab": {}
      },
      "source": [
        "from histogram import Histogram\n",
        "histogram1 = Histogram('Histogram of first element of h1', a1, max(a1), min(a1))\n",
        "histogram2 = Histogram('Histogram of second element of h1', b1, max(b1), min(b1))\n",
        "histogram3 = Histogram('Histogram of first element of h2', a2, max(a2), min(a2))\n",
        "histogram4 = Histogram('Histogram of second element of h2', b2, max(b2), min(b2))"
      ],
      "execution_count": null,
      "outputs": []
    },
    {
      "cell_type": "code",
      "metadata": {
        "id": "Rcieh6y9memW",
        "colab_type": "code",
        "colab": {
          "base_uri": "https://localhost:8080/",
          "height": 295
        },
        "outputId": "9d4694cf-105f-4795-cd99-f076da896c33"
      },
      "source": [
        "histogram1.plot(histogram1.data, histogram1.dataname, histogram1.bins)"
      ],
      "execution_count": null,
      "outputs": [
        {
          "output_type": "display_data",
          "data": {
            "image/png": "[encoded data removed]",
            "text/plain": [
              "<Figure size 432x288 with 1 Axes>"
            ]
          },
          "metadata": {
            "tags": [],
            "needs_background": "light"
          }
        }
      ]
    },
    {
      "cell_type": "code",
      "metadata": {
        "id": "62ph77eVmrHM",
        "colab_type": "code",
        "colab": {
          "base_uri": "https://localhost:8080/",
          "height": 295
        },
        "outputId": "f5904895-b3d5-45b0-ccf6-3ec5c5d5bfb1"
      },
      "source": [
        "histogram2.plot(histogram2.data, histogram2.dataname, histogram2.bins)"
      ],
      "execution_count": null,
      "outputs": [
        {
          "output_type": "display_data",
          "data": {
            "image/png": "[encoded data removed]",
            "text/plain": [
              "<Figure size 432x288 with 1 Axes>"
            ]
          },
          "metadata": {
            "tags": [],
            "needs_background": "light"
          }
        }
      ]
    },
    {
      "cell_type": "code",
      "metadata": {
        "id": "vMuUi3oNmrjt",
        "colab_type": "code",
        "colab": {
          "base_uri": "https://localhost:8080/",
          "height": 295
        },
        "outputId": "fc94c829-3438-4f3b-ff36-3e74ead429a6"
      },
      "source": [
        "histogram3.plot(histogram3.data, histogram3.dataname, histogram3.bins)"
      ],
      "execution_count": null,
      "outputs": [
        {
          "output_type": "display_data",
          "data": {
            "image/png": "[encoded data removed]",
            "text/plain": [
              "<Figure size 432x288 with 1 Axes>"
            ]
          },
          "metadata": {
            "tags": [],
            "needs_background": "light"
          }
        }
      ]
    },
    {
      "cell_type": "code",
      "metadata": {
        "id": "baXj1rtqmr2a",
        "colab_type": "code",
        "colab": {
          "base_uri": "https://localhost:8080/",
          "height": 295
        },
        "outputId": "0cc5cb89-79f5-457e-c633-e08b8ad9b2b0"
      },
      "source": [
        "histogram4.plot(histogram4.data, histogram4.dataname, histogram4.bins)"
      ],
      "execution_count": null,
      "outputs": [
        {
          "output_type": "display_data",
          "data": {
            "image/png": "[encoded data removed]",
            "text/plain": [
              "<Figure size 432x288 with 1 Axes>"
            ]
          },
          "metadata": {
            "tags": [],
            "needs_background": "light"
          }
        }
      ]
    }
  ]
}