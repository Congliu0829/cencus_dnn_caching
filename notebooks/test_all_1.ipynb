{
  "nbformat": 4,
  "nbformat_minor": 0,
  "metadata": {
    "colab": {
      "name": "test_all_1.ipynb",
      "provenance": [],
      "collapsed_sections": []
    },
    "kernelspec": {
      "name": "python3",
      "display_name": "Python 3"
    }
  },
  "cells": [
    {
      "cell_type": "code",
      "metadata": {
        "id": "ikdGnYicJ-ZH",
        "colab_type": "code",
        "colab": {
          "base_uri": "https://localhost:8080/",
          "height": 187
        },
        "outputId": "5da0e56f-ba47-4838-f6b5-3860de8ddb43"
      },
      "source": [
        "import os\n",
        "os.environ['KMP_DUPLICATE_LIB_OK']='True'\n",
        "\n",
        "from torch_utils import *\n",
        "from dataset import Dataset\n",
        "from basicnet import Net\n",
        "import matplotlib.pyplot as plt\n",
        "\n",
        "device = torch.device(\"cpu\")\n",
        "if torch.cuda.is_available():\n",
        "    device = torch.device(\"cuda\")\n",
        "\n",
        "params = {'benchmark': 'adult', 'maxlen': 0, 'batch_size': 500,\n",
        "          'split': [0.7, 0.2, 0.1], 'seed': 2,\n",
        "          'epochs': 100, 'lr': 0.001}\n",
        "data = Dataset(params, 'train', device)\n",
        "\n",
        "model = Net(data.nfeatures, [10,5])\n",
        "loss_fn = nn.BCELoss()\n",
        "optimizer = optim.Adam(model.parameters(), lr=params['lr'])"
      ],
      "execution_count": 1,
      "outputs": [
        {
          "output_type": "stream",
          "text": [
            "/content/dataloader.py:32: SettingWithCopyWarning: \n",
            "A value is trying to be set on a copy of a slice from a DataFrame\n",
            "\n",
            "See the caveats in the documentation: https://pandas.pydata.org/pandas-docs/stable/user_guide/indexing.html#returning-a-view-versus-a-copy\n",
            "  dataset[y_feat][column] = classes[0]\n",
            "/content/dataloader.py:34: SettingWithCopyWarning: \n",
            "A value is trying to be set on a copy of a slice from a DataFrame\n",
            "\n",
            "See the caveats in the documentation: https://pandas.pydata.org/pandas-docs/stable/user_guide/indexing.html#returning-a-view-versus-a-copy\n",
            "  dataset[y_feat][column] = classes[1]\n"
          ],
          "name": "stderr"
        }
      ]
    },
    {
      "cell_type": "code",
      "metadata": {
        "id": "nRkqClTPJ-ZO",
        "colab_type": "code",
        "colab": {
          "base_uri": "https://localhost:8080/",
          "height": 282
        },
        "outputId": "14306d96-1b94-461a-9c02-e3d36ddaaddd"
      },
      "source": [
        "y_loss=[]\n",
        "for epoch in range(params['epochs']):\n",
        "    for (x, y) in data:\n",
        "        (x, y) = x.to(device), y.to(device)\n",
        "        optimizer.zero_grad()\n",
        "        ŷ = model(x)\n",
        "        loss = loss_fn(ŷ, y)\n",
        "        y_loss.append(loss.item())\n",
        "        loss.backward()\n",
        "        optimizer.step()\n",
        "plt.plot(y_loss)"
      ],
      "execution_count": 2,
      "outputs": [
        {
          "output_type": "execute_result",
          "data": {
            "text/plain": [
              "[<matplotlib.lines.Line2D at 0x7fa092b70710>]"
            ]
          },
          "metadata": {
            "tags": []
          },
          "execution_count": 2
        },
        {
          "output_type": "display_data",
          "data": {
            "image/png": "[encoded data removed]",
            "text/plain": [
              "<Figure size 432x288 with 1 Axes>"
            ]
          },
          "metadata": {
            "tags": [],
            "needs_background": "light"
          }
        }
      ]
    },
    {
      "cell_type": "code",
      "metadata": {
        "id": "4wcKlIdvVttM",
        "colab_type": "code",
        "colab": {
          "base_uri": "https://localhost:8080/",
          "height": 34
        },
        "outputId": "41585e79-d85f-4707-fe55-5c326c4e74ee"
      },
      "source": [
        "ŷ.data.max(1, keepdim=True)[1].size()"
      ],
      "execution_count": 33,
      "outputs": [
        {
          "output_type": "execute_result",
          "data": {
            "text/plain": [
              "torch.Size([113, 1])"
            ]
          },
          "metadata": {
            "tags": []
          },
          "execution_count": 33
        }
      ]
    },
    {
      "cell_type": "code",
      "metadata": {
        "id": "RKvtt8CJUgj-",
        "colab_type": "code",
        "colab": {
          "base_uri": "https://localhost:8080/",
          "height": 187
        },
        "outputId": "b99a2e8c-f8f7-43b1-aebd-503c465966c2"
      },
      "source": [
        "data_test = Dataset(params, 'test', device)"
      ],
      "execution_count": 34,
      "outputs": [
        {
          "output_type": "stream",
          "text": [
            "/content/dataloader.py:32: SettingWithCopyWarning: \n",
            "A value is trying to be set on a copy of a slice from a DataFrame\n",
            "\n",
            "See the caveats in the documentation: https://pandas.pydata.org/pandas-docs/stable/user_guide/indexing.html#returning-a-view-versus-a-copy\n",
            "  dataset[y_feat][column] = classes[0]\n",
            "/content/dataloader.py:34: SettingWithCopyWarning: \n",
            "A value is trying to be set on a copy of a slice from a DataFrame\n",
            "\n",
            "See the caveats in the documentation: https://pandas.pydata.org/pandas-docs/stable/user_guide/indexing.html#returning-a-view-versus-a-copy\n",
            "  dataset[y_feat][column] = classes[1]\n"
          ],
          "name": "stderr"
        }
      ]
    },
    {
      "cell_type": "code",
      "metadata": {
        "id": "LuElnbO_Uk63",
        "colab_type": "code",
        "colab": {
          "base_uri": "https://localhost:8080/",
          "height": 34
        },
        "outputId": "5544cd01-6c75-40c0-a391-23fff73d0b95"
      },
      "source": [
        "test_size = 0\n",
        "correct = 0\n",
        "for (x, y) in data_test:\n",
        "  (x, y) = x.to(device), y.to(device)\n",
        "  ŷ = model(x)\n",
        "  test_size += len(x)\n",
        "  correct += ŷ.data.max(1, keepdim=True)[1].eq(y.view_as(ŷ.data.max(1, keepdim=True)[1])).sum().item()\n",
        "\n",
        "accuracy = correct / test_size\n",
        "print('This basicnet has ' + str(accuracy) + ' out of 1 in terms of accuracy')"
      ],
      "execution_count": 37,
      "outputs": [
        {
          "output_type": "stream",
          "text": [
            "This basicnet has 0.7395557029177718 out of 1 in terms of accuracy\n"
          ],
          "name": "stdout"
        }
      ]
    },
    {
      "cell_type": "code",
      "metadata": {
        "id": "sS5k71mzJ-ZV",
        "colab_type": "code",
        "colab": {}
      },
      "source": [
        "from cache import Cache\n",
        "cache = Cache(2) # we'll use only the hidden layers\n",
        "\n",
        "for epoch in range(params['epochs']):\n",
        "    for (x, y) in data:\n",
        "        (x, y) = x.to(device), y.to(device)\n",
        "        h2 = model.get_embedding(x, 1) \n",
        "        cache.store(h2, 1)\n",
        "\n",
        "        h3 = model.get_embedding(x, 2) \n",
        "        cache.store(h3, 2)\n",
        "        cache.store_label(y)"
      ],
      "execution_count": 3,
      "outputs": []
    },
    {
      "cell_type": "code",
      "metadata": {
        "id": "4LAR0oRJJ-Zb",
        "colab_type": "code",
        "colab": {}
      },
      "source": [
        "from autoencoder import AutoEncoder\n",
        "ae1 = AutoEncoder(model._l_dim[1], 2)\n",
        "ae2 = AutoEncoder(model._l_dim[2], 2)\n",
        "\n",
        "ae_loss1 = nn.MSELoss()\n",
        "ae_loss2 = nn.MSELoss()\n",
        "opt1 = optim.Adam(ae1.parameters(), lr=0.001)\n",
        "opt2 = optim.Adam(ae2.parameters(), lr=0.001)\n",
        "\n",
        "y1_loss=[]\n",
        "y2_loss=[]\n",
        "\n",
        "for epoch in range(5):#params['epochs']):\n",
        "    for x1 in cache.embeddings[1]:\n",
        "        opt1.zero_grad()\n",
        "        x̃1 = ae1(x1)\n",
        "        l1 = ae_loss1(x̃1, x1)\n",
        "        l1.backward(retain_graph=True)\n",
        "        opt1.step() \n",
        "        y1_loss.append(l1.item())\n",
        "    \n",
        "    for x2 in cache.embeddings[2]:\n",
        "        opt2.zero_grad()\n",
        "        x̃2 = ae2(x2)\n",
        "        l2 = ae_loss2(x̃2, x2)\n",
        "        l2.backward(retain_graph=True)\n",
        "        opt2.step()\n",
        "        y2_loss.append(l2.item())"
      ],
      "execution_count": 4,
      "outputs": []
    },
    {
      "cell_type": "code",
      "metadata": {
        "id": "9emRlAMZJ-Zi",
        "colab_type": "code",
        "colab": {
          "base_uri": "https://localhost:8080/",
          "height": 282
        },
        "outputId": "b1ae77a4-1c05-4c73-ee91-f64710e8eec8"
      },
      "source": [
        "plt.plot(y1_loss)\n",
        "plt.plot(y2_loss)\n",
        "plt.legend(['h1', 'h2'])"
      ],
      "execution_count": 5,
      "outputs": [
        {
          "output_type": "execute_result",
          "data": {
            "text/plain": [
              "<matplotlib.legend.Legend at 0x7fa09243bf98>"
            ]
          },
          "metadata": {
            "tags": []
          },
          "execution_count": 5
        },
        {
          "output_type": "display_data",
          "data": {
            "image/png": "[encoded data removed]",
            "text/plain": [
              "<Figure size 432x288 with 1 Axes>"
            ]
          },
          "metadata": {
            "tags": [],
            "needs_background": "light"
          }
        }
      ]
    },
    {
      "cell_type": "code",
      "metadata": {
        "id": "jvijU5sLk4qQ",
        "colab_type": "code",
        "colab": {}
      },
      "source": [
        "'''This aims to split tensors so that batchsize will be equal to 1'''\n",
        "from split import *\n",
        "split_1 = []\n",
        "split_1 = split(cache.embeddings[1], split_1)\n",
        "split_2 = []\n",
        "split_2 = split(cache.embeddings[2], split_2)\n",
        "split_labels = []\n",
        "split_labels = split(cache.labels, split_labels)"
      ],
      "execution_count": 6,
      "outputs": []
    },
    {
      "cell_type": "code",
      "metadata": {
        "id": "ZS8ZFT3SeBB3",
        "colab_type": "code",
        "colab": {}
      },
      "source": [
        "'''This aims to store the first and second element of the output tensor, in order to construct bins'''\n",
        "a1 = []\n",
        "b1 = []\n",
        "a2 = []\n",
        "b2 = []\n",
        "each_label = []\n",
        "for x in split_1:\n",
        "  x_out1 = ae1.encode(x)\n",
        "  a1.append(x_out1.detach().numpy()[0][0])\n",
        "  b1.append(x_out1.detach().numpy()[0][1])\n",
        "\n",
        "for x in split_2:\n",
        "  x_out2 = ae2.encode(x)\n",
        "  a2.append(x_out2.detach().numpy()[0][0])\n",
        "  b2.append(x_out2.detach().numpy()[0][1])\n",
        "\n",
        "for label in split_labels:\n",
        "  each_label.append(label.numpy()[0][0])\n",
        "\n",
        "\n"
      ],
      "execution_count": 7,
      "outputs": []
    },
    {
      "cell_type": "code",
      "metadata": {
        "id": "jA1zqQmP7rB8",
        "colab_type": "code",
        "colab": {}
      },
      "source": [
        "import numpy as np\n",
        "a1_0 = []\n",
        "b1_0 = []\n",
        "a2_0 = []\n",
        "b2_0 = []\n",
        "a1_1 = []\n",
        "a2_1 = []\n",
        "b1_1 = []\n",
        "b2_1 = []\n",
        "for i in range(len(each_label)):\n",
        "  if each_label[i] == 0:\n",
        "    a1_0.append(a1[i])\n",
        "    b1_0.append(b1[i])\n",
        "    a2_0.append(a2[i])\n",
        "    b2_0.append(b2[i])\n",
        "  if each_label[i] == 1:\n",
        "    a1_1.append(a1[i])\n",
        "    b1_1.append(b1[i])\n",
        "    a2_1.append(a2[i])\n",
        "    b2_1.append(b2[i])"
      ],
      "execution_count": 8,
      "outputs": []
    },
    {
      "cell_type": "code",
      "metadata": {
        "id": "jEd768dbW8ks",
        "colab_type": "code",
        "colab": {}
      },
      "source": [
        "a1_whole = [a1_0, a1_1]\n",
        "a2_whole = [a2_0, a2_1]\n",
        "b1_whole = [b1_0, b1_1]\n",
        "b2_whole = [b2_0, b2_1]"
      ],
      "execution_count": 9,
      "outputs": []
    },
    {
      "cell_type": "code",
      "metadata": {
        "id": "BxqRlXFqXZDK",
        "colab_type": "code",
        "colab": {}
      },
      "source": [
        "from histogram import Histogram\n",
        "histogram1_w = Histogram('Histogram of first element of h1', a1_whole, max(a1), min(a1))\n",
        "histogram2_w = Histogram('Histogram of second element of h1', b1_whole, max(b1), min(b1))\n",
        "histogram3_w = Histogram('Histogram of first element of h2', a2_whole, max(a2), min(a2))\n",
        "histogram4_w = Histogram('Histogram of second element of h2', b2_whole, max(b2), min(b2))"
      ],
      "execution_count": 10,
      "outputs": []
    },
    {
      "cell_type": "code",
      "metadata": {
        "id": "SodgLnSGXuPw",
        "colab_type": "code",
        "colab": {
          "base_uri": "https://localhost:8080/",
          "height": 295
        },
        "outputId": "ab440463-4eb7-431f-e10e-503d0d78f3a4"
      },
      "source": [
        "histogram1_w.plot(histogram1_w.data, histogram1_w.dataname, histogram1_w.bins)"
      ],
      "execution_count": 11,
      "outputs": [
        {
          "output_type": "display_data",
          "data": {
            "image/png": "[encoded data removed]",
            "text/plain": [
              "<Figure size 432x288 with 1 Axes>"
            ]
          },
          "metadata": {
            "tags": [],
            "needs_background": "light"
          }
        }
      ]
    },
    {
      "cell_type": "code",
      "metadata": {
        "id": "AGJfAxGYYIxu",
        "colab_type": "code",
        "colab": {
          "base_uri": "https://localhost:8080/",
          "height": 295
        },
        "outputId": "8a1d9ed4-5402-41fa-9bc5-4ed8935882f3"
      },
      "source": [
        "histogram2_w.plot(histogram2_w.data, histogram2_w.dataname, histogram2_w.bins)"
      ],
      "execution_count": 12,
      "outputs": [
        {
          "output_type": "display_data",
          "data": {
            "image/png": "[encoded data removed]",
            "text/plain": [
              "<Figure size 432x288 with 1 Axes>"
            ]
          },
          "metadata": {
            "tags": [],
            "needs_background": "light"
          }
        }
      ]
    },
    {
      "cell_type": "code",
      "metadata": {
        "id": "PgISLwlGYpA8",
        "colab_type": "code",
        "colab": {
          "base_uri": "https://localhost:8080/",
          "height": 295
        },
        "outputId": "f75c1c24-2ef5-4240-db39-3a3df4d9bdaf"
      },
      "source": [
        "histogram3_w.plot(histogram3_w.data, histogram3_w.dataname, histogram3_w.bins)"
      ],
      "execution_count": 13,
      "outputs": [
        {
          "output_type": "display_data",
          "data": {
            "image/png": "[encoded data removed]",
            "text/plain": [
              "<Figure size 432x288 with 1 Axes>"
            ]
          },
          "metadata": {
            "tags": [],
            "needs_background": "light"
          }
        }
      ]
    },
    {
      "cell_type": "code",
      "metadata": {
        "id": "qpNdh8JTYsO8",
        "colab_type": "code",
        "colab": {
          "base_uri": "https://localhost:8080/",
          "height": 295
        },
        "outputId": "38c99982-a411-4613-d5ba-318a03bdec2b"
      },
      "source": [
        "histogram4_w.plot(histogram4_w.data, histogram4_w.dataname, histogram4_w.bins)"
      ],
      "execution_count": 14,
      "outputs": [
        {
          "output_type": "display_data",
          "data": {
            "image/png": "[encoded data removed]",
            "text/plain": [
              "<Figure size 432x288 with 1 Axes>"
            ]
          },
          "metadata": {
            "tags": [],
            "needs_background": "light"
          }
        }
      ]
    },
    {
      "cell_type": "code",
      "metadata": {
        "id": "g2Ow8bgwiCAQ",
        "colab_type": "code",
        "colab": {}
      },
      "source": [
        "from histogram import Histogram\n",
        "histogram1 = Histogram('Histogram of first element of h1', a1, max(a1), min(a1))\n",
        "histogram2 = Histogram('Histogram of second element of h1', b1, max(b1), min(b1))\n",
        "histogram3 = Histogram('Histogram of first element of h2', a2, max(a2), min(a2))\n",
        "histogram4 = Histogram('Histogram of second element of h2', b2, max(b2), min(b2))"
      ],
      "execution_count": 15,
      "outputs": []
    },
    {
      "cell_type": "code",
      "metadata": {
        "id": "Rcieh6y9memW",
        "colab_type": "code",
        "colab": {
          "base_uri": "https://localhost:8080/",
          "height": 295
        },
        "outputId": "8eb821d5-5a26-429c-f40f-135d612b40f9"
      },
      "source": [
        "histogram1.plot(histogram1.data, histogram1.dataname, histogram1.bins)"
      ],
      "execution_count": 16,
      "outputs": [
        {
          "output_type": "display_data",
          "data": {
            "image/png": "[encoded data removed]",
            "text/plain": [
              "<Figure size 432x288 with 1 Axes>"
            ]
          },
          "metadata": {
            "tags": [],
            "needs_background": "light"
          }
        }
      ]
    },
    {
      "cell_type": "code",
      "metadata": {
        "id": "62ph77eVmrHM",
        "colab_type": "code",
        "colab": {
          "base_uri": "https://localhost:8080/",
          "height": 295
        },
        "outputId": "8c07c576-1200-46cf-cd56-b47c5eda7f8b"
      },
      "source": [
        "histogram2.plot(histogram2.data, histogram2.dataname, histogram2.bins)"
      ],
      "execution_count": 17,
      "outputs": [
        {
          "output_type": "display_data",
          "data": {
            "image/png": "[encoded data removed]",
            "text/plain": [
              "<Figure size 432x288 with 1 Axes>"
            ]
          },
          "metadata": {
            "tags": [],
            "needs_background": "light"
          }
        }
      ]
    },
    {
      "cell_type": "code",
      "metadata": {
        "id": "vMuUi3oNmrjt",
        "colab_type": "code",
        "colab": {
          "base_uri": "https://localhost:8080/",
          "height": 295
        },
        "outputId": "dce593f3-a19a-4003-c849-2e8fec78c29e"
      },
      "source": [
        "histogram3.plot(histogram3.data, histogram3.dataname, histogram3.bins)"
      ],
      "execution_count": 18,
      "outputs": [
        {
          "output_type": "display_data",
          "data": {
            "image/png": "[encoded data removed]",
            "text/plain": [
              "<Figure size 432x288 with 1 Axes>"
            ]
          },
          "metadata": {
            "tags": [],
            "needs_background": "light"
          }
        }
      ]
    },
    {
      "cell_type": "code",
      "metadata": {
        "id": "baXj1rtqmr2a",
        "colab_type": "code",
        "colab": {
          "base_uri": "https://localhost:8080/",
          "height": 295
        },
        "outputId": "ceae29cc-4676-47df-9e97-36e4fc871e24"
      },
      "source": [
        "histogram4.plot(histogram4.data, histogram4.dataname, histogram4.bins)"
      ],
      "execution_count": 19,
      "outputs": [
        {
          "output_type": "display_data",
          "data": {
            "image/png": "[encoded data removed]",
            "text/plain": [
              "<Figure size 432x288 with 1 Axes>"
            ]
          },
          "metadata": {
            "tags": [],
            "needs_background": "light"
          }
        }
      ]
    }
  ]
}